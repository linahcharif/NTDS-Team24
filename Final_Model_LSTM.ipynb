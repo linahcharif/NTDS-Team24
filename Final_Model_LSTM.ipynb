{
 "cells": [
  {
   "cell_type": "markdown",
   "metadata": {
    "colab_type": "text",
    "id": "Tnr89AVpIE_0"
   },
   "source": [
    "# Preprocessing of the data"
   ]
  },
  {
   "cell_type": "code",
   "execution_count": 1,
   "metadata": {
    "colab": {
     "base_uri": "https://localhost:8080/",
     "height": 55
    },
    "colab_type": "code",
    "id": "g4K0qptsIE_2",
    "outputId": "b0d0ff3d-f682-4db8-b82a-dcbeca710947"
   },
   "outputs": [],
   "source": [
    "import numpy as np\n",
    "import pandas as pd\n",
    "import matplotlib.pyplot as plt\n",
    "import matplotlib.colors as mcolors\n",
    "import datetime\n",
    "import sklearn\n",
    "\n",
    "#from google.colab import drive\n",
    "#drive.mount('/content/drive')"
   ]
  },
  {
   "cell_type": "markdown",
   "metadata": {
    "colab_type": "text",
    "id": "tYxGHSz9IE_4"
   },
   "source": [
    "Import the data for the NJ train network. Month of March 2018. Drop the observations with NaN delay."
   ]
  },
  {
   "cell_type": "code",
   "execution_count": 2,
   "metadata": {
    "colab": {},
    "colab_type": "code",
    "id": "bpmvzos3IE_5"
   },
   "outputs": [],
   "source": [
    "#for colab : df = pd.read_csv('/content/Outward.csv')\n",
    "\n",
    "df = pd.read_csv('Outward.csv')\n",
    "df.dropna(subset=['delay_minutes'], inplace=True)\n",
    "df.reset_index(drop=True, inplace=True)"
   ]
  },
  {
   "cell_type": "markdown",
   "metadata": {
    "colab_type": "text",
    "id": "0vyknETDIE_7"
   },
   "source": [
    "Encoding the days of the week (0 : Monday ..., 6 : Sunday) "
   ]
  },
  {
   "cell_type": "code",
   "execution_count": 3,
   "metadata": {
    "colab": {},
    "colab_type": "code",
    "id": "LmKz3w0SIE_7"
   },
   "outputs": [],
   "source": [
    "day = []\n",
    "time = []\n",
    "\n",
    "for (k,v) in enumerate(df['actual_time']):\n",
    "    aux = datetime.datetime.strptime(v, '%Y-%m-%d %H:%M:%S')\n",
    "    time_only = aux.time()\n",
    "    day.append(aux.weekday())\n",
    "    time_in_min = time_only.hour*60 + time_only.minute\n",
    "    time.append(time_in_min)\n",
    "    \n",
    "df['day'] = day\n",
    "df['time'] = time"
   ]
  },
  {
   "cell_type": "code",
   "execution_count": 4,
   "metadata": {
    "colab": {
     "base_uri": "https://localhost:8080/",
     "height": 1000
    },
    "colab_type": "code",
    "id": "ghM02ODEIE_9",
    "outputId": "fd1b1148-b1ab-4ed8-f26e-54d8042485b5"
   },
   "outputs": [
    {
     "data": {
      "text/html": [
       "<div>\n",
       "<style scoped>\n",
       "    .dataframe tbody tr th:only-of-type {\n",
       "        vertical-align: middle;\n",
       "    }\n",
       "\n",
       "    .dataframe tbody tr th {\n",
       "        vertical-align: top;\n",
       "    }\n",
       "\n",
       "    .dataframe thead th {\n",
       "        text-align: right;\n",
       "    }\n",
       "</style>\n",
       "<table border=\"1\" class=\"dataframe\">\n",
       "  <thead>\n",
       "    <tr style=\"text-align: right;\">\n",
       "      <th></th>\n",
       "      <th>Unnamed: 0</th>\n",
       "      <th>date</th>\n",
       "      <th>train_id</th>\n",
       "      <th>stop_sequence</th>\n",
       "      <th>from</th>\n",
       "      <th>from_id</th>\n",
       "      <th>to</th>\n",
       "      <th>to_id</th>\n",
       "      <th>scheduled_time</th>\n",
       "      <th>actual_time</th>\n",
       "      <th>delay_minutes</th>\n",
       "      <th>status</th>\n",
       "      <th>line</th>\n",
       "      <th>type</th>\n",
       "      <th>day</th>\n",
       "      <th>time</th>\n",
       "    </tr>\n",
       "  </thead>\n",
       "  <tbody>\n",
       "    <tr>\n",
       "      <td>0</td>\n",
       "      <td>0</td>\n",
       "      <td>2018-03-01</td>\n",
       "      <td>3805</td>\n",
       "      <td>1.0</td>\n",
       "      <td>New York Penn Station</td>\n",
       "      <td>105</td>\n",
       "      <td>New York Penn Station</td>\n",
       "      <td>105</td>\n",
       "      <td>2018-03-02 01:22:00</td>\n",
       "      <td>2018-03-02 01:21:05</td>\n",
       "      <td>0.000000</td>\n",
       "      <td>departed</td>\n",
       "      <td>Northeast Corrdr</td>\n",
       "      <td>NJ Transit</td>\n",
       "      <td>4</td>\n",
       "      <td>81</td>\n",
       "    </tr>\n",
       "    <tr>\n",
       "      <td>1</td>\n",
       "      <td>1</td>\n",
       "      <td>2018-03-01</td>\n",
       "      <td>3805</td>\n",
       "      <td>2.0</td>\n",
       "      <td>New York Penn Station</td>\n",
       "      <td>105</td>\n",
       "      <td>Secaucus Upper Lvl</td>\n",
       "      <td>38187</td>\n",
       "      <td>2018-03-02 01:31:00</td>\n",
       "      <td>2018-03-02 01:31:08</td>\n",
       "      <td>0.133333</td>\n",
       "      <td>departed</td>\n",
       "      <td>Northeast Corrdr</td>\n",
       "      <td>NJ Transit</td>\n",
       "      <td>4</td>\n",
       "      <td>91</td>\n",
       "    </tr>\n",
       "    <tr>\n",
       "      <td>2</td>\n",
       "      <td>2</td>\n",
       "      <td>2018-03-01</td>\n",
       "      <td>3805</td>\n",
       "      <td>3.0</td>\n",
       "      <td>Secaucus Upper Lvl</td>\n",
       "      <td>38187</td>\n",
       "      <td>Newark Penn Station</td>\n",
       "      <td>107</td>\n",
       "      <td>2018-03-02 01:40:00</td>\n",
       "      <td>2018-03-02 01:40:07</td>\n",
       "      <td>0.116667</td>\n",
       "      <td>departed</td>\n",
       "      <td>Northeast Corrdr</td>\n",
       "      <td>NJ Transit</td>\n",
       "      <td>4</td>\n",
       "      <td>100</td>\n",
       "    </tr>\n",
       "    <tr>\n",
       "      <td>3</td>\n",
       "      <td>3</td>\n",
       "      <td>2018-03-01</td>\n",
       "      <td>3805</td>\n",
       "      <td>4.0</td>\n",
       "      <td>Newark Penn Station</td>\n",
       "      <td>107</td>\n",
       "      <td>Newark Airport</td>\n",
       "      <td>37953</td>\n",
       "      <td>2018-03-02 01:45:00</td>\n",
       "      <td>2018-03-02 01:45:10</td>\n",
       "      <td>0.166667</td>\n",
       "      <td>departed</td>\n",
       "      <td>Northeast Corrdr</td>\n",
       "      <td>NJ Transit</td>\n",
       "      <td>4</td>\n",
       "      <td>105</td>\n",
       "    </tr>\n",
       "    <tr>\n",
       "      <td>4</td>\n",
       "      <td>4</td>\n",
       "      <td>2018-03-01</td>\n",
       "      <td>3805</td>\n",
       "      <td>5.0</td>\n",
       "      <td>Newark Airport</td>\n",
       "      <td>37953</td>\n",
       "      <td>North Elizabeth</td>\n",
       "      <td>109</td>\n",
       "      <td>2018-03-02 01:49:00</td>\n",
       "      <td>2018-03-02 01:49:10</td>\n",
       "      <td>0.166667</td>\n",
       "      <td>departed</td>\n",
       "      <td>Northeast Corrdr</td>\n",
       "      <td>NJ Transit</td>\n",
       "      <td>4</td>\n",
       "      <td>109</td>\n",
       "    </tr>\n",
       "  </tbody>\n",
       "</table>\n",
       "</div>"
      ],
      "text/plain": [
       "   Unnamed: 0        date  train_id  stop_sequence                   from  \\\n",
       "0           0  2018-03-01      3805            1.0  New York Penn Station   \n",
       "1           1  2018-03-01      3805            2.0  New York Penn Station   \n",
       "2           2  2018-03-01      3805            3.0     Secaucus Upper Lvl   \n",
       "3           3  2018-03-01      3805            4.0    Newark Penn Station   \n",
       "4           4  2018-03-01      3805            5.0         Newark Airport   \n",
       "\n",
       "   from_id                     to  to_id       scheduled_time  \\\n",
       "0      105  New York Penn Station    105  2018-03-02 01:22:00   \n",
       "1      105     Secaucus Upper Lvl  38187  2018-03-02 01:31:00   \n",
       "2    38187    Newark Penn Station    107  2018-03-02 01:40:00   \n",
       "3      107         Newark Airport  37953  2018-03-02 01:45:00   \n",
       "4    37953        North Elizabeth    109  2018-03-02 01:49:00   \n",
       "\n",
       "           actual_time  delay_minutes    status              line        type  \\\n",
       "0  2018-03-02 01:21:05       0.000000  departed  Northeast Corrdr  NJ Transit   \n",
       "1  2018-03-02 01:31:08       0.133333  departed  Northeast Corrdr  NJ Transit   \n",
       "2  2018-03-02 01:40:07       0.116667  departed  Northeast Corrdr  NJ Transit   \n",
       "3  2018-03-02 01:45:10       0.166667  departed  Northeast Corrdr  NJ Transit   \n",
       "4  2018-03-02 01:49:10       0.166667  departed  Northeast Corrdr  NJ Transit   \n",
       "\n",
       "   day  time  \n",
       "0    4    81  \n",
       "1    4    91  \n",
       "2    4   100  \n",
       "3    4   105  \n",
       "4    4   109  "
      ]
     },
     "execution_count": 4,
     "metadata": {},
     "output_type": "execute_result"
    }
   ],
   "source": [
    "df.head(n=5)"
   ]
  },
  {
   "cell_type": "markdown",
   "metadata": {
    "colab_type": "text",
    "id": "VjNE72GaIFAA"
   },
   "source": [
    "Encoding the line names and the departure station with label encoding"
   ]
  },
  {
   "cell_type": "code",
   "execution_count": 5,
   "metadata": {
    "colab": {},
    "colab_type": "code",
    "id": "u4R7T4bKIFAB"
   },
   "outputs": [],
   "source": [
    "from sklearn import preprocessing\n",
    "\n",
    "le = preprocessing.LabelEncoder()\n",
    "\n",
    "df['line'] = le.fit_transform(df['line'])\n",
    "df['from_id'] = le.fit_transform(df['from_id'])\n",
    "df['train_id'] = le.fit_transform(df['train_id'])"
   ]
  },
  {
   "cell_type": "code",
   "execution_count": 6,
   "metadata": {
    "colab": {
     "base_uri": "https://localhost:8080/",
     "height": 395
    },
    "colab_type": "code",
    "id": "jK-NFLV4IFAC",
    "outputId": "867ecfb5-7bdf-4302-ac65-ba48e743a96f"
   },
   "outputs": [
    {
     "data": {
      "text/html": [
       "<div>\n",
       "<style scoped>\n",
       "    .dataframe tbody tr th:only-of-type {\n",
       "        vertical-align: middle;\n",
       "    }\n",
       "\n",
       "    .dataframe tbody tr th {\n",
       "        vertical-align: top;\n",
       "    }\n",
       "\n",
       "    .dataframe thead th {\n",
       "        text-align: right;\n",
       "    }\n",
       "</style>\n",
       "<table border=\"1\" class=\"dataframe\">\n",
       "  <thead>\n",
       "    <tr style=\"text-align: right;\">\n",
       "      <th></th>\n",
       "      <th>Unnamed: 0</th>\n",
       "      <th>date</th>\n",
       "      <th>train_id</th>\n",
       "      <th>stop_sequence</th>\n",
       "      <th>from</th>\n",
       "      <th>from_id</th>\n",
       "      <th>to</th>\n",
       "      <th>to_id</th>\n",
       "      <th>scheduled_time</th>\n",
       "      <th>actual_time</th>\n",
       "      <th>delay_minutes</th>\n",
       "      <th>status</th>\n",
       "      <th>line</th>\n",
       "      <th>type</th>\n",
       "      <th>day</th>\n",
       "      <th>time</th>\n",
       "    </tr>\n",
       "  </thead>\n",
       "  <tbody>\n",
       "    <tr>\n",
       "      <td>0</td>\n",
       "      <td>0</td>\n",
       "      <td>2018-03-01</td>\n",
       "      <td>262</td>\n",
       "      <td>1.0</td>\n",
       "      <td>New York Penn Station</td>\n",
       "      <td>85</td>\n",
       "      <td>New York Penn Station</td>\n",
       "      <td>105</td>\n",
       "      <td>2018-03-02 01:22:00</td>\n",
       "      <td>2018-03-02 01:21:05</td>\n",
       "      <td>0.000000</td>\n",
       "      <td>departed</td>\n",
       "      <td>6</td>\n",
       "      <td>NJ Transit</td>\n",
       "      <td>4</td>\n",
       "      <td>81</td>\n",
       "    </tr>\n",
       "    <tr>\n",
       "      <td>1</td>\n",
       "      <td>1</td>\n",
       "      <td>2018-03-01</td>\n",
       "      <td>262</td>\n",
       "      <td>2.0</td>\n",
       "      <td>New York Penn Station</td>\n",
       "      <td>85</td>\n",
       "      <td>Secaucus Upper Lvl</td>\n",
       "      <td>38187</td>\n",
       "      <td>2018-03-02 01:31:00</td>\n",
       "      <td>2018-03-02 01:31:08</td>\n",
       "      <td>0.133333</td>\n",
       "      <td>departed</td>\n",
       "      <td>6</td>\n",
       "      <td>NJ Transit</td>\n",
       "      <td>4</td>\n",
       "      <td>91</td>\n",
       "    </tr>\n",
       "    <tr>\n",
       "      <td>2</td>\n",
       "      <td>2</td>\n",
       "      <td>2018-03-01</td>\n",
       "      <td>262</td>\n",
       "      <td>3.0</td>\n",
       "      <td>Secaucus Upper Lvl</td>\n",
       "      <td>143</td>\n",
       "      <td>Newark Penn Station</td>\n",
       "      <td>107</td>\n",
       "      <td>2018-03-02 01:40:00</td>\n",
       "      <td>2018-03-02 01:40:07</td>\n",
       "      <td>0.116667</td>\n",
       "      <td>departed</td>\n",
       "      <td>6</td>\n",
       "      <td>NJ Transit</td>\n",
       "      <td>4</td>\n",
       "      <td>100</td>\n",
       "    </tr>\n",
       "    <tr>\n",
       "      <td>3</td>\n",
       "      <td>3</td>\n",
       "      <td>2018-03-01</td>\n",
       "      <td>262</td>\n",
       "      <td>4.0</td>\n",
       "      <td>Newark Penn Station</td>\n",
       "      <td>87</td>\n",
       "      <td>Newark Airport</td>\n",
       "      <td>37953</td>\n",
       "      <td>2018-03-02 01:45:00</td>\n",
       "      <td>2018-03-02 01:45:10</td>\n",
       "      <td>0.166667</td>\n",
       "      <td>departed</td>\n",
       "      <td>6</td>\n",
       "      <td>NJ Transit</td>\n",
       "      <td>4</td>\n",
       "      <td>105</td>\n",
       "    </tr>\n",
       "    <tr>\n",
       "      <td>4</td>\n",
       "      <td>4</td>\n",
       "      <td>2018-03-01</td>\n",
       "      <td>262</td>\n",
       "      <td>5.0</td>\n",
       "      <td>Newark Airport</td>\n",
       "      <td>139</td>\n",
       "      <td>North Elizabeth</td>\n",
       "      <td>109</td>\n",
       "      <td>2018-03-02 01:49:00</td>\n",
       "      <td>2018-03-02 01:49:10</td>\n",
       "      <td>0.166667</td>\n",
       "      <td>departed</td>\n",
       "      <td>6</td>\n",
       "      <td>NJ Transit</td>\n",
       "      <td>4</td>\n",
       "      <td>109</td>\n",
       "    </tr>\n",
       "  </tbody>\n",
       "</table>\n",
       "</div>"
      ],
      "text/plain": [
       "   Unnamed: 0        date  train_id  stop_sequence                   from  \\\n",
       "0           0  2018-03-01       262            1.0  New York Penn Station   \n",
       "1           1  2018-03-01       262            2.0  New York Penn Station   \n",
       "2           2  2018-03-01       262            3.0     Secaucus Upper Lvl   \n",
       "3           3  2018-03-01       262            4.0    Newark Penn Station   \n",
       "4           4  2018-03-01       262            5.0         Newark Airport   \n",
       "\n",
       "   from_id                     to  to_id       scheduled_time  \\\n",
       "0       85  New York Penn Station    105  2018-03-02 01:22:00   \n",
       "1       85     Secaucus Upper Lvl  38187  2018-03-02 01:31:00   \n",
       "2      143    Newark Penn Station    107  2018-03-02 01:40:00   \n",
       "3       87         Newark Airport  37953  2018-03-02 01:45:00   \n",
       "4      139        North Elizabeth    109  2018-03-02 01:49:00   \n",
       "\n",
       "           actual_time  delay_minutes    status  line        type  day  time  \n",
       "0  2018-03-02 01:21:05       0.000000  departed     6  NJ Transit    4    81  \n",
       "1  2018-03-02 01:31:08       0.133333  departed     6  NJ Transit    4    91  \n",
       "2  2018-03-02 01:40:07       0.116667  departed     6  NJ Transit    4   100  \n",
       "3  2018-03-02 01:45:10       0.166667  departed     6  NJ Transit    4   105  \n",
       "4  2018-03-02 01:49:10       0.166667  departed     6  NJ Transit    4   109  "
      ]
     },
     "execution_count": 6,
     "metadata": {},
     "output_type": "execute_result"
    }
   ],
   "source": [
    "df.head(5)"
   ]
  },
  {
   "cell_type": "code",
   "execution_count": 7,
   "metadata": {
    "colab": {},
    "colab_type": "code",
    "id": "FdT9gguPIFAE"
   },
   "outputs": [],
   "source": [
    "df.drop(columns = ['date','from','to','to_id','scheduled_time','status','type','actual_time'], inplace = True)"
   ]
  },
  {
   "cell_type": "code",
   "execution_count": 8,
   "metadata": {
    "colab": {},
    "colab_type": "code",
    "id": "3BZGAhJwIFAG"
   },
   "outputs": [],
   "source": [
    "df.head(n=5)\n",
    "df['delay_seconds'] = df['delay_minutes']*60\n",
    "df.drop(columns=['delay_minutes'],inplace=True)\n",
    "#len(df)\n"
   ]
  },
  {
   "cell_type": "code",
   "execution_count": 9,
   "metadata": {
    "colab": {
     "base_uri": "https://localhost:8080/",
     "height": 35
    },
    "colab_type": "code",
    "id": "ix4U53paIFAI",
    "outputId": "6afbc2d2-aade-432d-c668-69efbc4fc67d"
   },
   "outputs": [
    {
     "data": {
      "text/plain": [
       "19403"
      ]
     },
     "execution_count": 9,
     "metadata": {},
     "output_type": "execute_result"
    }
   ],
   "source": [
    "df.sort_values(by=['train_id','day'])\n",
    "df.head(50)\n",
    "len(df[df['line']==6])"
   ]
  },
  {
   "cell_type": "code",
   "execution_count": 10,
   "metadata": {
    "colab": {
     "base_uri": "https://localhost:8080/",
     "height": 202
    },
    "colab_type": "code",
    "id": "Pe-4Zy-cIFAK",
    "outputId": "33a7dee4-7b04-4c9b-885d-442a7cdb4d22"
   },
   "outputs": [
    {
     "data": {
      "text/html": [
       "<div>\n",
       "<style scoped>\n",
       "    .dataframe tbody tr th:only-of-type {\n",
       "        vertical-align: middle;\n",
       "    }\n",
       "\n",
       "    .dataframe tbody tr th {\n",
       "        vertical-align: top;\n",
       "    }\n",
       "\n",
       "    .dataframe thead th {\n",
       "        text-align: right;\n",
       "    }\n",
       "</style>\n",
       "<table border=\"1\" class=\"dataframe\">\n",
       "  <thead>\n",
       "    <tr style=\"text-align: right;\">\n",
       "      <th></th>\n",
       "      <th>Unnamed: 0</th>\n",
       "      <th>train_id</th>\n",
       "      <th>stop_sequence</th>\n",
       "      <th>from_id</th>\n",
       "      <th>line</th>\n",
       "      <th>day</th>\n",
       "      <th>time</th>\n",
       "      <th>delay_seconds</th>\n",
       "    </tr>\n",
       "  </thead>\n",
       "  <tbody>\n",
       "    <tr>\n",
       "      <td>0</td>\n",
       "      <td>0</td>\n",
       "      <td>262</td>\n",
       "      <td>1.0</td>\n",
       "      <td>85</td>\n",
       "      <td>6</td>\n",
       "      <td>4</td>\n",
       "      <td>81</td>\n",
       "      <td>0.0</td>\n",
       "    </tr>\n",
       "    <tr>\n",
       "      <td>1</td>\n",
       "      <td>1</td>\n",
       "      <td>262</td>\n",
       "      <td>2.0</td>\n",
       "      <td>85</td>\n",
       "      <td>6</td>\n",
       "      <td>4</td>\n",
       "      <td>91</td>\n",
       "      <td>8.0</td>\n",
       "    </tr>\n",
       "    <tr>\n",
       "      <td>2</td>\n",
       "      <td>2</td>\n",
       "      <td>262</td>\n",
       "      <td>3.0</td>\n",
       "      <td>143</td>\n",
       "      <td>6</td>\n",
       "      <td>4</td>\n",
       "      <td>100</td>\n",
       "      <td>7.0</td>\n",
       "    </tr>\n",
       "    <tr>\n",
       "      <td>3</td>\n",
       "      <td>3</td>\n",
       "      <td>262</td>\n",
       "      <td>4.0</td>\n",
       "      <td>87</td>\n",
       "      <td>6</td>\n",
       "      <td>4</td>\n",
       "      <td>105</td>\n",
       "      <td>10.0</td>\n",
       "    </tr>\n",
       "    <tr>\n",
       "      <td>4</td>\n",
       "      <td>4</td>\n",
       "      <td>262</td>\n",
       "      <td>5.0</td>\n",
       "      <td>139</td>\n",
       "      <td>6</td>\n",
       "      <td>4</td>\n",
       "      <td>109</td>\n",
       "      <td>10.0</td>\n",
       "    </tr>\n",
       "  </tbody>\n",
       "</table>\n",
       "</div>"
      ],
      "text/plain": [
       "   Unnamed: 0  train_id  stop_sequence  from_id  line  day  time  \\\n",
       "0           0       262            1.0       85     6    4    81   \n",
       "1           1       262            2.0       85     6    4    91   \n",
       "2           2       262            3.0      143     6    4   100   \n",
       "3           3       262            4.0       87     6    4   105   \n",
       "4           4       262            5.0      139     6    4   109   \n",
       "\n",
       "   delay_seconds  \n",
       "0            0.0  \n",
       "1            8.0  \n",
       "2            7.0  \n",
       "3           10.0  \n",
       "4           10.0  "
      ]
     },
     "execution_count": 10,
     "metadata": {},
     "output_type": "execute_result"
    }
   ],
   "source": [
    "df.head(5)"
   ]
  },
  {
   "cell_type": "markdown",
   "metadata": {
    "colab_type": "text",
    "id": "Jbi3ltjR9t0Z"
   },
   "source": [
    "Trial on one line, for one stop"
   ]
  },
  {
   "cell_type": "code",
   "execution_count": 11,
   "metadata": {
    "colab": {
     "base_uri": "https://localhost:8080/",
     "height": 171
    },
    "colab_type": "code",
    "id": "mKGopVdR6Y9H",
    "outputId": "f716f5e0-5197-45cc-a4ef-4be73f60f8a6"
   },
   "outputs": [
    {
     "name": "stderr",
     "output_type": "stream",
     "text": [
      "Using TensorFlow backend.\n"
     ]
    }
   ],
   "source": [
    "#The create_dataset function is greatly inspired by : \n",
    "#https://machinelearningmastery.com/time-series-prediction-lstm-recurrent-neural-networks-python-keras/\n",
    "\n",
    "# LSTM with window regression framing\n",
    "\n",
    "import numpy\n",
    "import matplotlib.pyplot as plt\n",
    "from pandas import read_csv\n",
    "import math\n",
    "from keras.models import Sequential\n",
    "from keras.layers import Dense\n",
    "from keras.layers import LSTM\n",
    "from sklearn.preprocessing import MinMaxScaler\n",
    "from sklearn.metrics import mean_squared_error\n",
    "\n",
    "#for colab : \n",
    "#import tensorflow.compat.v1 as tf\n",
    "#tf.disable_v2_behavior()\n",
    "\n",
    "# convert an array of values into a dataset matrix\n",
    "def create_dataset(dataset, look_back=1):\n",
    "    dataX, dataY = [], []\n",
    "    for i in range(len(dataset)-look_back-1):\n",
    "        a = dataset[i:(i+look_back), :] #it can take as many features as we want \n",
    "        dataX.append(a)\n",
    "        dataY.append(dataset[i + look_back, 0])\n",
    "    return numpy.array(dataX), numpy.array(dataY)"
   ]
  },
  {
   "cell_type": "code",
   "execution_count": 12,
   "metadata": {
    "colab": {},
    "colab_type": "code",
    "id": "8QZenmbf7xHo"
   },
   "outputs": [],
   "source": [
    "# fix random seed for reproducibility\n",
    "numpy.random.seed(7)\n",
    "\n",
    "# load the dataset, I chose to work on line 6 only as an example\n",
    "df_line_6 = df[df['line']==6]\n",
    "dataset = df_line_6[['delay_seconds','time']] #adding delays and actual time as a feature\n",
    "\n",
    "# normalize the dataset\n",
    "scaler = MinMaxScaler(feature_range=(0, 1))\n",
    "dataset = scaler.fit_transform(dataset)\n",
    "\n",
    "dataset_test = dataset[df_line_6['stop_sequence'] == 10]\n",
    "dataset_train = dataset[df_line_6['stop_sequence'] != 10]\n",
    "\n",
    "#dataset_test = dataset_test.values\n",
    "dataset_test = dataset_test.astype('float32')\n",
    "\n",
    "#dataset_train = dataset_train.values\n",
    "dataset_train = dataset_train.astype('float32')\n"
   ]
  },
  {
   "cell_type": "code",
   "execution_count": 13,
   "metadata": {
    "colab": {
     "base_uri": "https://localhost:8080/",
     "height": 69
    },
    "colab_type": "code",
    "id": "jvBrtySKUrOZ",
    "outputId": "2b59277b-48b7-499a-f020-3c883941c588"
   },
   "outputs": [
    {
     "name": "stdout",
     "output_type": "stream",
     "text": [
      "(19403, 2)\n",
      "(18270, 2)\n",
      "(1133, 2)\n"
     ]
    }
   ],
   "source": [
    "#Sanity check\n",
    "\n",
    "print(dataset.shape)\n",
    "print(dataset_train.shape)\n",
    "print(dataset_test.shape)"
   ]
  },
  {
   "cell_type": "code",
   "execution_count": 14,
   "metadata": {
    "colab": {},
    "colab_type": "code",
    "id": "WjWEfN8FNbWA"
   },
   "outputs": [],
   "source": [
    "# split into train and test sets\n",
    "train = dataset_train\n",
    "test = dataset_test\n",
    "\n",
    "# reshape into X=t and Y=t+look_back-1\n",
    "look_back = 4 #for example\n",
    "trainX, trainY = create_dataset(train, look_back)\n",
    "testX, testY = create_dataset(test, look_back)\n",
    "\n",
    "# reshape input dimensions to be [delay, time, features] with the features being the previous delays and time\n",
    "trainX = numpy.reshape(trainX, (trainX.shape[0], trainX.shape[1], trainX.shape[2]))\n",
    "testX = numpy.reshape(testX, (testX.shape[0], testX.shape[1], testX.shape[2]))"
   ]
  },
  {
   "cell_type": "code",
   "execution_count": 15,
   "metadata": {
    "colab": {
     "base_uri": "https://localhost:8080/",
     "height": 52
    },
    "colab_type": "code",
    "id": "oqCRwIr-YkRP",
    "outputId": "978a7d15-b682-4c7d-d240-55d0d64b8728"
   },
   "outputs": [
    {
     "name": "stdout",
     "output_type": "stream",
     "text": [
      "(1128, 4, 2)\n",
      "(1128,)\n"
     ]
    }
   ],
   "source": [
    "#Sanity check\n",
    "\n",
    "print(testX.shape)\n",
    "print(testY.shape)"
   ]
  },
  {
   "cell_type": "code",
   "execution_count": 16,
   "metadata": {
    "colab": {
     "base_uri": "https://localhost:8080/",
     "height": 1000
    },
    "colab_type": "code",
    "id": "G1igqXKWNfmT",
    "outputId": "50be1893-2293-42f5-a801-270d07c05fb8"
   },
   "outputs": [
    {
     "name": "stdout",
     "output_type": "stream",
     "text": [
      "Epoch 1/10\n",
      " - 35s - loss: 0.0032\n",
      "Epoch 2/10\n",
      " - 36s - loss: 0.0027\n",
      "Epoch 3/10\n",
      " - 38s - loss: 0.0027\n",
      "Epoch 4/10\n",
      " - 43s - loss: 0.0027\n",
      "Epoch 5/10\n",
      " - 42s - loss: 0.0027\n",
      "Epoch 6/10\n",
      " - 39s - loss: 0.0027\n",
      "Epoch 7/10\n",
      " - 37s - loss: 0.0026\n",
      "Epoch 8/10\n",
      " - 37s - loss: 0.0027\n",
      "Epoch 9/10\n",
      " - 37s - loss: 0.0026\n",
      "Epoch 10/10\n",
      " - 38s - loss: 0.0026\n",
      "Model: \"sequential_1\"\n",
      "_________________________________________________________________\n",
      "Layer (type)                 Output Shape              Param #   \n",
      "=================================================================\n",
      "lstm_1 (LSTM)                (None, 10)                520       \n",
      "_________________________________________________________________\n",
      "dense_1 (Dense)              (None, 1)                 11        \n",
      "=================================================================\n",
      "Total params: 531\n",
      "Trainable params: 531\n",
      "Non-trainable params: 0\n",
      "_________________________________________________________________\n"
     ]
    }
   ],
   "source": [
    "# create and fit the LSTM network\n",
    "model = Sequential()\n",
    "model.add(LSTM(10, input_shape=(look_back, 2)))\n",
    "model.add(Dense(1))\n",
    "model.compile(loss='mean_squared_error', optimizer='adam')\n",
    "model.fit(trainX, trainY, epochs=10, batch_size=1, verbose=2)\n",
    "model.summary()"
   ]
  },
  {
   "cell_type": "code",
   "execution_count": 17,
   "metadata": {
    "colab": {},
    "colab_type": "code",
    "id": "-hPn4T5PNkRN"
   },
   "outputs": [],
   "source": [
    "# make predictions\n",
    "trainPredict = model.predict(trainX)\n",
    "testPredict = model.predict(testX)"
   ]
  },
  {
   "cell_type": "code",
   "execution_count": 18,
   "metadata": {
    "colab": {},
    "colab_type": "code",
    "id": "otYZx_9iuD8m"
   },
   "outputs": [],
   "source": [
    "#for now, manual inverse scaling, so we should get the min and max for each set\n",
    "\n",
    "df_stop_test = df_line_6[df_line_6['stop_sequence']==10]\n",
    "df_groundtruth_test = df_stop_test['delay_seconds']\n",
    "\n",
    "df_stop_train = df_line_6[df_line_6['stop_sequence']!=10]\n",
    "df_groundtruth_train = df_stop_train['delay_seconds']\n"
   ]
  },
  {
   "cell_type": "code",
   "execution_count": 19,
   "metadata": {
    "colab": {
     "base_uri": "https://localhost:8080/",
     "height": 52
    },
    "colab_type": "code",
    "id": "N2Cx3cLRxR-y",
    "outputId": "cc0844cb-fb6d-45ec-8a44-b1149b56a1fc"
   },
   "outputs": [
    {
     "name": "stdout",
     "output_type": "stream",
     "text": [
      "5100.0\n",
      "5305.000000002\n"
     ]
    }
   ],
   "source": [
    "print(np.max(df_groundtruth_test))\n",
    "print(np.max(df_groundtruth_train))"
   ]
  },
  {
   "cell_type": "code",
   "execution_count": 20,
   "metadata": {
    "colab": {},
    "colab_type": "code",
    "id": "lBMDpGN8NopB"
   },
   "outputs": [],
   "source": [
    "#Inverse scaling\n",
    "\n",
    "trainPredict_norm = trainPredict*5305\n",
    "testPredict_norm = testPredict*5305\n",
    "trainY_norm = trainY*5305\n",
    "testY_norm = testY*5305"
   ]
  },
  {
   "cell_type": "code",
   "execution_count": 21,
   "metadata": {
    "colab": {
     "base_uri": "https://localhost:8080/",
     "height": 52
    },
    "colab_type": "code",
    "id": "kM76QaEQNrT9",
    "outputId": "e0b746ef-2d68-41c1-b9e4-58f957015a56"
   },
   "outputs": [
    {
     "name": "stdout",
     "output_type": "stream",
     "text": [
      "Train Score in minutes: 4.50 RMSE\n",
      "Test Score in minutes: 10.13 RMSE\n"
     ]
    }
   ],
   "source": [
    "# calculate root mean squared error\n",
    "trainScore = math.sqrt(mean_squared_error(trainY_norm, trainPredict_norm[:,0]))\n",
    "print('Train Score in minutes: %.2f RMSE' % (trainScore/60))\n",
    "testScore = math.sqrt(mean_squared_error(testY_norm, testPredict_norm[:,0]))\n",
    "print('Test Score in minutes: %.2f RMSE' % (testScore/60))"
   ]
  },
  {
   "cell_type": "code",
   "execution_count": 22,
   "metadata": {
    "colab": {
     "base_uri": "https://localhost:8080/",
     "height": 202
    },
    "colab_type": "code",
    "id": "nfEnNcH9sB2V",
    "outputId": "a2976293-7cb9-4fb1-adba-6c03bcdc2b6b"
   },
   "outputs": [
    {
     "data": {
      "text/html": [
       "<div>\n",
       "<style scoped>\n",
       "    .dataframe tbody tr th:only-of-type {\n",
       "        vertical-align: middle;\n",
       "    }\n",
       "\n",
       "    .dataframe tbody tr th {\n",
       "        vertical-align: top;\n",
       "    }\n",
       "\n",
       "    .dataframe thead th {\n",
       "        text-align: right;\n",
       "    }\n",
       "</style>\n",
       "<table border=\"1\" class=\"dataframe\">\n",
       "  <thead>\n",
       "    <tr style=\"text-align: right;\">\n",
       "      <th></th>\n",
       "      <th>Time [hour]</th>\n",
       "      <th>TestY [min]</th>\n",
       "      <th>Predict [min]</th>\n",
       "      <th>Groundtruth [min]</th>\n",
       "    </tr>\n",
       "  </thead>\n",
       "  <tbody>\n",
       "    <tr>\n",
       "      <td>511</td>\n",
       "      <td>16.633333</td>\n",
       "      <td>1.092206</td>\n",
       "      <td>47.163326</td>\n",
       "      <td>1.050000</td>\n",
       "    </tr>\n",
       "    <tr>\n",
       "      <td>582</td>\n",
       "      <td>17.366667</td>\n",
       "      <td>1.248235</td>\n",
       "      <td>3.472070</td>\n",
       "      <td>1.200000</td>\n",
       "    </tr>\n",
       "    <tr>\n",
       "      <td>945</td>\n",
       "      <td>10.483333</td>\n",
       "      <td>36.701588</td>\n",
       "      <td>1.963092</td>\n",
       "      <td>35.283333</td>\n",
       "    </tr>\n",
       "    <tr>\n",
       "      <td>1018</td>\n",
       "      <td>9.016667</td>\n",
       "      <td>1.300245</td>\n",
       "      <td>29.474165</td>\n",
       "      <td>1.250000</td>\n",
       "    </tr>\n",
       "    <tr>\n",
       "      <td>1331</td>\n",
       "      <td>22.816667</td>\n",
       "      <td>2.236421</td>\n",
       "      <td>3.013185</td>\n",
       "      <td>2.150000</td>\n",
       "    </tr>\n",
       "  </tbody>\n",
       "</table>\n",
       "</div>"
      ],
      "text/plain": [
       "      Time [hour]  TestY [min]  Predict [min]  Groundtruth [min]\n",
       "511     16.633333     1.092206      47.163326           1.050000\n",
       "582     17.366667     1.248235       3.472070           1.200000\n",
       "945     10.483333    36.701588       1.963092          35.283333\n",
       "1018     9.016667     1.300245      29.474165           1.250000\n",
       "1331    22.816667     2.236421       3.013185           2.150000"
      ]
     },
     "execution_count": 22,
     "metadata": {},
     "output_type": "execute_result"
    }
   ],
   "source": [
    "#Transform back to delays in minutes, the time still has to change too\n",
    "\n",
    "groundtruth_test = df_groundtruth_test.to_numpy()\n",
    "groundtruth_train = df_groundtruth_train.to_numpy()\n",
    "\n",
    "df_time = df['time'][(df['line'] == 6) & (df['stop_sequence']==10)]/60\n",
    "np.max(df_time)\n",
    "\n",
    "df_test_plot = pd.DataFrame()\n",
    "df_test_plot['Time [hour]'] = df_time[4:-1] \n",
    "df_test_plot['TestY [min]'] = testY_norm*5305/5100/60\n",
    "df_test_plot['Predict [min]'] = testPredict_norm/60\n",
    "df_test_plot['Groundtruth [min]'] = groundtruth_test[4:-1]/60 #attention to this, caused by the look back\n",
    "\n",
    "df_test_plot.head() #sanity check"
   ]
  },
  {
   "cell_type": "code",
   "execution_count": 33,
   "metadata": {
    "colab": {
     "base_uri": "https://localhost:8080/",
     "height": 281
    },
    "colab_type": "code",
    "id": "8zR4evYwNzy1",
    "outputId": "aac68475-3842-4ee9-e8dd-f5c43dab7bc8"
   },
   "outputs": [
    {
     "data": {
      "image/png": "[encoded data removed]",
      "text/plain": [
       "<Figure size 432x288 with 1 Axes>"
      ]
     },
     "metadata": {
      "needs_background": "light"
     },
     "output_type": "display_data"
    }
   ],
   "source": [
    "ax1 = plt.scatter(df_test_plot['Time [hour]'],df_test_plot['Groundtruth [min]'],label='Groundtruth')\n",
    "ax2 = plt.scatter(df_test_plot['Time [hour]'],df_test_plot['Predict [min]'],label='Prediction')\n",
    "#plt.title('Prediction of delays at stop \"Metropark\", on line \"Northeast Corridor\" for outward trips ')\n",
    "plt.ylabel('Delay [min]')\n",
    "plt.xlabel('Time of the day')\n",
    "plt.legend()\n",
    "plt.savefig('./Images and Gifs/LSTM_plot.pdf')\n",
    "\n",
    "plt.show()\n"
   ]
  },
  {
   "cell_type": "code",
   "execution_count": null,
   "metadata": {
    "colab": {},
    "colab_type": "code",
    "id": "Swcx29qnhCEG"
   },
   "outputs": [],
   "source": []
  }
 ],
 "metadata": {
  "colab": {
   "collapsed_sections": [],
   "name": "Final_Model_LSTM.ipynb",
   "provenance": []
  },
  "kernelspec": {
   "display_name": "Python 3",
   "language": "python",
   "name": "python3"
  },
  "language_info": {
   "codemirror_mode": {
    "name": "ipython",
    "version": 3
   },
   "file_extension": ".py",
   "mimetype": "text/x-python",
   "name": "python",
   "nbconvert_exporter": "python",
   "pygments_lexer": "ipython3",
   "version": "3.7.3"
  }
 },
 "nbformat": 4,
 "nbformat_minor": 1
}
