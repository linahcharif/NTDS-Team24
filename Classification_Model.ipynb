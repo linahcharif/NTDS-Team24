{
 "cells": [
  {
   "cell_type": "markdown",
   "metadata": {},
   "source": [
    "# Preprocessing of the data"
   ]
  },
  {
   "cell_type": "code",
   "execution_count": 16,
   "metadata": {},
   "outputs": [],
   "source": [
    "import numpy as np\n",
    "import pandas as pd\n",
    "import matplotlib.pyplot as plt\n",
    "import matplotlib.colors as mcolors\n",
    "import datetime\n",
    "import sklearn"
   ]
  },
  {
   "cell_type": "markdown",
   "metadata": {},
   "source": [
    "# Testing and validation data\n",
    "# Import the data for the NJ train network. Month of March 2018. \n",
    "## Drop the observations with NaN delay."
   ]
  },
  {
   "cell_type": "code",
   "execution_count": 17,
   "metadata": {},
   "outputs": [],
   "source": [
    "df = pd.read_csv('2018_03.csv')\n",
    "df.dropna(subset=['delay_minutes'], inplace=True)\n",
    "df.reset_index(drop=True, inplace=True)"
   ]
  },
  {
   "cell_type": "markdown",
   "metadata": {},
   "source": [
    "Encoding the days of the week (0 : Monday ..., 6 : Sunday) "
   ]
  },
  {
   "cell_type": "code",
   "execution_count": 18,
   "metadata": {},
   "outputs": [],
   "source": [
    "day = []\n",
    "time = []\n",
    "for (k,v) in enumerate(df['actual_time']):\n",
    "    aux = datetime.datetime.strptime(v, '%Y-%m-%d %H:%M:%S')\n",
    "    time_only = aux.time()\n",
    "    day.append(aux.weekday())\n",
    "    time_in_min = time_only.hour*60 + time_only.minute\n",
    "    time.append(time_in_min)\n",
    "    \n",
    "df['day'] = day\n",
    "df['time'] = time"
   ]
  },
  {
   "cell_type": "markdown",
   "metadata": {},
   "source": [
    "Encoding the line names and the departure station with label encoding"
   ]
  },
  {
   "cell_type": "code",
   "execution_count": 19,
   "metadata": {},
   "outputs": [],
   "source": [
    "from sklearn import preprocessing\n",
    "le = preprocessing.LabelEncoder()\n",
    "df['line'] = le.fit_transform(df['line'])\n",
    "df['from_id'] = le.fit_transform(df['from_id'])\n",
    "df['train_id'] = le.fit_transform(df['train_id'])"
   ]
  },
  {
   "cell_type": "code",
   "execution_count": 20,
   "metadata": {},
   "outputs": [],
   "source": [
    "df.drop(columns = ['date','from','to','to_id','scheduled_time','status','type','actual_time'], inplace = True)\n",
    "#Binary Classification\n",
    "df['label'] = df['delay_minutes'].apply(lambda x: 1 if x >0.9 else 0)\n",
    "#3 Labels Classification\n",
    "df['Logged Delay'] = np.ceil(np.log(df['delay_minutes']+1e-6))\n",
    "df['Logged Delay']= df['Logged Delay'].apply(lambda x: -1 if x <0 else(2 if x >= 2 else 1))\n",
    "df.drop(columns = ['delay_minutes'], inplace = True)\n",
    "\n",
    "dataset = df.values.astype(int)\n",
    "Y_train_binary = df['label'].values\n",
    "df.drop(columns = 'label',inplace = True)\n",
    "Y_train = df['Logged Delay'].values\n",
    "df.drop(columns = 'Logged Delay',inplace = True)\n",
    "X_train = df.values"
   ]
  },
  {
   "cell_type": "code",
   "execution_count": 21,
   "metadata": {},
   "outputs": [
    {
     "data": {
      "image/png": "[encoded data removed]",
      "text/plain": [
       "<Figure size 432x288 with 1 Axes>"
      ]
     },
     "metadata": {
      "needs_background": "light"
     },
     "output_type": "display_data"
    }
   ],
   "source": [
    "plot = plt.hist(Y_train,bins = 50)"
   ]
  },
  {
   "cell_type": "code",
   "execution_count": 22,
   "metadata": {},
   "outputs": [
    {
     "data": {
      "image/png": "[encoded data removed]",
      "text/plain": [
       "<Figure size 432x288 with 1 Axes>"
      ]
     },
     "metadata": {
      "needs_background": "light"
     },
     "output_type": "display_data"
    }
   ],
   "source": [
    "plot = plt.hist(Y_train_binary,bins = 50)"
   ]
  },
  {
   "cell_type": "markdown",
   "metadata": {},
   "source": [
    "# Testing Data\n",
    "# Import the data for the NJ train network. Month of June 2018. \n",
    "## Drop the observations with NaN delay."
   ]
  },
  {
   "cell_type": "code",
   "execution_count": 26,
   "metadata": {},
   "outputs": [],
   "source": [
    "df2 = pd.read_csv('2018_06.csv')\n",
    "df2.dropna(subset=['delay_minutes'], inplace=True)\n",
    "df2.reset_index(drop=True, inplace=True)\n",
    "day = []\n",
    "time = []\n",
    "\n",
    "for (k,v) in enumerate(df2['actual_time']):\n",
    "    aux = datetime.datetime.strptime(v, '%Y-%m-%d %H:%M:%S')\n",
    "    time_only = aux.time()\n",
    "    day.append(aux.weekday())\n",
    "    time_in_min = time_only.hour*60 + time_only.minute\n",
    "    time.append(time_in_min)\n",
    "    \n",
    "df2['day'] = day\n",
    "df2['time'] = time\n",
    "\n",
    "from sklearn import preprocessing\n",
    "\n",
    "le = preprocessing.LabelEncoder()\n",
    "\n",
    "df2['line'] = le.fit_transform(df2['line'])\n",
    "df2['from_id'] = le.fit_transform(df2['from_id'])\n",
    "df2['train_id'] = le.fit_transform(df2['train_id'])\n",
    "\n",
    "df2.drop(columns = ['date','from','to','to_id','scheduled_time','status','type','actual_time'], inplace = True)\n",
    "\n",
    "df2['label'] = df2['delay_minutes'].apply(lambda x: 1 if x >0.9 else 0)\n",
    "\n",
    "df2['Logged Delay'] = np.ceil(np.log(df2['delay_minutes']+1e-6))\n",
    "\n",
    "df2.drop(columns = ['delay_minutes'], inplace = True)\n",
    "df2['Logged Delay']= df2['Logged Delay'].apply(lambda x: -1 if x <0 else(2 if x >= 2 else 1))\n",
    "\n",
    "dataset = df2.values.astype(int)\n",
    "Y_test_binary = df2['label'].values\n",
    "df2.drop(columns = 'label',inplace = True)\n",
    "Y_test = df2['Logged Delay'].values\n",
    "df2.drop(columns = 'Logged Delay',inplace = True)\n",
    "X_test = df2.values\n"
   ]
  },
  {
   "cell_type": "code",
   "execution_count": 27,
   "metadata": {},
   "outputs": [
    {
     "data": {
      "image/png": "[encoded data removed]",
      "text/plain": [
       "<Figure size 432x288 with 1 Axes>"
      ]
     },
     "metadata": {
      "needs_background": "light"
     },
     "output_type": "display_data"
    }
   ],
   "source": [
    "plot = plt.hist(Y_test,bins = 50)"
   ]
  },
  {
   "cell_type": "code",
   "execution_count": 28,
   "metadata": {},
   "outputs": [
    {
     "data": {
      "image/png": "[encoded data removed]",
      "text/plain": [
       "<Figure size 432x288 with 1 Axes>"
      ]
     },
     "metadata": {
      "needs_background": "light"
     },
     "output_type": "display_data"
    }
   ],
   "source": [
    "plot = plt.hist(Y_test_binary,bins = 50)"
   ]
  },
  {
   "cell_type": "markdown",
   "metadata": {},
   "source": [
    " # Split Data"
   ]
  },
  {
   "cell_type": "code",
   "execution_count": 29,
   "metadata": {},
   "outputs": [],
   "source": [
    "def split_data(x, y, ratio, myseed=1):\n",
    "    \"\"\"split the dataset based on the split ratio.\n",
    "        Returns x1 , x2 , y1 , y2\n",
    "    \"\"\"\n",
    "    # set seed\n",
    "    np.random.seed(myseed)\n",
    "    # generate random indices\n",
    "    num_row = len(y)\n",
    "    indices = np.random.permutation(num_row)\n",
    "    indices = range(len(y))\n",
    "    index_split = int(np.floor(ratio * num_row))\n",
    "    index_tr = indices[: index_split]\n",
    "    index_te = indices[index_split:]\n",
    "    # create split\n",
    "    x_tr = x[index_tr]\n",
    "    x_te = x[index_te]\n",
    "    y_tr = y[index_tr]\n",
    "    y_te = y[index_te]\n",
    "    return x_tr, x_te, y_tr, y_te"
   ]
  },
  {
   "cell_type": "markdown",
   "metadata": {},
   "source": [
    "# Binary Classification"
   ]
  },
  {
   "cell_type": "code",
   "execution_count": 32,
   "metadata": {},
   "outputs": [],
   "source": [
    "X = X_train.copy()\n",
    "Y = Y_train_binary.copy()"
   ]
  },
  {
   "cell_type": "code",
   "execution_count": 38,
   "metadata": {},
   "outputs": [],
   "source": [
    "from sklearn.preprocessing import MinMaxScaler\n",
    "scalar = MinMaxScaler()\n",
    "X = scalar.fit_transform(X)\n",
    "ratio=0.8\n",
    "train_size=int(dataset.shape[0]*ratio)\n",
    "train_set=X[0:train_size]\n",
    "test_Set=X[train_size:]\n",
    "labels_train=Y[0:train_size]\n",
    "labels_validation=Y[train_size:]"
   ]
  },
  {
   "cell_type": "code",
   "execution_count": 39,
   "metadata": {},
   "outputs": [],
   "source": [
    "x_tr, x_te, y_tr, y_te=split_data(train_set,labels_train,ratio)"
   ]
  },
  {
   "cell_type": "code",
   "execution_count": 36,
   "metadata": {},
   "outputs": [
    {
     "name": "stdout",
     "output_type": "stream",
     "text": [
      "Model: \"sequential_2\"\n",
      "_________________________________________________________________\n",
      "Layer (type)                 Output Shape              Param #   \n",
      "=================================================================\n",
      "dense_1 (Dense)              (None, 12)                84        \n",
      "_________________________________________________________________\n",
      "dense_2 (Dense)              (None, 8)                 104       \n",
      "_________________________________________________________________\n",
      "dense_3 (Dense)              (None, 1)                 9         \n",
      "=================================================================\n",
      "Total params: 197\n",
      "Trainable params: 197\n",
      "Non-trainable params: 0\n",
      "_________________________________________________________________\n"
     ]
    }
   ],
   "source": [
    "import numpy\n",
    "import matplotlib.pyplot as plt\n",
    "from pandas import read_csv\n",
    "import math\n",
    "\n",
    "from keras.models import Sequential\n",
    "from keras.layers import Dense,Dropout,Reshape\n",
    "from sklearn.preprocessing import MinMaxScaler\n",
    "from sklearn.metrics import mean_squared_error\n",
    "\n",
    "model1 = Sequential()\n",
    "model1.add(Dense(12, input_dim=x_tr.shape[1], activation='relu'))\n",
    "model1.add(Dense(8, activation='relu'))\n",
    "model1.add(Dense(1, activation='sigmoid'))\n",
    "\n",
    "model1.compile(optimizer='adam',\n",
    "                loss='binary_crossentropy',\n",
    "                metrics=['accuracy'])\n",
    "model1.summary()"
   ]
  },
  {
   "cell_type": "code",
   "execution_count": 37,
   "metadata": {},
   "outputs": [
    {
     "name": "stdout",
     "output_type": "stream",
     "text": [
      "Train on 152313 samples, validate on 38079 samples\n",
      "Epoch 1/10\n",
      "152313/152313 [==============================] - 16s 105us/step - loss: 0.5495 - accuracy: 0.7532 - val_loss: 0.5022 - val_accuracy: 0.7870\n",
      "Epoch 2/10\n",
      "152313/152313 [==============================] - 17s 112us/step - loss: 0.5062 - accuracy: 0.7804 - val_loss: 0.4922 - val_accuracy: 0.7880\n",
      "Epoch 3/10\n",
      "152313/152313 [==============================] - 16s 106us/step - loss: 0.5006 - accuracy: 0.7827 - val_loss: 0.4922 - val_accuracy: 0.7869\n",
      "Epoch 4/10\n",
      "152313/152313 [==============================] - 17s 113us/step - loss: 0.4966 - accuracy: 0.7840 - val_loss: 0.4841 - val_accuracy: 0.7926\n",
      "Epoch 5/10\n",
      "152313/152313 [==============================] - 16s 108us/step - loss: 0.4942 - accuracy: 0.7860 - val_loss: 0.4805 - val_accuracy: 0.7969\n",
      "Epoch 6/10\n",
      "152313/152313 [==============================] - 18s 117us/step - loss: 0.4922 - accuracy: 0.7867 - val_loss: 0.4900 - val_accuracy: 0.7880\n",
      "Epoch 7/10\n",
      "152313/152313 [==============================] - 19s 124us/step - loss: 0.4910 - accuracy: 0.7876 - val_loss: 0.4794 - val_accuracy: 0.7950\n",
      "Epoch 8/10\n",
      "152313/152313 [==============================] - 18s 118us/step - loss: 0.4902 - accuracy: 0.7879 - val_loss: 0.4761 - val_accuracy: 0.7956\n",
      "Epoch 9/10\n",
      "152313/152313 [==============================] - 19s 128us/step - loss: 0.4894 - accuracy: 0.7883 - val_loss: 0.4759 - val_accuracy: 0.7965\n",
      "Epoch 10/10\n",
      "152313/152313 [==============================] - 18s 116us/step - loss: 0.4882 - accuracy: 0.7888 - val_loss: 0.4766 - val_accuracy: 0.7941\n"
     ]
    }
   ],
   "source": [
    "history_binary = model1.fit(x_tr, y_tr, epochs=10, batch_size=10, verbose=1,validation_data = (x_te,y_te))"
   ]
  },
  {
   "cell_type": "code",
   "execution_count": 138,
   "metadata": {},
   "outputs": [
    {
     "data": {
      "image/png": "[encoded data removed]",
      "text/plain": [
       "<Figure size 864x432 with 2 Axes>"
      ]
     },
     "metadata": {
      "needs_background": "light"
     },
     "output_type": "display_data"
    }
   ],
   "source": [
    "acc = history_binary.history['accuracy']\n",
    "val_acc = history_binary.history['val_accuracy']\n",
    "\n",
    "loss = history_binary.history['loss']\n",
    "val_loss = history_binary.history['val_loss']\n",
    "\n",
    "epochs_range = range(10)\n",
    "\n",
    "fig = plt.figure(figsize=(12, 6))\n",
    "plt.subplot(1, 2, 1)\n",
    "plt.plot(epochs_range, acc, label='Training Accuracy')\n",
    "plt.plot(epochs_range, val_acc, label='Validation Accuracy')\n",
    "plt.legend(loc='lower right')\n",
    "plt.title('Training and Validation Accuracy')\n",
    "\n",
    "plt.subplot(1, 2, 2)\n",
    "plt.plot(epochs_range, loss, label='Training Loss')\n",
    "plt.plot(epochs_range, val_loss, label='Validation Loss')\n",
    "plt.legend(loc='upper right')\n",
    "plt.title('Training and Validation Loss')\n",
    "plt.show()\n",
    "\n",
    "fig.savefig('Images and Gifs/Binary_classification.png')"
   ]
  },
  {
   "cell_type": "markdown",
   "metadata": {},
   "source": [
    "## Evaluate Model on a new dataset"
   ]
  },
  {
   "cell_type": "code",
   "execution_count": 41,
   "metadata": {},
   "outputs": [
    {
     "name": "stdout",
     "output_type": "stream",
     "text": [
      "237991/237991 [==============================] - 3s 13us/step\n"
     ]
    },
    {
     "data": {
      "text/plain": [
       "[0.5142962385814215, 0.7863070368766785]"
      ]
     },
     "execution_count": 41,
     "metadata": {},
     "output_type": "execute_result"
    }
   ],
   "source": [
    "model1.evaluate(scalar.fit_transform(X_test), y = Y_test_binary, batch_size=30, verbose=1)"
   ]
  },
  {
   "cell_type": "markdown",
   "metadata": {},
   "source": [
    "# 3 Labels Classification"
   ]
  },
  {
   "cell_type": "code",
   "execution_count": 42,
   "metadata": {},
   "outputs": [],
   "source": [
    "Y = Y_train.copy()"
   ]
  },
  {
   "cell_type": "code",
   "execution_count": 43,
   "metadata": {},
   "outputs": [],
   "source": [
    "from sklearn.preprocessing import MinMaxScaler,StandardScaler,PowerTransformer,Normalizer\n",
    "\n",
    "minY = min(Y)\n",
    "maxY = max(Y)\n",
    "Y = (Y-minY)/(maxY-minY)"
   ]
  },
  {
   "cell_type": "code",
   "execution_count": 45,
   "metadata": {},
   "outputs": [],
   "source": [
    "ratio=0.8\n",
    "train_size=int(dataset.shape[0]*ratio)\n",
    "train_set=X[0:train_size]\n",
    "test_Set=X[train_size:]\n",
    "labels_train=Y[0:train_size]\n",
    "labels_validation=Y[train_size:]"
   ]
  },
  {
   "cell_type": "code",
   "execution_count": 46,
   "metadata": {},
   "outputs": [],
   "source": [
    "x_tr, x_te, y_tr, y_te=split_data(train_set,labels_train,ratio)"
   ]
  },
  {
   "cell_type": "code",
   "execution_count": 50,
   "metadata": {},
   "outputs": [
    {
     "name": "stdout",
     "output_type": "stream",
     "text": [
      "Model: \"sequential_5\"\n",
      "_________________________________________________________________\n",
      "Layer (type)                 Output Shape              Param #   \n",
      "=================================================================\n",
      "dense_8 (Dense)              (None, 32)                224       \n",
      "_________________________________________________________________\n",
      "dense_9 (Dense)              (None, 16)                528       \n",
      "_________________________________________________________________\n",
      "dense_10 (Dense)             (None, 8)                 136       \n",
      "_________________________________________________________________\n",
      "dense_11 (Dense)             (None, 1)                 9         \n",
      "=================================================================\n",
      "Total params: 897\n",
      "Trainable params: 897\n",
      "Non-trainable params: 0\n",
      "_________________________________________________________________\n"
     ]
    }
   ],
   "source": [
    "model2 = Sequential()\n",
    "model2.add(Dense(32, input_dim=X_train.shape[1], activation='relu'))\n",
    "model2.add(Dense(16, activation='relu'))\n",
    "model2.add(Dense(8, activation='relu'))\n",
    "model2.add(Dense(1, activation='relu'))\n",
    "model2.compile(loss='mean_squared_error', optimizer='adam',\n",
    "                metrics=['accuracy'])\n",
    "model2.summary()"
   ]
  },
  {
   "cell_type": "code",
   "execution_count": 51,
   "metadata": {},
   "outputs": [
    {
     "name": "stdout",
     "output_type": "stream",
     "text": [
      "Train on 152313 samples, validate on 38079 samples\n",
      "Epoch 1/10\n",
      "152313/152313 [==============================] - 17s 114us/step - loss: 0.1409 - accuracy: 0.4595 - val_loss: 0.1338 - val_accuracy: 0.4767\n",
      "Epoch 2/10\n",
      "152313/152313 [==============================] - 19s 122us/step - loss: 0.1346 - accuracy: 0.4711 - val_loss: 0.1312 - val_accuracy: 0.4800\n",
      "Epoch 3/10\n",
      "152313/152313 [==============================] - 19s 122us/step - loss: 0.1332 - accuracy: 0.4727 - val_loss: 0.1305 - val_accuracy: 0.4814\n",
      "Epoch 4/10\n",
      "152313/152313 [==============================] - 19s 123us/step - loss: 0.1321 - accuracy: 0.4739 - val_loss: 0.1299 - val_accuracy: 0.4800\n",
      "Epoch 5/10\n",
      "152313/152313 [==============================] - 19s 126us/step - loss: 0.1310 - accuracy: 0.4742 - val_loss: 0.1288 - val_accuracy: 0.4853\n",
      "Epoch 6/10\n",
      "152313/152313 [==============================] - 17s 115us/step - loss: 0.1300 - accuracy: 0.4753 - val_loss: 0.1274 - val_accuracy: 0.4878\n",
      "Epoch 7/10\n",
      "152313/152313 [==============================] - 20s 129us/step - loss: 0.1296 - accuracy: 0.4761 - val_loss: 0.1267 - val_accuracy: 0.4872\n",
      "Epoch 8/10\n",
      "152313/152313 [==============================] - 18s 117us/step - loss: 0.1291 - accuracy: 0.4766 - val_loss: 0.1282 - val_accuracy: 0.4879\n",
      "Epoch 9/10\n",
      "152313/152313 [==============================] - 16s 106us/step - loss: 0.1288 - accuracy: 0.4771 - val_loss: 0.1281 - val_accuracy: 0.4824\n",
      "Epoch 10/10\n",
      "152313/152313 [==============================] - 17s 109us/step - loss: 0.1284 - accuracy: 0.4778 - val_loss: 0.1266 - val_accuracy: 0.4928\n"
     ]
    }
   ],
   "source": [
    "history_3classes = model2.fit(x_tr, y_tr, epochs=10, batch_size=10, verbose=1,validation_data = (x_te,y_te),shuffle = True)"
   ]
  },
  {
   "cell_type": "code",
   "execution_count": 139,
   "metadata": {},
   "outputs": [
    {
     "data": {
      "image/png": "[encoded data removed]",
      "text/plain": [
       "<Figure size 864x432 with 2 Axes>"
      ]
     },
     "metadata": {
      "needs_background": "light"
     },
     "output_type": "display_data"
    }
   ],
   "source": [
    "acc = history_3classes.history['accuracy']\n",
    "val_acc = history_3classes.history['val_accuracy']\n",
    "\n",
    "loss = history_3classes.history['loss']\n",
    "val_loss = history_3classes.history['val_loss']\n",
    "\n",
    "epochs_range = range(10)\n",
    "\n",
    "plt.figure(figsize=(12, 6))\n",
    "plt.subplot(1, 2, 1)\n",
    "plt.plot(epochs_range, acc, label='Training Accuracy')\n",
    "plt.plot(epochs_range, val_acc, label='Validation Accuracy')\n",
    "plt.legend(loc='lower right')\n",
    "plt.title('Training and Validation Accuracy')\n",
    "\n",
    "plt.subplot(1, 2, 2)\n",
    "plt.plot(epochs_range, loss, label='Training Loss')\n",
    "plt.plot(epochs_range, val_loss, label='Validation Loss')\n",
    "plt.legend(loc='upper right')\n",
    "plt.title('Training and Validation Loss')\n",
    "plt.show()\n",
    "fig.savefig('Images and Gifs/3labels_classification.png')"
   ]
  },
  {
   "cell_type": "code",
   "execution_count": 53,
   "metadata": {},
   "outputs": [
    {
     "name": "stdout",
     "output_type": "stream",
     "text": [
      "237991/237991 [==============================] - 10s 41us/step\n"
     ]
    },
    {
     "data": {
      "text/plain": [
       "[0.1373635417033186, 0.486594021320343]"
      ]
     },
     "execution_count": 53,
     "metadata": {},
     "output_type": "execute_result"
    }
   ],
   "source": [
    "model2.evaluate(scalar.fit_transform(X_test), y = (Y_test-minY)/(maxY-minY), batch_size=10, verbose=1)"
   ]
  },
  {
   "cell_type": "markdown",
   "metadata": {},
   "source": [
    "# Regression"
   ]
  },
  {
   "cell_type": "code",
   "execution_count": 56,
   "metadata": {},
   "outputs": [],
   "source": [
    "def build_poly(x, degree):\n",
    "    \"\"\"polynomial basis functions for input data x, for j=0 up to j=degree.\"\"\"\n",
    "    poly = np.ones((len(x), 1))\n",
    "    for deg in range(1, degree + 1):\n",
    "        poly = np.c_[poly, np.power(x, deg)]\n",
    "    return poly"
   ]
  },
  {
   "cell_type": "markdown",
   "metadata": {},
   "source": [
    "# Feature augmentation"
   ]
  },
  {
   "cell_type": "code",
   "execution_count": 105,
   "metadata": {},
   "outputs": [],
   "source": [
    "X_train_reg = X_train.copy()\n",
    "scalar = MinMaxScaler()\n",
    "X_train_reg = scalar.fit_transform(X_train_reg)"
   ]
  },
  {
   "cell_type": "code",
   "execution_count": 106,
   "metadata": {},
   "outputs": [],
   "source": [
    "sinx = np.sin(X_train_reg)\n",
    "cosx = np.cos(X_train_reg)\n",
    "ex = np.exp(X_train_reg)\n",
    "#logx = np.log(X_train_reg+1)\n",
    "X_train_reg = np.append(X_train_reg,sinx,axis=1)\n",
    "X_train_reg = np.append(X_train_reg,cosx,axis=1)\n",
    "X_train_reg = np.append(X_train_reg,ex,axis=1)\n",
    "#X_train_reg = np.append(X_train_reg,logx,axis=1)\n",
    "X_train_reg = build_poly(X_train_reg, 12)"
   ]
  },
  {
   "cell_type": "code",
   "execution_count": 107,
   "metadata": {},
   "outputs": [],
   "source": [
    "X_test_reg = X_test.copy()\n",
    "scalar = MinMaxScaler()\n",
    "X_test_reg = scalar.fit_transform(X_test_reg)"
   ]
  },
  {
   "cell_type": "code",
   "execution_count": 108,
   "metadata": {},
   "outputs": [],
   "source": [
    "sinx = np.sin(X_test_reg)\n",
    "cosx = np.cos(X_test_reg)\n",
    "ex = np.exp(X_test_reg)\n",
    "#logx = np.log(X_test_reg+1)\n",
    "X_test_reg = np.append(X_test_reg,sinx,axis=1)\n",
    "X_test_reg = np.append(X_test_reg,cosx,axis=1)\n",
    "X_test_reg = np.append(X_test_reg,ex,axis=1)\n",
    "#X_test_reg = np.append(X_test_reg,logx,axis=1)\n",
    "X_test_reg = build_poly(X_test_reg, 12)"
   ]
  },
  {
   "cell_type": "code",
   "execution_count": 130,
   "metadata": {},
   "outputs": [
    {
     "data": {
      "text/plain": [
       "Ridge(alpha=1e-08, copy_X=True, fit_intercept=True, max_iter=100000000.0,\n",
       "      normalize=True, random_state=None, solver='svd', tol=1e-06)"
      ]
     },
     "execution_count": 130,
     "metadata": {},
     "output_type": "execute_result"
    }
   ],
   "source": [
    "from sklearn.linear_model import Ridge,SGDRegressor,LinearRegression\n",
    "clf = Ridge(alpha = 1e-8, max_iter=1e8, normalize = True, solver = 'svd',tol = 1e-6)\n",
    "clf.fit(X_train_reg, Y_train)"
   ]
  },
  {
   "cell_type": "code",
   "execution_count": 131,
   "metadata": {},
   "outputs": [],
   "source": [
    "y_pred = clf.predict(X_test_reg)"
   ]
  },
  {
   "cell_type": "code",
   "execution_count": 132,
   "metadata": {},
   "outputs": [
    {
     "data": {
      "text/plain": [
       "1.2130760149170003"
      ]
     },
     "execution_count": 132,
     "metadata": {},
     "output_type": "execute_result"
    }
   ],
   "source": [
    "from sklearn.metrics import mean_squared_error,r2_score,accuracy_score\n",
    "mean_squared_error(Y_test, y_pred)"
   ]
  },
  {
   "cell_type": "code",
   "execution_count": 133,
   "metadata": {},
   "outputs": [
    {
     "data": {
      "text/plain": [
       "0.14590602187878166"
      ]
     },
     "execution_count": 133,
     "metadata": {},
     "output_type": "execute_result"
    }
   ],
   "source": [
    "r2_score(Y_test, y_pred)"
   ]
  },
  {
   "cell_type": "code",
   "execution_count": null,
   "metadata": {},
   "outputs": [],
   "source": []
  }
 ],
 "metadata": {
  "kernelspec": {
   "display_name": "Python 3",
   "language": "python",
   "name": "python3"
  },
  "language_info": {
   "codemirror_mode": {
    "name": "ipython",
    "version": 3
   },
   "file_extension": ".py",
   "mimetype": "text/x-python",
   "name": "python",
   "nbconvert_exporter": "python",
   "pygments_lexer": "ipython3",
   "version": "3.7.4"
  }
 },
 "nbformat": 4,
 "nbformat_minor": 4
}
