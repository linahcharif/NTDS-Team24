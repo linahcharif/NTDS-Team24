{
 "cells": [
  {
   "cell_type": "markdown",
   "metadata": {},
   "source": [
    "# Preprocessing of the data"
   ]
  },
  {
   "cell_type": "code",
   "execution_count": null,
   "metadata": {},
   "outputs": [],
   "source": [
    "import numpy as np\n",
    "import pandas as pd\n",
    "import matplotlib.pyplot as plt\n",
    "import matplotlib.colors as mcolors\n",
    "import datetime\n",
    "import sklearn"
   ]
  },
  {
   "cell_type": "code",
   "execution_count": null,
   "metadata": {},
   "outputs": [],
   "source": [
    "#Import the data for the NJ train network. Month of March 2018. Drop the observations with NaN delay.\n",
    "df = pd.read_csv('2018_03.csv')\n",
    "df.dropna(subset=['delay_minutes'], inplace=True)\n",
    "df.reset_index(drop=True, inplace=True)"
   ]
  },
  {
   "cell_type": "markdown",
   "metadata": {},
   "source": [
    "Encoding the days of the week (0 : Monday ..., 6 : Sunday) "
   ]
  },
  {
   "cell_type": "code",
   "execution_count": null,
   "metadata": {},
   "outputs": [],
   "source": [
    "day = []\n",
    "time = []\n",
    "\n",
    "for (k,v) in enumerate(df['actual_time']):\n",
    "    aux = datetime.datetime.strptime(v, '%Y-%m-%d %H:%M:%S')\n",
    "    time_only = aux.time()\n",
    "    day.append(aux.weekday())\n",
    "    time_in_min = time_only.hour*60 + time_only.minute\n",
    "    time.append(time_in_min)\n",
    "    \n",
    "df['day'] = day\n",
    "df['time'] = time"
   ]
  },
  {
   "cell_type": "markdown",
   "metadata": {},
   "source": [
    "Encoding the line names and the departure station with label encoding"
   ]
  },
  {
   "cell_type": "code",
   "execution_count": null,
   "metadata": {},
   "outputs": [],
   "source": [
    "from sklearn import preprocessing\n",
    "le = preprocessing.LabelEncoder()\n",
    "df['line'] = le.fit_transform(df['line'])\n",
    "df['from_id'] = le.fit_transform(df['from_id'])\n",
    "df['train_id'] = le.fit_transform(df['train_id'])"
   ]
  },
  {
   "cell_type": "code",
   "execution_count": null,
   "metadata": {},
   "outputs": [],
   "source": [
    "df.drop(columns = ['date','from','to','to_id','scheduled_time','status','type','actual_time'], inplace = True)"
   ]
  },
  {
   "cell_type": "code",
   "execution_count": null,
   "metadata": {},
   "outputs": [],
   "source": [
    "tmp = df.copy()"
   ]
  },
  {
   "cell_type": "code",
   "execution_count": null,
   "metadata": {},
   "outputs": [],
   "source": [
    "tmp['label'] = tmp['delay_minutes'].apply(lambda x: 1 if x >0 else 0)"
   ]
  },
  {
   "cell_type": "code",
   "execution_count": null,
   "metadata": {},
   "outputs": [],
   "source": [
    "tmp.drop(columns = ['delay_minutes'],inplace = True)"
   ]
  },
  {
   "cell_type": "code",
   "execution_count": null,
   "metadata": {},
   "outputs": [],
   "source": [
    "df['Logged Delay'] = np.ceil(np.log(df['delay_minutes']+1e-6))"
   ]
  },
  {
   "cell_type": "code",
   "execution_count": null,
   "metadata": {},
   "outputs": [],
   "source": [
    "df.drop(columns = ['delay_minutes'], inplace = True)"
   ]
  },
  {
   "cell_type": "code",
   "execution_count": null,
   "metadata": {},
   "outputs": [],
   "source": [
    "df['Logged Delay']= df['Logged Delay'].apply(lambda x: -1 if x <0 else(2 if x >= 2 else 1))"
   ]
  },
  {
   "cell_type": "code",
   "execution_count": null,
   "metadata": {},
   "outputs": [],
   "source": [
    "plt.hist(df['Logged Delay'],bins = 50)"
   ]
  },
  {
   "cell_type": "markdown",
   "metadata": {},
   "source": [
    "# Testing data"
   ]
  },
  {
   "cell_type": "code",
   "execution_count": 13,
   "metadata": {},
   "outputs": [],
   "source": [
    "df2 = pd.read_csv('2018_06.csv')\n",
    "df2.dropna(subset=['delay_minutes'], inplace=True)\n",
    "df2.reset_index(drop=True, inplace=True)\n",
    "day = []\n",
    "time = []\n",
    "\n",
    "for (k,v) in enumerate(df2['actual_time']):\n",
    "    aux = datetime.datetime.strptime(v, '%Y-%m-%d %H:%M:%S')\n",
    "    time_only = aux.time()\n",
    "    day.append(aux.weekday())\n",
    "    time_in_min = time_only.hour*60 + time_only.minute\n",
    "    time.append(time_in_min)\n",
    "    \n",
    "df2['day'] = day\n",
    "df2['time'] = time\n",
    "\n",
    "from sklearn import preprocessing\n",
    "\n",
    "le = preprocessing.LabelEncoder()\n",
    "\n",
    "df2['line'] = le.fit_transform(df2['line'])\n",
    "df2['from_id'] = le.fit_transform(df2['from_id'])\n",
    "df2['train_id'] = le.fit_transform(df2['train_id'])\n",
    "\n",
    "df2.drop(columns = ['date','from','to','to_id','scheduled_time','status','type','actual_time'], inplace = True)\n",
    "\n",
    "df2['label'] = df2['delay_minutes'].apply(lambda x: 1 if x >0 else 0)\n",
    "\n",
    "df2['Logged Delay'] = np.ceil(np.log(df2['delay_minutes']+1e-6))\n",
    "\n",
    "df2.drop(columns = ['delay_minutes'], inplace = True)\n",
    "df2['Logged Delay']= df2['Logged Delay'].apply(lambda x: -1 if x <0 else(2 if x >= 2 else 1))\n",
    "\n",
    "dataset = df2.values.astype(int)\n",
    "Y_test_binary = df2['label'].values\n",
    "df2.drop(columns = 'label',inplace = True)\n",
    "Y_test = df2['Logged Delay'].values\n",
    "df2.drop(columns = 'Logged Delay',inplace = True)\n",
    "X_test = df2.values\n"
   ]
  },
  {
   "cell_type": "code",
   "execution_count": 14,
   "metadata": {},
   "outputs": [
    {
     "data": {
      "text/plain": [
       "(array([ 59074.,      0.,      0.,      0.,      0.,      0.,      0.,\n",
       "             0.,      0.,      0.,      0.,      0.,      0.,      0.,\n",
       "             0.,      0.,      0.,      0.,      0.,      0.,      0.,\n",
       "             0.,      0.,      0.,      0.,      0.,      0.,      0.,\n",
       "             0.,      0.,      0.,      0.,      0.,  76193.,      0.,\n",
       "             0.,      0.,      0.,      0.,      0.,      0.,      0.,\n",
       "             0.,      0.,      0.,      0.,      0.,      0.,      0.,\n",
       "        102724.]),\n",
       " array([-1.  , -0.94, -0.88, -0.82, -0.76, -0.7 , -0.64, -0.58, -0.52,\n",
       "        -0.46, -0.4 , -0.34, -0.28, -0.22, -0.16, -0.1 , -0.04,  0.02,\n",
       "         0.08,  0.14,  0.2 ,  0.26,  0.32,  0.38,  0.44,  0.5 ,  0.56,\n",
       "         0.62,  0.68,  0.74,  0.8 ,  0.86,  0.92,  0.98,  1.04,  1.1 ,\n",
       "         1.16,  1.22,  1.28,  1.34,  1.4 ,  1.46,  1.52,  1.58,  1.64,\n",
       "         1.7 ,  1.76,  1.82,  1.88,  1.94,  2.  ]),\n",
       " <a list of 50 Patch objects>)"
      ]
     },
     "execution_count": 14,
     "metadata": {},
     "output_type": "execute_result"
    },
    {
     "data": {
      "image/png": "[encoded data removed]",
      "text/plain": [
       "<Figure size 432x288 with 1 Axes>"
      ]
     },
     "metadata": {
      "needs_background": "light"
     },
     "output_type": "display_data"
    }
   ],
   "source": [
    "plt.hist(Y_test,bins = 50)"
   ]
  },
  {
   "cell_type": "code",
   "execution_count": 15,
   "metadata": {},
   "outputs": [
    {
     "data": {
      "text/plain": [
       "(237991, 6)"
      ]
     },
     "execution_count": 15,
     "metadata": {},
     "output_type": "execute_result"
    }
   ],
   "source": [
    "X_test.shape"
   ]
  },
  {
   "cell_type": "markdown",
   "metadata": {},
   "source": [
    " # Split Data"
   ]
  },
  {
   "cell_type": "code",
   "execution_count": 16,
   "metadata": {},
   "outputs": [],
   "source": [
    "def split_data(x, y, ratio, myseed=1):\n",
    "    \"\"\"split the dataset based on the split ratio.\n",
    "        Returns x1 , x2 , y1 , y2\n",
    "    \"\"\"\n",
    "    # set seed\n",
    "    np.random.seed(myseed)\n",
    "    # generate random indices\n",
    "    num_row = len(y)\n",
    "    indices = np.random.permutation(num_row)\n",
    "    indices = range(len(y))\n",
    "    index_split = int(np.floor(ratio * num_row))\n",
    "    index_tr = indices[: index_split]\n",
    "    index_te = indices[index_split:]\n",
    "    # create split\n",
    "    x_tr = x[index_tr]\n",
    "    x_te = x[index_te]\n",
    "    y_tr = y[index_tr]\n",
    "    y_te = y[index_te]\n",
    "    return x_tr, x_te, y_tr, y_te"
   ]
  },
  {
   "cell_type": "code",
   "execution_count": 17,
   "metadata": {},
   "outputs": [
    {
     "data": {
      "text/html": [
       "<div>\n",
       "<style scoped>\n",
       "    .dataframe tbody tr th:only-of-type {\n",
       "        vertical-align: middle;\n",
       "    }\n",
       "\n",
       "    .dataframe tbody tr th {\n",
       "        vertical-align: top;\n",
       "    }\n",
       "\n",
       "    .dataframe thead th {\n",
       "        text-align: right;\n",
       "    }\n",
       "</style>\n",
       "<table border=\"1\" class=\"dataframe\">\n",
       "  <thead>\n",
       "    <tr style=\"text-align: right;\">\n",
       "      <th></th>\n",
       "      <th>train_id</th>\n",
       "      <th>stop_sequence</th>\n",
       "      <th>from_id</th>\n",
       "      <th>line</th>\n",
       "      <th>day</th>\n",
       "      <th>time</th>\n",
       "      <th>label</th>\n",
       "    </tr>\n",
       "  </thead>\n",
       "  <tbody>\n",
       "    <tr>\n",
       "      <td>0</td>\n",
       "      <td>562</td>\n",
       "      <td>1.0</td>\n",
       "      <td>97</td>\n",
       "      <td>7</td>\n",
       "      <td>4</td>\n",
       "      <td>81</td>\n",
       "      <td>0</td>\n",
       "    </tr>\n",
       "    <tr>\n",
       "      <td>1</td>\n",
       "      <td>562</td>\n",
       "      <td>2.0</td>\n",
       "      <td>97</td>\n",
       "      <td>7</td>\n",
       "      <td>4</td>\n",
       "      <td>91</td>\n",
       "      <td>1</td>\n",
       "    </tr>\n",
       "    <tr>\n",
       "      <td>2</td>\n",
       "      <td>562</td>\n",
       "      <td>3.0</td>\n",
       "      <td>159</td>\n",
       "      <td>7</td>\n",
       "      <td>4</td>\n",
       "      <td>100</td>\n",
       "      <td>1</td>\n",
       "    </tr>\n",
       "    <tr>\n",
       "      <td>3</td>\n",
       "      <td>562</td>\n",
       "      <td>4.0</td>\n",
       "      <td>99</td>\n",
       "      <td>7</td>\n",
       "      <td>4</td>\n",
       "      <td>105</td>\n",
       "      <td>1</td>\n",
       "    </tr>\n",
       "    <tr>\n",
       "      <td>4</td>\n",
       "      <td>562</td>\n",
       "      <td>5.0</td>\n",
       "      <td>155</td>\n",
       "      <td>7</td>\n",
       "      <td>4</td>\n",
       "      <td>109</td>\n",
       "      <td>1</td>\n",
       "    </tr>\n",
       "    <tr>\n",
       "      <td>...</td>\n",
       "      <td>...</td>\n",
       "      <td>...</td>\n",
       "      <td>...</td>\n",
       "      <td>...</td>\n",
       "      <td>...</td>\n",
       "      <td>...</td>\n",
       "      <td>...</td>\n",
       "    </tr>\n",
       "    <tr>\n",
       "      <td>243023</td>\n",
       "      <td>121</td>\n",
       "      <td>2.0</td>\n",
       "      <td>12</td>\n",
       "      <td>4</td>\n",
       "      <td>5</td>\n",
       "      <td>1145</td>\n",
       "      <td>1</td>\n",
       "    </tr>\n",
       "    <tr>\n",
       "      <td>243024</td>\n",
       "      <td>121</td>\n",
       "      <td>3.0</td>\n",
       "      <td>47</td>\n",
       "      <td>4</td>\n",
       "      <td>5</td>\n",
       "      <td>1148</td>\n",
       "      <td>1</td>\n",
       "    </tr>\n",
       "    <tr>\n",
       "      <td>243025</td>\n",
       "      <td>121</td>\n",
       "      <td>4.0</td>\n",
       "      <td>16</td>\n",
       "      <td>4</td>\n",
       "      <td>5</td>\n",
       "      <td>1150</td>\n",
       "      <td>1</td>\n",
       "    </tr>\n",
       "    <tr>\n",
       "      <td>243026</td>\n",
       "      <td>121</td>\n",
       "      <td>5.0</td>\n",
       "      <td>145</td>\n",
       "      <td>4</td>\n",
       "      <td>5</td>\n",
       "      <td>1161</td>\n",
       "      <td>1</td>\n",
       "    </tr>\n",
       "    <tr>\n",
       "      <td>243027</td>\n",
       "      <td>121</td>\n",
       "      <td>6.0</td>\n",
       "      <td>98</td>\n",
       "      <td>4</td>\n",
       "      <td>5</td>\n",
       "      <td>1177</td>\n",
       "      <td>0</td>\n",
       "    </tr>\n",
       "  </tbody>\n",
       "</table>\n",
       "<p>243028 rows × 7 columns</p>\n",
       "</div>"
      ],
      "text/plain": [
       "        train_id  stop_sequence  from_id  line  day  time  label\n",
       "0            562            1.0       97     7    4    81      0\n",
       "1            562            2.0       97     7    4    91      1\n",
       "2            562            3.0      159     7    4   100      1\n",
       "3            562            4.0       99     7    4   105      1\n",
       "4            562            5.0      155     7    4   109      1\n",
       "...          ...            ...      ...   ...  ...   ...    ...\n",
       "243023       121            2.0       12     4    5  1145      1\n",
       "243024       121            3.0       47     4    5  1148      1\n",
       "243025       121            4.0       16     4    5  1150      1\n",
       "243026       121            5.0      145     4    5  1161      1\n",
       "243027       121            6.0       98     4    5  1177      0\n",
       "\n",
       "[243028 rows x 7 columns]"
      ]
     },
     "execution_count": 17,
     "metadata": {},
     "output_type": "execute_result"
    }
   ],
   "source": [
    "tmp"
   ]
  },
  {
   "cell_type": "code",
   "execution_count": 18,
   "metadata": {},
   "outputs": [],
   "source": [
    "Y_sc = tmp['label'].values\n",
    "tmp.drop(columns = ['label'],inplace = True)\n",
    "X_sc = tmp.values"
   ]
  },
  {
   "cell_type": "code",
   "execution_count": 19,
   "metadata": {},
   "outputs": [
    {
     "data": {
      "text/plain": [
       "(243028, 6)"
      ]
     },
     "execution_count": 19,
     "metadata": {},
     "output_type": "execute_result"
    }
   ],
   "source": [
    "X_sc.shape"
   ]
  },
  {
   "cell_type": "code",
   "execution_count": 20,
   "metadata": {},
   "outputs": [],
   "source": [
    "Y_m = df['Logged Delay'].values\n",
    "df.drop(columns = 'Logged Delay',inplace = True)\n",
    "X_m = df.values"
   ]
  },
  {
   "cell_type": "code",
   "execution_count": 21,
   "metadata": {},
   "outputs": [
    {
     "data": {
      "text/plain": [
       "(243028, 6)"
      ]
     },
     "execution_count": 21,
     "metadata": {},
     "output_type": "execute_result"
    }
   ],
   "source": [
    "X_m.shape"
   ]
  },
  {
   "cell_type": "code",
   "execution_count": 22,
   "metadata": {},
   "outputs": [],
   "source": [
    "X = X_sc.copy()\n",
    "Y = Y_sc.copy()"
   ]
  },
  {
   "cell_type": "code",
   "execution_count": 23,
   "metadata": {},
   "outputs": [],
   "source": [
    "from sklearn.preprocessing import MinMaxScaler,StandardScaler,PowerTransformer\n",
    "\n",
    "scalar = MinMaxScaler()\n",
    "X = scalar.fit_transform(X)\n",
    "ratio=0.8\n",
    "train_size=int(dataset.shape[0]*ratio)\n",
    "train_set=X[0:train_size]\n",
    "test_Set=X[train_size:]\n",
    "labels_train=Y[0:train_size]\n",
    "labels_validation=Y[train_size:]"
   ]
  },
  {
   "cell_type": "code",
   "execution_count": 24,
   "metadata": {},
   "outputs": [],
   "source": [
    "x_tr, x_te, y_tr, y_te=split_data(train_set,labels_train,ratio)"
   ]
  },
  {
   "cell_type": "code",
   "execution_count": 62,
   "metadata": {},
   "outputs": [
    {
     "name": "stdout",
     "output_type": "stream",
     "text": [
      "Model: \"sequential_19\"\n",
      "_________________________________________________________________\n",
      "Layer (type)                 Output Shape              Param #   \n",
      "=================================================================\n",
      "dense_63 (Dense)             (None, 12)                84        \n",
      "_________________________________________________________________\n",
      "dense_64 (Dense)             (None, 8)                 104       \n",
      "_________________________________________________________________\n",
      "dense_65 (Dense)             (None, 1)                 9         \n",
      "=================================================================\n",
      "Total params: 197\n",
      "Trainable params: 197\n",
      "Non-trainable params: 0\n",
      "_________________________________________________________________\n"
     ]
    }
   ],
   "source": [
    "import numpy\n",
    "import matplotlib.pyplot as plt\n",
    "from pandas import read_csv\n",
    "import math\n",
    "\n",
    "from keras.models import Sequential\n",
    "from keras.layers import Dense,Dropout,Reshape\n",
    "from sklearn.preprocessing import MinMaxScaler\n",
    "from sklearn.metrics import mean_squared_error\n",
    "\n",
    "model1 = Sequential()\n",
    "model1.add(Dense(12, input_dim=X_sc.shape[1], activation='relu'))\n",
    "model1.add(Dense(8, activation='relu'))\n",
    "model1.add(Dense(1, activation='sigmoid'))\n",
    "\n",
    "model1.compile(optimizer='adam',\n",
    "                loss='binary_crossentropy',\n",
    "                metrics=['accuracy'])\n",
    "model1.summary()"
   ]
  },
  {
   "cell_type": "code",
   "execution_count": 26,
   "metadata": {},
   "outputs": [
    {
     "name": "stdout",
     "output_type": "stream",
     "text": [
      "Train on 152313 samples, validate on 38079 samples\n",
      "Epoch 1/10\n",
      "152313/152313 [==============================] - 15s 98us/step - loss: 0.3817 - accuracy: 0.8635 - val_loss: 0.3449 - val_accuracy: 0.8684\n",
      "Epoch 2/10\n",
      "152313/152313 [==============================] - 15s 96us/step - loss: 0.3439 - accuracy: 0.8691 - val_loss: 0.3253 - val_accuracy: 0.8806\n",
      "Epoch 3/10\n",
      "152313/152313 [==============================] - 15s 97us/step - loss: 0.3352 - accuracy: 0.8742 - val_loss: 0.3236 - val_accuracy: 0.8789\n",
      "Epoch 4/10\n",
      "152313/152313 [==============================] - 15s 99us/step - loss: 0.3329 - accuracy: 0.8751 - val_loss: 0.3212 - val_accuracy: 0.8789\n",
      "Epoch 5/10\n",
      "152313/152313 [==============================] - 15s 98us/step - loss: 0.3313 - accuracy: 0.8757 - val_loss: 0.3184 - val_accuracy: 0.8820\n",
      "Epoch 6/10\n",
      "152313/152313 [==============================] - 15s 97us/step - loss: 0.3299 - accuracy: 0.8764 - val_loss: 0.3327 - val_accuracy: 0.8825\n",
      "Epoch 7/10\n",
      "152313/152313 [==============================] - 16s 102us/step - loss: 0.3289 - accuracy: 0.8765 - val_loss: 0.3165 - val_accuracy: 0.8849\n",
      "Epoch 8/10\n",
      "152313/152313 [==============================] - 15s 102us/step - loss: 0.3279 - accuracy: 0.8774 - val_loss: 0.3161 - val_accuracy: 0.8855\n",
      "Epoch 9/10\n",
      "152313/152313 [==============================] - 17s 111us/step - loss: 0.3270 - accuracy: 0.8783 - val_loss: 0.3160 - val_accuracy: 0.8825\n",
      "Epoch 10/10\n",
      "152313/152313 [==============================] - 16s 103us/step - loss: 0.3260 - accuracy: 0.8790 - val_loss: 0.3140 - val_accuracy: 0.8857\n"
     ]
    }
   ],
   "source": [
    "history_binary = model1.fit(x_tr, y_tr, epochs=10, batch_size=10, verbose=1,validation_data = (x_te,y_te))"
   ]
  },
  {
   "cell_type": "code",
   "execution_count": 27,
   "metadata": {},
   "outputs": [
    {
     "data": {
      "image/png": "[encoded data removed]",
      "text/plain": [
       "<Figure size 864x432 with 2 Axes>"
      ]
     },
     "metadata": {
      "needs_background": "light"
     },
     "output_type": "display_data"
    }
   ],
   "source": [
    "acc = history_binary.history['accuracy']\n",
    "val_acc = history_binary.history['val_accuracy']\n",
    "\n",
    "loss = history_binary.history['loss']\n",
    "val_loss = history_binary.history['val_loss']\n",
    "\n",
    "epochs_range = range(10)\n",
    "\n",
    "plt.figure(figsize=(12, 6))\n",
    "plt.subplot(1, 2, 1)\n",
    "plt.plot(epochs_range, acc, label='Training Accuracy')\n",
    "plt.plot(epochs_range, val_acc, label='Validation Accuracy')\n",
    "plt.legend(loc='lower right')\n",
    "plt.title('Training and Validation Accuracy')\n",
    "\n",
    "plt.subplot(1, 2, 2)\n",
    "plt.plot(epochs_range, loss, label='Training Loss')\n",
    "plt.plot(epochs_range, val_loss, label='Validation Loss')\n",
    "plt.legend(loc='upper right')\n",
    "plt.title('Training and Validation Loss')\n",
    "plt.show()"
   ]
  },
  {
   "cell_type": "markdown",
   "metadata": {},
   "source": [
    "## Evaluate Model on a new dataset"
   ]
  },
  {
   "cell_type": "code",
   "execution_count": 28,
   "metadata": {},
   "outputs": [
    {
     "name": "stdout",
     "output_type": "stream",
     "text": [
      "237991/237991 [==============================] - 3s 12us/step\n"
     ]
    },
    {
     "data": {
      "text/plain": [
       "[0.3829442111924852, 0.856738269329071]"
      ]
     },
     "execution_count": 28,
     "metadata": {},
     "output_type": "execute_result"
    }
   ],
   "source": [
    "model1.evaluate(scalar.fit_transform(X_test), y = Y_test_binary, batch_size=30, verbose=1)"
   ]
  },
  {
   "cell_type": "code",
   "execution_count": 145,
   "metadata": {},
   "outputs": [],
   "source": [
    "X = X_m.copy()\n",
    "Y = Y_m.copy()"
   ]
  },
  {
   "cell_type": "code",
   "execution_count": null,
   "metadata": {},
   "outputs": [],
   "source": []
  },
  {
   "cell_type": "code",
   "execution_count": 146,
   "metadata": {},
   "outputs": [],
   "source": [
    "from sklearn.preprocessing import MinMaxScaler,StandardScaler,PowerTransformer,Normalizer\n",
    "scalar = MinMaxScaler()\n",
    "X = scalar.fit_transform(X)\n",
    "minY = min(Y)\n",
    "maxY = max(Y)\n",
    "Y = (Y-minY)/(maxY-minY)"
   ]
  },
  {
   "cell_type": "code",
   "execution_count": null,
   "metadata": {},
   "outputs": [],
   "source": []
  },
  {
   "cell_type": "code",
   "execution_count": 147,
   "metadata": {},
   "outputs": [
    {
     "data": {
      "text/plain": [
       "(243028, 6)"
      ]
     },
     "execution_count": 147,
     "metadata": {},
     "output_type": "execute_result"
    }
   ],
   "source": [
    "X.shape"
   ]
  },
  {
   "cell_type": "code",
   "execution_count": 159,
   "metadata": {},
   "outputs": [],
   "source": [
    "ratio=0.8\n",
    "train_size=int(dataset.shape[0]*ratio)\n",
    "train_set=X[0:train_size]\n",
    "test_Set=X[train_size:]\n",
    "labels_train=Y[0:train_size]\n",
    "labels_validation=Y[train_size:]\n",
    "x_tr, x_te, y_tr, y_te=split_data(train_set,labels_train,ratio)"
   ]
  },
  {
   "cell_type": "code",
   "execution_count": 160,
   "metadata": {},
   "outputs": [
    {
     "name": "stdout",
     "output_type": "stream",
     "text": [
      "Model: \"sequential_46\"\n",
      "_________________________________________________________________\n",
      "Layer (type)                 Output Shape              Param #   \n",
      "=================================================================\n",
      "dense_149 (Dense)            (None, 32)                224       \n",
      "_________________________________________________________________\n",
      "dense_150 (Dense)            (None, 16)                528       \n",
      "_________________________________________________________________\n",
      "dense_151 (Dense)            (None, 3)                 51        \n",
      "_________________________________________________________________\n",
      "dense_152 (Dense)            (None, 1)                 4         \n",
      "=================================================================\n",
      "Total params: 807\n",
      "Trainable params: 807\n",
      "Non-trainable params: 0\n",
      "_________________________________________________________________\n"
     ]
    }
   ],
   "source": [
    "model2 = Sequential()\n",
    "model2.add(Dense(32, input_dim=X_sc.shape[1], activation='relu'))\n",
    "model2.add(Dense(16, activation='relu'))\n",
    "model2.add(Dense(3, activation='relu'))\n",
    "model2.add(Dense(1, activation='relu'))\n",
    "model2.compile(loss='mean_squared_error', optimizer='adam',\n",
    "                metrics=['accuracy'])\n",
    "model2.summary()"
   ]
  },
  {
   "cell_type": "code",
   "execution_count": 161,
   "metadata": {},
   "outputs": [
    {
     "name": "stdout",
     "output_type": "stream",
     "text": [
      "Train on 152313 samples, validate on 38079 samples\n",
      "Epoch 1/10\n",
      "152313/152313 [==============================] - 17s 108us/step - loss: 0.1446 - accuracy: 0.4529 - val_loss: 0.1414 - val_accuracy: 0.4702\n",
      "Epoch 2/10\n",
      "152313/152313 [==============================] - 16s 102us/step - loss: 0.1358 - accuracy: 0.4701 - val_loss: 0.1324 - val_accuracy: 0.4800\n",
      "Epoch 3/10\n",
      "152313/152313 [==============================] - 16s 105us/step - loss: 0.1343 - accuracy: 0.4720 - val_loss: 0.1313 - val_accuracy: 0.4853\n",
      "Epoch 4/10\n",
      "152313/152313 [==============================] - 16s 103us/step - loss: 0.1331 - accuracy: 0.4736 - val_loss: 0.1317 - val_accuracy: 0.4840\n",
      "Epoch 5/10\n",
      "152313/152313 [==============================] - 15s 102us/step - loss: 0.1318 - accuracy: 0.4749 - val_loss: 0.1281 - val_accuracy: 0.4861\n",
      "Epoch 6/10\n",
      "152313/152313 [==============================] - 16s 102us/step - loss: 0.1306 - accuracy: 0.4772 - val_loss: 0.1326 - val_accuracy: 0.4873\n",
      "Epoch 7/10\n",
      "152313/152313 [==============================] - 16s 102us/step - loss: 0.1296 - accuracy: 0.4785 - val_loss: 0.1266 - val_accuracy: 0.4915\n",
      "Epoch 8/10\n",
      "152313/152313 [==============================] - 15s 102us/step - loss: 0.1289 - accuracy: 0.4803 - val_loss: 0.1291 - val_accuracy: 0.4860\n",
      "Epoch 9/10\n",
      "152313/152313 [==============================] - 16s 102us/step - loss: 0.1285 - accuracy: 0.4796 - val_loss: 0.1263 - val_accuracy: 0.4889\n",
      "Epoch 10/10\n",
      "152313/152313 [==============================] - 15s 102us/step - loss: 0.1279 - accuracy: 0.4808 - val_loss: 0.1266 - val_accuracy: 0.4895\n"
     ]
    }
   ],
   "source": [
    "history_3classes = model2.fit(x_tr, y_tr, epochs=10, batch_size=10, verbose=1,validation_data = (x_te,y_te),shuffle = True)"
   ]
  },
  {
   "cell_type": "code",
   "execution_count": 162,
   "metadata": {},
   "outputs": [
    {
     "data": {
      "text/html": [
       "<div>\n",
       "<style scoped>\n",
       "    .dataframe tbody tr th:only-of-type {\n",
       "        vertical-align: middle;\n",
       "    }\n",
       "\n",
       "    .dataframe tbody tr th {\n",
       "        vertical-align: top;\n",
       "    }\n",
       "\n",
       "    .dataframe thead th {\n",
       "        text-align: right;\n",
       "    }\n",
       "</style>\n",
       "<table border=\"1\" class=\"dataframe\">\n",
       "  <thead>\n",
       "    <tr style=\"text-align: right;\">\n",
       "      <th></th>\n",
       "      <th>train_id</th>\n",
       "      <th>stop_sequence</th>\n",
       "      <th>from_id</th>\n",
       "      <th>line</th>\n",
       "      <th>day</th>\n",
       "      <th>time</th>\n",
       "    </tr>\n",
       "  </thead>\n",
       "  <tbody>\n",
       "    <tr>\n",
       "      <td>0</td>\n",
       "      <td>562</td>\n",
       "      <td>1.0</td>\n",
       "      <td>97</td>\n",
       "      <td>7</td>\n",
       "      <td>4</td>\n",
       "      <td>81</td>\n",
       "    </tr>\n",
       "    <tr>\n",
       "      <td>1</td>\n",
       "      <td>562</td>\n",
       "      <td>2.0</td>\n",
       "      <td>97</td>\n",
       "      <td>7</td>\n",
       "      <td>4</td>\n",
       "      <td>91</td>\n",
       "    </tr>\n",
       "    <tr>\n",
       "      <td>2</td>\n",
       "      <td>562</td>\n",
       "      <td>3.0</td>\n",
       "      <td>159</td>\n",
       "      <td>7</td>\n",
       "      <td>4</td>\n",
       "      <td>100</td>\n",
       "    </tr>\n",
       "    <tr>\n",
       "      <td>3</td>\n",
       "      <td>562</td>\n",
       "      <td>4.0</td>\n",
       "      <td>99</td>\n",
       "      <td>7</td>\n",
       "      <td>4</td>\n",
       "      <td>105</td>\n",
       "    </tr>\n",
       "    <tr>\n",
       "      <td>4</td>\n",
       "      <td>562</td>\n",
       "      <td>5.0</td>\n",
       "      <td>155</td>\n",
       "      <td>7</td>\n",
       "      <td>4</td>\n",
       "      <td>109</td>\n",
       "    </tr>\n",
       "    <tr>\n",
       "      <td>...</td>\n",
       "      <td>...</td>\n",
       "      <td>...</td>\n",
       "      <td>...</td>\n",
       "      <td>...</td>\n",
       "      <td>...</td>\n",
       "      <td>...</td>\n",
       "    </tr>\n",
       "    <tr>\n",
       "      <td>243023</td>\n",
       "      <td>121</td>\n",
       "      <td>2.0</td>\n",
       "      <td>12</td>\n",
       "      <td>4</td>\n",
       "      <td>5</td>\n",
       "      <td>1145</td>\n",
       "    </tr>\n",
       "    <tr>\n",
       "      <td>243024</td>\n",
       "      <td>121</td>\n",
       "      <td>3.0</td>\n",
       "      <td>47</td>\n",
       "      <td>4</td>\n",
       "      <td>5</td>\n",
       "      <td>1148</td>\n",
       "    </tr>\n",
       "    <tr>\n",
       "      <td>243025</td>\n",
       "      <td>121</td>\n",
       "      <td>4.0</td>\n",
       "      <td>16</td>\n",
       "      <td>4</td>\n",
       "      <td>5</td>\n",
       "      <td>1150</td>\n",
       "    </tr>\n",
       "    <tr>\n",
       "      <td>243026</td>\n",
       "      <td>121</td>\n",
       "      <td>5.0</td>\n",
       "      <td>145</td>\n",
       "      <td>4</td>\n",
       "      <td>5</td>\n",
       "      <td>1161</td>\n",
       "    </tr>\n",
       "    <tr>\n",
       "      <td>243027</td>\n",
       "      <td>121</td>\n",
       "      <td>6.0</td>\n",
       "      <td>98</td>\n",
       "      <td>4</td>\n",
       "      <td>5</td>\n",
       "      <td>1177</td>\n",
       "    </tr>\n",
       "  </tbody>\n",
       "</table>\n",
       "<p>243028 rows × 6 columns</p>\n",
       "</div>"
      ],
      "text/plain": [
       "        train_id  stop_sequence  from_id  line  day  time\n",
       "0            562            1.0       97     7    4    81\n",
       "1            562            2.0       97     7    4    91\n",
       "2            562            3.0      159     7    4   100\n",
       "3            562            4.0       99     7    4   105\n",
       "4            562            5.0      155     7    4   109\n",
       "...          ...            ...      ...   ...  ...   ...\n",
       "243023       121            2.0       12     4    5  1145\n",
       "243024       121            3.0       47     4    5  1148\n",
       "243025       121            4.0       16     4    5  1150\n",
       "243026       121            5.0      145     4    5  1161\n",
       "243027       121            6.0       98     4    5  1177\n",
       "\n",
       "[243028 rows x 6 columns]"
      ]
     },
     "execution_count": 162,
     "metadata": {},
     "output_type": "execute_result"
    }
   ],
   "source": [
    "df"
   ]
  },
  {
   "cell_type": "code",
   "execution_count": 163,
   "metadata": {},
   "outputs": [
    {
     "data": {
      "image/png": "[encoded data removed]",
      "text/plain": [
       "<Figure size 864x432 with 2 Axes>"
      ]
     },
     "metadata": {
      "needs_background": "light"
     },
     "output_type": "display_data"
    }
   ],
   "source": [
    "acc = history_3classes.history['accuracy']\n",
    "val_acc = history_3classes.history['val_accuracy']\n",
    "\n",
    "loss = history_3classes.history['loss']\n",
    "val_loss = history_3classes.history['val_loss']\n",
    "\n",
    "epochs_range = range(10)\n",
    "\n",
    "plt.figure(figsize=(12, 6))\n",
    "plt.subplot(1, 2, 1)\n",
    "plt.plot(epochs_range, acc, label='Training Accuracy')\n",
    "plt.plot(epochs_range, val_acc, label='Validation Accuracy')\n",
    "plt.legend(loc='lower right')\n",
    "plt.title('Training and Validation Accuracy')\n",
    "\n",
    "plt.subplot(1, 2, 2)\n",
    "plt.plot(epochs_range, loss, label='Training Loss')\n",
    "plt.plot(epochs_range, val_loss, label='Validation Loss')\n",
    "plt.legend(loc='upper right')\n",
    "plt.title('Training and Validation Loss')\n",
    "plt.show()"
   ]
  },
  {
   "cell_type": "code",
   "execution_count": 164,
   "metadata": {},
   "outputs": [
    {
     "name": "stdout",
     "output_type": "stream",
     "text": [
      "237991/237991 [==============================] - 8s 35us/step\n"
     ]
    },
    {
     "data": {
      "text/plain": [
       "[0.13940356531175185, 0.4807450771331787]"
      ]
     },
     "execution_count": 164,
     "metadata": {},
     "output_type": "execute_result"
    }
   ],
   "source": [
    "model2.evaluate(scalar.fit_transform(X_test), y = (Y_test-minY)/(maxY-minY), batch_size=10, verbose=1)"
   ]
  },
  {
   "cell_type": "markdown",
   "metadata": {},
   "source": [
    "# Regression"
   ]
  },
  {
   "cell_type": "code",
   "execution_count": 165,
   "metadata": {},
   "outputs": [],
   "source": [
    "def build_poly(x, degree):\n",
    "    \"\"\"polynomial basis functions for input data x, for j=0 up to j=degree.\"\"\"\n",
    "    poly = np.ones((len(x), 1))\n",
    "    for deg in range(1, degree + 1):\n",
    "        poly = np.c_[poly, np.power(x, deg)]\n",
    "    return poly"
   ]
  },
  {
   "cell_type": "code",
   "execution_count": 166,
   "metadata": {},
   "outputs": [],
   "source": [
    "X = X_m.copy()\n",
    "Y = Y_m.copy()\n",
    "scalar = MinMaxScaler()\n",
    "X = scalar.fit_transform(X)\n",
    "sinx = np.sin(X)\n",
    "cosx = np.cos(X)\n",
    "ex = np.exp(X)\n",
    "logx = np.log(X+1)\n",
    "X = np.append(X,sinx,axis=1)\n",
    "X = np.append(X,cosx,axis=1)\n",
    "X = np.append(X,ex,axis=1)\n",
    "X = np.append(X,logx,axis=1)\n",
    "X = build_poly(X, 5)"
   ]
  },
  {
   "cell_type": "code",
   "execution_count": 167,
   "metadata": {},
   "outputs": [],
   "source": [
    "X_test_reg = X_test.copy()\n",
    "scalar = MinMaxScaler()\n",
    "X_test_reg = scalar.fit_transform(X_test_reg)"
   ]
  },
  {
   "cell_type": "code",
   "execution_count": 168,
   "metadata": {},
   "outputs": [],
   "source": [
    "sinx = np.sin(X_test_reg)\n",
    "cosx = np.cos(X_test_reg)\n",
    "ex = np.exp(X_test_reg)\n",
    "logx = np.log(X_test_reg+1)\n",
    "X_test_reg = np.append(X_test_reg,sinx,axis=1)\n",
    "X_test_reg = np.append(X_test_reg,cosx,axis=1)\n",
    "X_test_reg = np.append(X_test_reg,ex,axis=1)\n",
    "X_test_reg = np.append(X_test_reg,logx,axis=1)\n",
    "X_test_reg = build_poly(X_test_reg, 5)"
   ]
  },
  {
   "cell_type": "code",
   "execution_count": 169,
   "metadata": {},
   "outputs": [
    {
     "data": {
      "text/plain": [
       "(243028, 151)"
      ]
     },
     "execution_count": 169,
     "metadata": {},
     "output_type": "execute_result"
    }
   ],
   "source": [
    "X.shape"
   ]
  },
  {
   "cell_type": "code",
   "execution_count": 170,
   "metadata": {},
   "outputs": [
    {
     "data": {
      "text/plain": [
       "LinearRegression(copy_X=True, fit_intercept=True, n_jobs=None, normalize=False)"
      ]
     },
     "execution_count": 170,
     "metadata": {},
     "output_type": "execute_result"
    }
   ],
   "source": [
    "from sklearn.linear_model import Ridge,SGDRegressor,LinearRegression\n",
    "clf = LinearRegression()\n",
    "clf.fit(X, Y)"
   ]
  },
  {
   "cell_type": "code",
   "execution_count": 171,
   "metadata": {},
   "outputs": [],
   "source": [
    "y_pred = clf.predict(X_test_reg)"
   ]
  },
  {
   "cell_type": "code",
   "execution_count": 172,
   "metadata": {},
   "outputs": [
    {
     "data": {
      "text/plain": [
       "1.2183617728919474"
      ]
     },
     "execution_count": 172,
     "metadata": {},
     "output_type": "execute_result"
    }
   ],
   "source": [
    "from sklearn.metrics import mean_squared_error,r2_score,accuracy_score\n",
    "mean_squared_error(Y_test, y_pred)"
   ]
  },
  {
   "cell_type": "code",
   "execution_count": 173,
   "metadata": {},
   "outputs": [
    {
     "data": {
      "text/plain": [
       "0.14218446280029529"
      ]
     },
     "execution_count": 173,
     "metadata": {},
     "output_type": "execute_result"
    }
   ],
   "source": [
    "r2_score( Y_test, y_pred)"
   ]
  },
  {
   "cell_type": "code",
   "execution_count": null,
   "metadata": {},
   "outputs": [],
   "source": []
  }
 ],
 "metadata": {
  "kernelspec": {
   "display_name": "Python 3",
   "language": "python",
   "name": "python3"
  },
  "language_info": {
   "codemirror_mode": {
    "name": "ipython",
    "version": 3
   },
   "file_extension": ".py",
   "mimetype": "text/x-python",
   "name": "python",
   "nbconvert_exporter": "python",
   "pygments_lexer": "ipython3",
   "version": "3.7.3"
  }
 },
 "nbformat": 4,
 "nbformat_minor": 4
}
