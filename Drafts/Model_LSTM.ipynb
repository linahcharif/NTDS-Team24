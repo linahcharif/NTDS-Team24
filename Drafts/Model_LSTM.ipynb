{
  "nbformat": 4,
  "nbformat_minor": 0,
  "metadata": {
    "kernelspec": {
      "display_name": "Python 3",
      "language": "python",
      "name": "python3"
    },
    "language_info": {
      "codemirror_mode": {
        "name": "ipython",
        "version": 3
      },
      "file_extension": ".py",
      "mimetype": "text/x-python",
      "name": "python",
      "nbconvert_exporter": "python",
      "pygments_lexer": "ipython3",
      "version": "3.7.3"
    },
    "colab": {
      "name": "Preprocessing_ML.ipynb",
      "provenance": [],
      "collapsed_sections": []
    }
  },
  "cells": [
    {
      "cell_type": "markdown",
      "metadata": {
        "id": "Tnr89AVpIE_0",
        "colab_type": "text"
      },
      "source": [
        "# Preprocessing of the data"
      ]
    },
    {
      "cell_type": "code",
      "metadata": {
        "id": "g4K0qptsIE_2",
        "colab_type": "code",
        "colab": {
          "base_uri": "https://localhost:8080/",
          "height": 55
        },
        "outputId": "3b6234b6-d4b8-410b-9cda-67367c57339d"
      },
      "source": [
        "import numpy as np\n",
        "import pandas as pd\n",
        "import matplotlib.pyplot as plt\n",
        "import matplotlib.colors as mcolors\n",
        "import datetime\n",
        "import sklearn\n",
        "\n",
        "from google.colab import drive\n",
        "drive.mount('/content/drive')"
      ],
      "execution_count": 1,
      "outputs": [
        {
          "output_type": "stream",
          "text": [
            "Drive already mounted at /content/drive; to attempt to forcibly remount, call drive.mount(\"/content/drive\", force_remount=True).\n"
          ],
          "name": "stdout"
        }
      ]
    },
    {
      "cell_type": "markdown",
      "metadata": {
        "id": "tYxGHSz9IE_4",
        "colab_type": "text"
      },
      "source": [
        "Import the data for the NJ train network. Month of March 2018. Drop the observations with NaN delay."
      ]
    },
    {
      "cell_type": "code",
      "metadata": {
        "id": "bpmvzos3IE_5",
        "colab_type": "code",
        "colab": {}
      },
      "source": [
        "df = pd.read_csv('/content/2018_03.csv')\n",
        "df.dropna(subset=['delay_minutes'], inplace=True)\n",
        "df.reset_index(drop=True, inplace=True)"
      ],
      "execution_count": 0,
      "outputs": []
    },
    {
      "cell_type": "markdown",
      "metadata": {
        "id": "0vyknETDIE_7",
        "colab_type": "text"
      },
      "source": [
        "Encoding the days of the week (0 : Monday ..., 6 : Sunday) "
      ]
    },
    {
      "cell_type": "code",
      "metadata": {
        "id": "LmKz3w0SIE_7",
        "colab_type": "code",
        "colab": {}
      },
      "source": [
        "day = []\n",
        "time = []\n",
        "\n",
        "for (k,v) in enumerate(df['actual_time']):\n",
        "    aux = datetime.datetime.strptime(v, '%Y-%m-%d %H:%M:%S')\n",
        "    time_only = aux.time()\n",
        "    day.append(aux.weekday())\n",
        "    time_in_min = time_only.hour*60 + time_only.minute\n",
        "    time.append(time_in_min)\n",
        "    \n",
        "df['day'] = day\n",
        "df['time'] = time"
      ],
      "execution_count": 0,
      "outputs": []
    },
    {
      "cell_type": "code",
      "metadata": {
        "id": "ghM02ODEIE_9",
        "colab_type": "code",
        "outputId": "e8b49e0e-8d89-4bcc-fd64-95f4c86a707d",
        "colab": {
          "base_uri": "https://localhost:8080/",
          "height": 378
        }
      },
      "source": [
        "df.head(n=5)"
      ],
      "execution_count": 4,
      "outputs": [
        {
          "output_type": "execute_result",
          "data": {
            "text/html": [
              "<div>\n",
              "<style scoped>\n",
              "    .dataframe tbody tr th:only-of-type {\n",
              "        vertical-align: middle;\n",
              "    }\n",
              "\n",
              "    .dataframe tbody tr th {\n",
              "        vertical-align: top;\n",
              "    }\n",
              "\n",
              "    .dataframe thead th {\n",
              "        text-align: right;\n",
              "    }\n",
              "</style>\n",
              "<table border=\"1\" class=\"dataframe\">\n",
              "  <thead>\n",
              "    <tr style=\"text-align: right;\">\n",
              "      <th></th>\n",
              "      <th>date</th>\n",
              "      <th>train_id</th>\n",
              "      <th>stop_sequence</th>\n",
              "      <th>from</th>\n",
              "      <th>from_id</th>\n",
              "      <th>to</th>\n",
              "      <th>to_id</th>\n",
              "      <th>scheduled_time</th>\n",
              "      <th>actual_time</th>\n",
              "      <th>delay_minutes</th>\n",
              "      <th>status</th>\n",
              "      <th>line</th>\n",
              "      <th>type</th>\n",
              "      <th>day</th>\n",
              "      <th>time</th>\n",
              "    </tr>\n",
              "  </thead>\n",
              "  <tbody>\n",
              "    <tr>\n",
              "      <th>0</th>\n",
              "      <td>2018-03-01</td>\n",
              "      <td>3805</td>\n",
              "      <td>1.0</td>\n",
              "      <td>New York Penn Station</td>\n",
              "      <td>105</td>\n",
              "      <td>New York Penn Station</td>\n",
              "      <td>105</td>\n",
              "      <td>2018-03-02 01:22:00</td>\n",
              "      <td>2018-03-02 01:21:05</td>\n",
              "      <td>0.000000</td>\n",
              "      <td>departed</td>\n",
              "      <td>Northeast Corrdr</td>\n",
              "      <td>NJ Transit</td>\n",
              "      <td>4</td>\n",
              "      <td>81</td>\n",
              "    </tr>\n",
              "    <tr>\n",
              "      <th>1</th>\n",
              "      <td>2018-03-01</td>\n",
              "      <td>3805</td>\n",
              "      <td>2.0</td>\n",
              "      <td>New York Penn Station</td>\n",
              "      <td>105</td>\n",
              "      <td>Secaucus Upper Lvl</td>\n",
              "      <td>38187</td>\n",
              "      <td>2018-03-02 01:31:00</td>\n",
              "      <td>2018-03-02 01:31:08</td>\n",
              "      <td>0.133333</td>\n",
              "      <td>departed</td>\n",
              "      <td>Northeast Corrdr</td>\n",
              "      <td>NJ Transit</td>\n",
              "      <td>4</td>\n",
              "      <td>91</td>\n",
              "    </tr>\n",
              "    <tr>\n",
              "      <th>2</th>\n",
              "      <td>2018-03-01</td>\n",
              "      <td>3805</td>\n",
              "      <td>3.0</td>\n",
              "      <td>Secaucus Upper Lvl</td>\n",
              "      <td>38187</td>\n",
              "      <td>Newark Penn Station</td>\n",
              "      <td>107</td>\n",
              "      <td>2018-03-02 01:40:00</td>\n",
              "      <td>2018-03-02 01:40:07</td>\n",
              "      <td>0.116667</td>\n",
              "      <td>departed</td>\n",
              "      <td>Northeast Corrdr</td>\n",
              "      <td>NJ Transit</td>\n",
              "      <td>4</td>\n",
              "      <td>100</td>\n",
              "    </tr>\n",
              "    <tr>\n",
              "      <th>3</th>\n",
              "      <td>2018-03-01</td>\n",
              "      <td>3805</td>\n",
              "      <td>4.0</td>\n",
              "      <td>Newark Penn Station</td>\n",
              "      <td>107</td>\n",
              "      <td>Newark Airport</td>\n",
              "      <td>37953</td>\n",
              "      <td>2018-03-02 01:45:00</td>\n",
              "      <td>2018-03-02 01:45:10</td>\n",
              "      <td>0.166667</td>\n",
              "      <td>departed</td>\n",
              "      <td>Northeast Corrdr</td>\n",
              "      <td>NJ Transit</td>\n",
              "      <td>4</td>\n",
              "      <td>105</td>\n",
              "    </tr>\n",
              "    <tr>\n",
              "      <th>4</th>\n",
              "      <td>2018-03-01</td>\n",
              "      <td>3805</td>\n",
              "      <td>5.0</td>\n",
              "      <td>Newark Airport</td>\n",
              "      <td>37953</td>\n",
              "      <td>North Elizabeth</td>\n",
              "      <td>109</td>\n",
              "      <td>2018-03-02 01:49:00</td>\n",
              "      <td>2018-03-02 01:49:10</td>\n",
              "      <td>0.166667</td>\n",
              "      <td>departed</td>\n",
              "      <td>Northeast Corrdr</td>\n",
              "      <td>NJ Transit</td>\n",
              "      <td>4</td>\n",
              "      <td>109</td>\n",
              "    </tr>\n",
              "  </tbody>\n",
              "</table>\n",
              "</div>"
            ],
            "text/plain": [
              "         date train_id  stop_sequence  ...        type  day time\n",
              "0  2018-03-01     3805            1.0  ...  NJ Transit    4   81\n",
              "1  2018-03-01     3805            2.0  ...  NJ Transit    4   91\n",
              "2  2018-03-01     3805            3.0  ...  NJ Transit    4  100\n",
              "3  2018-03-01     3805            4.0  ...  NJ Transit    4  105\n",
              "4  2018-03-01     3805            5.0  ...  NJ Transit    4  109\n",
              "\n",
              "[5 rows x 15 columns]"
            ]
          },
          "metadata": {
            "tags": []
          },
          "execution_count": 4
        }
      ]
    },
    {
      "cell_type": "markdown",
      "metadata": {
        "id": "VjNE72GaIFAA",
        "colab_type": "text"
      },
      "source": [
        "Encoding the line names and the departure station with label encoding"
      ]
    },
    {
      "cell_type": "code",
      "metadata": {
        "id": "u4R7T4bKIFAB",
        "colab_type": "code",
        "colab": {}
      },
      "source": [
        "from sklearn import preprocessing\n",
        "\n",
        "le = preprocessing.LabelEncoder()\n",
        "\n",
        "df['line'] = le.fit_transform(df['line'])\n",
        "df['from_id'] = le.fit_transform(df['from_id'])\n",
        "df['train_id'] = le.fit_transform(df['train_id'])"
      ],
      "execution_count": 0,
      "outputs": []
    },
    {
      "cell_type": "code",
      "metadata": {
        "id": "jK-NFLV4IFAC",
        "colab_type": "code",
        "outputId": "5283fad0-aa6e-46b3-d28e-b9ff0176b60b",
        "colab": {
          "base_uri": "https://localhost:8080/",
          "height": 378
        }
      },
      "source": [
        "df.head()"
      ],
      "execution_count": 6,
      "outputs": [
        {
          "output_type": "execute_result",
          "data": {
            "text/html": [
              "<div>\n",
              "<style scoped>\n",
              "    .dataframe tbody tr th:only-of-type {\n",
              "        vertical-align: middle;\n",
              "    }\n",
              "\n",
              "    .dataframe tbody tr th {\n",
              "        vertical-align: top;\n",
              "    }\n",
              "\n",
              "    .dataframe thead th {\n",
              "        text-align: right;\n",
              "    }\n",
              "</style>\n",
              "<table border=\"1\" class=\"dataframe\">\n",
              "  <thead>\n",
              "    <tr style=\"text-align: right;\">\n",
              "      <th></th>\n",
              "      <th>date</th>\n",
              "      <th>train_id</th>\n",
              "      <th>stop_sequence</th>\n",
              "      <th>from</th>\n",
              "      <th>from_id</th>\n",
              "      <th>to</th>\n",
              "      <th>to_id</th>\n",
              "      <th>scheduled_time</th>\n",
              "      <th>actual_time</th>\n",
              "      <th>delay_minutes</th>\n",
              "      <th>status</th>\n",
              "      <th>line</th>\n",
              "      <th>type</th>\n",
              "      <th>day</th>\n",
              "      <th>time</th>\n",
              "    </tr>\n",
              "  </thead>\n",
              "  <tbody>\n",
              "    <tr>\n",
              "      <th>0</th>\n",
              "      <td>2018-03-01</td>\n",
              "      <td>562</td>\n",
              "      <td>1.0</td>\n",
              "      <td>New York Penn Station</td>\n",
              "      <td>97</td>\n",
              "      <td>New York Penn Station</td>\n",
              "      <td>105</td>\n",
              "      <td>2018-03-02 01:22:00</td>\n",
              "      <td>2018-03-02 01:21:05</td>\n",
              "      <td>0.000000</td>\n",
              "      <td>departed</td>\n",
              "      <td>7</td>\n",
              "      <td>NJ Transit</td>\n",
              "      <td>4</td>\n",
              "      <td>81</td>\n",
              "    </tr>\n",
              "    <tr>\n",
              "      <th>1</th>\n",
              "      <td>2018-03-01</td>\n",
              "      <td>562</td>\n",
              "      <td>2.0</td>\n",
              "      <td>New York Penn Station</td>\n",
              "      <td>97</td>\n",
              "      <td>Secaucus Upper Lvl</td>\n",
              "      <td>38187</td>\n",
              "      <td>2018-03-02 01:31:00</td>\n",
              "      <td>2018-03-02 01:31:08</td>\n",
              "      <td>0.133333</td>\n",
              "      <td>departed</td>\n",
              "      <td>7</td>\n",
              "      <td>NJ Transit</td>\n",
              "      <td>4</td>\n",
              "      <td>91</td>\n",
              "    </tr>\n",
              "    <tr>\n",
              "      <th>2</th>\n",
              "      <td>2018-03-01</td>\n",
              "      <td>562</td>\n",
              "      <td>3.0</td>\n",
              "      <td>Secaucus Upper Lvl</td>\n",
              "      <td>159</td>\n",
              "      <td>Newark Penn Station</td>\n",
              "      <td>107</td>\n",
              "      <td>2018-03-02 01:40:00</td>\n",
              "      <td>2018-03-02 01:40:07</td>\n",
              "      <td>0.116667</td>\n",
              "      <td>departed</td>\n",
              "      <td>7</td>\n",
              "      <td>NJ Transit</td>\n",
              "      <td>4</td>\n",
              "      <td>100</td>\n",
              "    </tr>\n",
              "    <tr>\n",
              "      <th>3</th>\n",
              "      <td>2018-03-01</td>\n",
              "      <td>562</td>\n",
              "      <td>4.0</td>\n",
              "      <td>Newark Penn Station</td>\n",
              "      <td>99</td>\n",
              "      <td>Newark Airport</td>\n",
              "      <td>37953</td>\n",
              "      <td>2018-03-02 01:45:00</td>\n",
              "      <td>2018-03-02 01:45:10</td>\n",
              "      <td>0.166667</td>\n",
              "      <td>departed</td>\n",
              "      <td>7</td>\n",
              "      <td>NJ Transit</td>\n",
              "      <td>4</td>\n",
              "      <td>105</td>\n",
              "    </tr>\n",
              "    <tr>\n",
              "      <th>4</th>\n",
              "      <td>2018-03-01</td>\n",
              "      <td>562</td>\n",
              "      <td>5.0</td>\n",
              "      <td>Newark Airport</td>\n",
              "      <td>155</td>\n",
              "      <td>North Elizabeth</td>\n",
              "      <td>109</td>\n",
              "      <td>2018-03-02 01:49:00</td>\n",
              "      <td>2018-03-02 01:49:10</td>\n",
              "      <td>0.166667</td>\n",
              "      <td>departed</td>\n",
              "      <td>7</td>\n",
              "      <td>NJ Transit</td>\n",
              "      <td>4</td>\n",
              "      <td>109</td>\n",
              "    </tr>\n",
              "  </tbody>\n",
              "</table>\n",
              "</div>"
            ],
            "text/plain": [
              "         date  train_id  stop_sequence  ...        type  day time\n",
              "0  2018-03-01       562            1.0  ...  NJ Transit    4   81\n",
              "1  2018-03-01       562            2.0  ...  NJ Transit    4   91\n",
              "2  2018-03-01       562            3.0  ...  NJ Transit    4  100\n",
              "3  2018-03-01       562            4.0  ...  NJ Transit    4  105\n",
              "4  2018-03-01       562            5.0  ...  NJ Transit    4  109\n",
              "\n",
              "[5 rows x 15 columns]"
            ]
          },
          "metadata": {
            "tags": []
          },
          "execution_count": 6
        }
      ]
    },
    {
      "cell_type": "code",
      "metadata": {
        "id": "FdT9gguPIFAE",
        "colab_type": "code",
        "colab": {}
      },
      "source": [
        "df.drop(columns = ['date','from','to','to_id','scheduled_time','status','type','actual_time'], inplace = True)"
      ],
      "execution_count": 0,
      "outputs": []
    },
    {
      "cell_type": "code",
      "metadata": {
        "id": "3BZGAhJwIFAG",
        "colab_type": "code",
        "colab": {}
      },
      "source": [
        "df.head(n=5)\n",
        "df['delay_seconds'] = df['delay_minutes']*60\n",
        "df.drop(columns=['delay_minutes'],inplace=True)\n",
        "#len(df)\n"
      ],
      "execution_count": 0,
      "outputs": []
    },
    {
      "cell_type": "code",
      "metadata": {
        "id": "ix4U53paIFAI",
        "colab_type": "code",
        "outputId": "5f9d85c7-4733-48d7-cdd9-3cafaf3c42a2",
        "colab": {
          "base_uri": "https://localhost:8080/",
          "height": 35
        }
      },
      "source": [
        "df.sort_values(by=['train_id','day'])\n",
        "df.head(50)\n",
        "len(df[df['line']==7])"
      ],
      "execution_count": 9,
      "outputs": [
        {
          "output_type": "execute_result",
          "data": {
            "text/plain": [
              "37663"
            ]
          },
          "metadata": {
            "tags": []
          },
          "execution_count": 9
        }
      ]
    },
    {
      "cell_type": "code",
      "metadata": {
        "id": "Pe-4Zy-cIFAK",
        "colab_type": "code",
        "outputId": "5b2f5009-59f5-410e-8471-37ac4a90325d",
        "colab": {
          "base_uri": "https://localhost:8080/",
          "height": 1000
        }
      },
      "source": [
        "df.head(50)"
      ],
      "execution_count": 10,
      "outputs": [
        {
          "output_type": "execute_result",
          "data": {
            "text/html": [
              "<div>\n",
              "<style scoped>\n",
              "    .dataframe tbody tr th:only-of-type {\n",
              "        vertical-align: middle;\n",
              "    }\n",
              "\n",
              "    .dataframe tbody tr th {\n",
              "        vertical-align: top;\n",
              "    }\n",
              "\n",
              "    .dataframe thead th {\n",
              "        text-align: right;\n",
              "    }\n",
              "</style>\n",
              "<table border=\"1\" class=\"dataframe\">\n",
              "  <thead>\n",
              "    <tr style=\"text-align: right;\">\n",
              "      <th></th>\n",
              "      <th>train_id</th>\n",
              "      <th>stop_sequence</th>\n",
              "      <th>from_id</th>\n",
              "      <th>line</th>\n",
              "      <th>day</th>\n",
              "      <th>time</th>\n",
              "      <th>delay_seconds</th>\n",
              "    </tr>\n",
              "  </thead>\n",
              "  <tbody>\n",
              "    <tr>\n",
              "      <th>0</th>\n",
              "      <td>562</td>\n",
              "      <td>1.0</td>\n",
              "      <td>97</td>\n",
              "      <td>7</td>\n",
              "      <td>4</td>\n",
              "      <td>81</td>\n",
              "      <td>0.0</td>\n",
              "    </tr>\n",
              "    <tr>\n",
              "      <th>1</th>\n",
              "      <td>562</td>\n",
              "      <td>2.0</td>\n",
              "      <td>97</td>\n",
              "      <td>7</td>\n",
              "      <td>4</td>\n",
              "      <td>91</td>\n",
              "      <td>8.0</td>\n",
              "    </tr>\n",
              "    <tr>\n",
              "      <th>2</th>\n",
              "      <td>562</td>\n",
              "      <td>3.0</td>\n",
              "      <td>159</td>\n",
              "      <td>7</td>\n",
              "      <td>4</td>\n",
              "      <td>100</td>\n",
              "      <td>7.0</td>\n",
              "    </tr>\n",
              "    <tr>\n",
              "      <th>3</th>\n",
              "      <td>562</td>\n",
              "      <td>4.0</td>\n",
              "      <td>99</td>\n",
              "      <td>7</td>\n",
              "      <td>4</td>\n",
              "      <td>105</td>\n",
              "      <td>10.0</td>\n",
              "    </tr>\n",
              "    <tr>\n",
              "      <th>4</th>\n",
              "      <td>562</td>\n",
              "      <td>5.0</td>\n",
              "      <td>155</td>\n",
              "      <td>7</td>\n",
              "      <td>4</td>\n",
              "      <td>109</td>\n",
              "      <td>10.0</td>\n",
              "    </tr>\n",
              "    <tr>\n",
              "      <th>5</th>\n",
              "      <td>562</td>\n",
              "      <td>6.0</td>\n",
              "      <td>101</td>\n",
              "      <td>7</td>\n",
              "      <td>4</td>\n",
              "      <td>112</td>\n",
              "      <td>1.0</td>\n",
              "    </tr>\n",
              "    <tr>\n",
              "      <th>6</th>\n",
              "      <td>562</td>\n",
              "      <td>7.0</td>\n",
              "      <td>38</td>\n",
              "      <td>7</td>\n",
              "      <td>4</td>\n",
              "      <td>118</td>\n",
              "      <td>5.0</td>\n",
              "    </tr>\n",
              "    <tr>\n",
              "      <th>7</th>\n",
              "      <td>562</td>\n",
              "      <td>8.0</td>\n",
              "      <td>64</td>\n",
              "      <td>7</td>\n",
              "      <td>4</td>\n",
              "      <td>121</td>\n",
              "      <td>0.0</td>\n",
              "    </tr>\n",
              "    <tr>\n",
              "      <th>8</th>\n",
              "      <td>562</td>\n",
              "      <td>9.0</td>\n",
              "      <td>119</td>\n",
              "      <td>7</td>\n",
              "      <td>4</td>\n",
              "      <td>128</td>\n",
              "      <td>0.0</td>\n",
              "    </tr>\n",
              "    <tr>\n",
              "      <th>9</th>\n",
              "      <td>562</td>\n",
              "      <td>10.0</td>\n",
              "      <td>75</td>\n",
              "      <td>7</td>\n",
              "      <td>4</td>\n",
              "      <td>133</td>\n",
              "      <td>10.0</td>\n",
              "    </tr>\n",
              "    <tr>\n",
              "      <th>10</th>\n",
              "      <td>562</td>\n",
              "      <td>11.0</td>\n",
              "      <td>76</td>\n",
              "      <td>7</td>\n",
              "      <td>4</td>\n",
              "      <td>138</td>\n",
              "      <td>9.0</td>\n",
              "    </tr>\n",
              "    <tr>\n",
              "      <th>11</th>\n",
              "      <td>562</td>\n",
              "      <td>12.0</td>\n",
              "      <td>35</td>\n",
              "      <td>7</td>\n",
              "      <td>4</td>\n",
              "      <td>143</td>\n",
              "      <td>9.0</td>\n",
              "    </tr>\n",
              "    <tr>\n",
              "      <th>12</th>\n",
              "      <td>562</td>\n",
              "      <td>13.0</td>\n",
              "      <td>95</td>\n",
              "      <td>7</td>\n",
              "      <td>4</td>\n",
              "      <td>148</td>\n",
              "      <td>8.0</td>\n",
              "    </tr>\n",
              "    <tr>\n",
              "      <th>13</th>\n",
              "      <td>562</td>\n",
              "      <td>14.0</td>\n",
              "      <td>153</td>\n",
              "      <td>7</td>\n",
              "      <td>4</td>\n",
              "      <td>153</td>\n",
              "      <td>0.0</td>\n",
              "    </tr>\n",
              "    <tr>\n",
              "      <th>14</th>\n",
              "      <td>562</td>\n",
              "      <td>15.0</td>\n",
              "      <td>117</td>\n",
              "      <td>7</td>\n",
              "      <td>4</td>\n",
              "      <td>159</td>\n",
              "      <td>0.0</td>\n",
              "    </tr>\n",
              "    <tr>\n",
              "      <th>15</th>\n",
              "      <td>562</td>\n",
              "      <td>16.0</td>\n",
              "      <td>152</td>\n",
              "      <td>7</td>\n",
              "      <td>4</td>\n",
              "      <td>162</td>\n",
              "      <td>0.0</td>\n",
              "    </tr>\n",
              "    <tr>\n",
              "      <th>16</th>\n",
              "      <td>443</td>\n",
              "      <td>1.0</td>\n",
              "      <td>11</td>\n",
              "      <td>6</td>\n",
              "      <td>3</td>\n",
              "      <td>846</td>\n",
              "      <td>63.0</td>\n",
              "    </tr>\n",
              "    <tr>\n",
              "      <th>17</th>\n",
              "      <td>443</td>\n",
              "      <td>2.0</td>\n",
              "      <td>11</td>\n",
              "      <td>6</td>\n",
              "      <td>3</td>\n",
              "      <td>852</td>\n",
              "      <td>183.0</td>\n",
              "    </tr>\n",
              "    <tr>\n",
              "      <th>18</th>\n",
              "      <td>443</td>\n",
              "      <td>3.0</td>\n",
              "      <td>114</td>\n",
              "      <td>6</td>\n",
              "      <td>3</td>\n",
              "      <td>857</td>\n",
              "      <td>190.0</td>\n",
              "    </tr>\n",
              "    <tr>\n",
              "      <th>19</th>\n",
              "      <td>443</td>\n",
              "      <td>4.0</td>\n",
              "      <td>73</td>\n",
              "      <td>6</td>\n",
              "      <td>3</td>\n",
              "      <td>861</td>\n",
              "      <td>182.0</td>\n",
              "    </tr>\n",
              "    <tr>\n",
              "      <th>20</th>\n",
              "      <td>443</td>\n",
              "      <td>5.0</td>\n",
              "      <td>132</td>\n",
              "      <td>6</td>\n",
              "      <td>3</td>\n",
              "      <td>864</td>\n",
              "      <td>125.0</td>\n",
              "    </tr>\n",
              "    <tr>\n",
              "      <th>21</th>\n",
              "      <td>443</td>\n",
              "      <td>6.0</td>\n",
              "      <td>13</td>\n",
              "      <td>6</td>\n",
              "      <td>3</td>\n",
              "      <td>868</td>\n",
              "      <td>126.0</td>\n",
              "    </tr>\n",
              "    <tr>\n",
              "      <th>22</th>\n",
              "      <td>443</td>\n",
              "      <td>7.0</td>\n",
              "      <td>19</td>\n",
              "      <td>6</td>\n",
              "      <td>3</td>\n",
              "      <td>870</td>\n",
              "      <td>68.0</td>\n",
              "    </tr>\n",
              "    <tr>\n",
              "      <th>23</th>\n",
              "      <td>443</td>\n",
              "      <td>8.0</td>\n",
              "      <td>6</td>\n",
              "      <td>6</td>\n",
              "      <td>3</td>\n",
              "      <td>874</td>\n",
              "      <td>67.0</td>\n",
              "    </tr>\n",
              "    <tr>\n",
              "      <th>24</th>\n",
              "      <td>443</td>\n",
              "      <td>9.0</td>\n",
              "      <td>3</td>\n",
              "      <td>6</td>\n",
              "      <td>3</td>\n",
              "      <td>878</td>\n",
              "      <td>66.0</td>\n",
              "    </tr>\n",
              "    <tr>\n",
              "      <th>25</th>\n",
              "      <td>443</td>\n",
              "      <td>10.0</td>\n",
              "      <td>37</td>\n",
              "      <td>6</td>\n",
              "      <td>3</td>\n",
              "      <td>882</td>\n",
              "      <td>10.0</td>\n",
              "    </tr>\n",
              "    <tr>\n",
              "      <th>26</th>\n",
              "      <td>443</td>\n",
              "      <td>11.0</td>\n",
              "      <td>68</td>\n",
              "      <td>6</td>\n",
              "      <td>3</td>\n",
              "      <td>890</td>\n",
              "      <td>62.0</td>\n",
              "    </tr>\n",
              "    <tr>\n",
              "      <th>27</th>\n",
              "      <td>443</td>\n",
              "      <td>12.0</td>\n",
              "      <td>67</td>\n",
              "      <td>6</td>\n",
              "      <td>3</td>\n",
              "      <td>894</td>\n",
              "      <td>9.0</td>\n",
              "    </tr>\n",
              "    <tr>\n",
              "      <th>28</th>\n",
              "      <td>443</td>\n",
              "      <td>13.0</td>\n",
              "      <td>122</td>\n",
              "      <td>6</td>\n",
              "      <td>3</td>\n",
              "      <td>900</td>\n",
              "      <td>1.0</td>\n",
              "    </tr>\n",
              "    <tr>\n",
              "      <th>29</th>\n",
              "      <td>443</td>\n",
              "      <td>14.0</td>\n",
              "      <td>77</td>\n",
              "      <td>6</td>\n",
              "      <td>3</td>\n",
              "      <td>908</td>\n",
              "      <td>9.0</td>\n",
              "    </tr>\n",
              "    <tr>\n",
              "      <th>30</th>\n",
              "      <td>443</td>\n",
              "      <td>15.0</td>\n",
              "      <td>154</td>\n",
              "      <td>6</td>\n",
              "      <td>3</td>\n",
              "      <td>917</td>\n",
              "      <td>0.0</td>\n",
              "    </tr>\n",
              "    <tr>\n",
              "      <th>31</th>\n",
              "      <td>443</td>\n",
              "      <td>16.0</td>\n",
              "      <td>130</td>\n",
              "      <td>6</td>\n",
              "      <td>3</td>\n",
              "      <td>926</td>\n",
              "      <td>5.0</td>\n",
              "    </tr>\n",
              "    <tr>\n",
              "      <th>32</th>\n",
              "      <td>443</td>\n",
              "      <td>17.0</td>\n",
              "      <td>149</td>\n",
              "      <td>6</td>\n",
              "      <td>3</td>\n",
              "      <td>944</td>\n",
              "      <td>67.0</td>\n",
              "    </tr>\n",
              "    <tr>\n",
              "      <th>33</th>\n",
              "      <td>443</td>\n",
              "      <td>18.0</td>\n",
              "      <td>155</td>\n",
              "      <td>6</td>\n",
              "      <td>3</td>\n",
              "      <td>949</td>\n",
              "      <td>3.0</td>\n",
              "    </tr>\n",
              "    <tr>\n",
              "      <th>34</th>\n",
              "      <td>443</td>\n",
              "      <td>19.0</td>\n",
              "      <td>99</td>\n",
              "      <td>6</td>\n",
              "      <td>3</td>\n",
              "      <td>973</td>\n",
              "      <td>0.0</td>\n",
              "    </tr>\n",
              "    <tr>\n",
              "      <th>35</th>\n",
              "      <td>227</td>\n",
              "      <td>1.0</td>\n",
              "      <td>58</td>\n",
              "      <td>3</td>\n",
              "      <td>3</td>\n",
              "      <td>454</td>\n",
              "      <td>0.0</td>\n",
              "    </tr>\n",
              "    <tr>\n",
              "      <th>36</th>\n",
              "      <td>227</td>\n",
              "      <td>2.0</td>\n",
              "      <td>58</td>\n",
              "      <td>3</td>\n",
              "      <td>3</td>\n",
              "      <td>466</td>\n",
              "      <td>73.0</td>\n",
              "    </tr>\n",
              "    <tr>\n",
              "      <th>37</th>\n",
              "      <td>227</td>\n",
              "      <td>3.0</td>\n",
              "      <td>158</td>\n",
              "      <td>3</td>\n",
              "      <td>3</td>\n",
              "      <td>473</td>\n",
              "      <td>78.0</td>\n",
              "    </tr>\n",
              "    <tr>\n",
              "      <th>38</th>\n",
              "      <td>227</td>\n",
              "      <td>4.0</td>\n",
              "      <td>60</td>\n",
              "      <td>3</td>\n",
              "      <td>3</td>\n",
              "      <td>475</td>\n",
              "      <td>81.0</td>\n",
              "    </tr>\n",
              "    <tr>\n",
              "      <th>39</th>\n",
              "      <td>227</td>\n",
              "      <td>5.0</td>\n",
              "      <td>69</td>\n",
              "      <td>3</td>\n",
              "      <td>3</td>\n",
              "      <td>478</td>\n",
              "      <td>72.0</td>\n",
              "    </tr>\n",
              "    <tr>\n",
              "      <th>40</th>\n",
              "      <td>227</td>\n",
              "      <td>6.0</td>\n",
              "      <td>30</td>\n",
              "      <td>3</td>\n",
              "      <td>3</td>\n",
              "      <td>481</td>\n",
              "      <td>75.0</td>\n",
              "    </tr>\n",
              "    <tr>\n",
              "      <th>41</th>\n",
              "      <td>227</td>\n",
              "      <td>7.0</td>\n",
              "      <td>107</td>\n",
              "      <td>3</td>\n",
              "      <td>3</td>\n",
              "      <td>484</td>\n",
              "      <td>16.0</td>\n",
              "    </tr>\n",
              "    <tr>\n",
              "      <th>42</th>\n",
              "      <td>227</td>\n",
              "      <td>8.0</td>\n",
              "      <td>26</td>\n",
              "      <td>3</td>\n",
              "      <td>3</td>\n",
              "      <td>490</td>\n",
              "      <td>76.0</td>\n",
              "    </tr>\n",
              "    <tr>\n",
              "      <th>43</th>\n",
              "      <td>227</td>\n",
              "      <td>9.0</td>\n",
              "      <td>108</td>\n",
              "      <td>3</td>\n",
              "      <td>3</td>\n",
              "      <td>495</td>\n",
              "      <td>75.0</td>\n",
              "    </tr>\n",
              "    <tr>\n",
              "      <th>44</th>\n",
              "      <td>227</td>\n",
              "      <td>10.0</td>\n",
              "      <td>53</td>\n",
              "      <td>3</td>\n",
              "      <td>3</td>\n",
              "      <td>498</td>\n",
              "      <td>20.0</td>\n",
              "    </tr>\n",
              "    <tr>\n",
              "      <th>45</th>\n",
              "      <td>227</td>\n",
              "      <td>11.0</td>\n",
              "      <td>49</td>\n",
              "      <td>3</td>\n",
              "      <td>3</td>\n",
              "      <td>502</td>\n",
              "      <td>0.0</td>\n",
              "    </tr>\n",
              "    <tr>\n",
              "      <th>46</th>\n",
              "      <td>227</td>\n",
              "      <td>12.0</td>\n",
              "      <td>123</td>\n",
              "      <td>3</td>\n",
              "      <td>3</td>\n",
              "      <td>506</td>\n",
              "      <td>16.0</td>\n",
              "    </tr>\n",
              "    <tr>\n",
              "      <th>47</th>\n",
              "      <td>227</td>\n",
              "      <td>13.0</td>\n",
              "      <td>59</td>\n",
              "      <td>3</td>\n",
              "      <td>3</td>\n",
              "      <td>511</td>\n",
              "      <td>134.0</td>\n",
              "    </tr>\n",
              "    <tr>\n",
              "      <th>48</th>\n",
              "      <td>227</td>\n",
              "      <td>14.0</td>\n",
              "      <td>142</td>\n",
              "      <td>3</td>\n",
              "      <td>3</td>\n",
              "      <td>514</td>\n",
              "      <td>136.0</td>\n",
              "    </tr>\n",
              "    <tr>\n",
              "      <th>49</th>\n",
              "      <td>227</td>\n",
              "      <td>15.0</td>\n",
              "      <td>2</td>\n",
              "      <td>3</td>\n",
              "      <td>3</td>\n",
              "      <td>519</td>\n",
              "      <td>197.0</td>\n",
              "    </tr>\n",
              "  </tbody>\n",
              "</table>\n",
              "</div>"
            ],
            "text/plain": [
              "    train_id  stop_sequence  from_id  line  day  time  delay_seconds\n",
              "0        562            1.0       97     7    4    81            0.0\n",
              "1        562            2.0       97     7    4    91            8.0\n",
              "2        562            3.0      159     7    4   100            7.0\n",
              "3        562            4.0       99     7    4   105           10.0\n",
              "4        562            5.0      155     7    4   109           10.0\n",
              "5        562            6.0      101     7    4   112            1.0\n",
              "6        562            7.0       38     7    4   118            5.0\n",
              "7        562            8.0       64     7    4   121            0.0\n",
              "8        562            9.0      119     7    4   128            0.0\n",
              "9        562           10.0       75     7    4   133           10.0\n",
              "10       562           11.0       76     7    4   138            9.0\n",
              "11       562           12.0       35     7    4   143            9.0\n",
              "12       562           13.0       95     7    4   148            8.0\n",
              "13       562           14.0      153     7    4   153            0.0\n",
              "14       562           15.0      117     7    4   159            0.0\n",
              "15       562           16.0      152     7    4   162            0.0\n",
              "16       443            1.0       11     6    3   846           63.0\n",
              "17       443            2.0       11     6    3   852          183.0\n",
              "18       443            3.0      114     6    3   857          190.0\n",
              "19       443            4.0       73     6    3   861          182.0\n",
              "20       443            5.0      132     6    3   864          125.0\n",
              "21       443            6.0       13     6    3   868          126.0\n",
              "22       443            7.0       19     6    3   870           68.0\n",
              "23       443            8.0        6     6    3   874           67.0\n",
              "24       443            9.0        3     6    3   878           66.0\n",
              "25       443           10.0       37     6    3   882           10.0\n",
              "26       443           11.0       68     6    3   890           62.0\n",
              "27       443           12.0       67     6    3   894            9.0\n",
              "28       443           13.0      122     6    3   900            1.0\n",
              "29       443           14.0       77     6    3   908            9.0\n",
              "30       443           15.0      154     6    3   917            0.0\n",
              "31       443           16.0      130     6    3   926            5.0\n",
              "32       443           17.0      149     6    3   944           67.0\n",
              "33       443           18.0      155     6    3   949            3.0\n",
              "34       443           19.0       99     6    3   973            0.0\n",
              "35       227            1.0       58     3    3   454            0.0\n",
              "36       227            2.0       58     3    3   466           73.0\n",
              "37       227            3.0      158     3    3   473           78.0\n",
              "38       227            4.0       60     3    3   475           81.0\n",
              "39       227            5.0       69     3    3   478           72.0\n",
              "40       227            6.0       30     3    3   481           75.0\n",
              "41       227            7.0      107     3    3   484           16.0\n",
              "42       227            8.0       26     3    3   490           76.0\n",
              "43       227            9.0      108     3    3   495           75.0\n",
              "44       227           10.0       53     3    3   498           20.0\n",
              "45       227           11.0       49     3    3   502            0.0\n",
              "46       227           12.0      123     3    3   506           16.0\n",
              "47       227           13.0       59     3    3   511          134.0\n",
              "48       227           14.0      142     3    3   514          136.0\n",
              "49       227           15.0        2     3    3   519          197.0"
            ]
          },
          "metadata": {
            "tags": []
          },
          "execution_count": 10
        }
      ]
    },
    {
      "cell_type": "code",
      "metadata": {
        "id": "QBQvlFykIFAL",
        "colab_type": "code",
        "outputId": "e0bef866-d05e-4d19-b20b-4b40b96985d5",
        "colab": {
          "base_uri": "https://localhost:8080/",
          "height": 202
        }
      },
      "source": [
        "df_line_7 = df[df['line']==7]\n",
        "df_line_7.head()"
      ],
      "execution_count": 11,
      "outputs": [
        {
          "output_type": "execute_result",
          "data": {
            "text/html": [
              "<div>\n",
              "<style scoped>\n",
              "    .dataframe tbody tr th:only-of-type {\n",
              "        vertical-align: middle;\n",
              "    }\n",
              "\n",
              "    .dataframe tbody tr th {\n",
              "        vertical-align: top;\n",
              "    }\n",
              "\n",
              "    .dataframe thead th {\n",
              "        text-align: right;\n",
              "    }\n",
              "</style>\n",
              "<table border=\"1\" class=\"dataframe\">\n",
              "  <thead>\n",
              "    <tr style=\"text-align: right;\">\n",
              "      <th></th>\n",
              "      <th>train_id</th>\n",
              "      <th>stop_sequence</th>\n",
              "      <th>from_id</th>\n",
              "      <th>line</th>\n",
              "      <th>day</th>\n",
              "      <th>time</th>\n",
              "      <th>delay_seconds</th>\n",
              "    </tr>\n",
              "  </thead>\n",
              "  <tbody>\n",
              "    <tr>\n",
              "      <th>0</th>\n",
              "      <td>562</td>\n",
              "      <td>1.0</td>\n",
              "      <td>97</td>\n",
              "      <td>7</td>\n",
              "      <td>4</td>\n",
              "      <td>81</td>\n",
              "      <td>0.0</td>\n",
              "    </tr>\n",
              "    <tr>\n",
              "      <th>1</th>\n",
              "      <td>562</td>\n",
              "      <td>2.0</td>\n",
              "      <td>97</td>\n",
              "      <td>7</td>\n",
              "      <td>4</td>\n",
              "      <td>91</td>\n",
              "      <td>8.0</td>\n",
              "    </tr>\n",
              "    <tr>\n",
              "      <th>2</th>\n",
              "      <td>562</td>\n",
              "      <td>3.0</td>\n",
              "      <td>159</td>\n",
              "      <td>7</td>\n",
              "      <td>4</td>\n",
              "      <td>100</td>\n",
              "      <td>7.0</td>\n",
              "    </tr>\n",
              "    <tr>\n",
              "      <th>3</th>\n",
              "      <td>562</td>\n",
              "      <td>4.0</td>\n",
              "      <td>99</td>\n",
              "      <td>7</td>\n",
              "      <td>4</td>\n",
              "      <td>105</td>\n",
              "      <td>10.0</td>\n",
              "    </tr>\n",
              "    <tr>\n",
              "      <th>4</th>\n",
              "      <td>562</td>\n",
              "      <td>5.0</td>\n",
              "      <td>155</td>\n",
              "      <td>7</td>\n",
              "      <td>4</td>\n",
              "      <td>109</td>\n",
              "      <td>10.0</td>\n",
              "    </tr>\n",
              "  </tbody>\n",
              "</table>\n",
              "</div>"
            ],
            "text/plain": [
              "   train_id  stop_sequence  from_id  line  day  time  delay_seconds\n",
              "0       562            1.0       97     7    4    81            0.0\n",
              "1       562            2.0       97     7    4    91            8.0\n",
              "2       562            3.0      159     7    4   100            7.0\n",
              "3       562            4.0       99     7    4   105           10.0\n",
              "4       562            5.0      155     7    4   109           10.0"
            ]
          },
          "metadata": {
            "tags": []
          },
          "execution_count": 11
        }
      ]
    },
    {
      "cell_type": "code",
      "metadata": {
        "id": "DHRlDK0TIFAN",
        "colab_type": "code",
        "outputId": "2b6c1927-f3b6-47ae-d882-6af9a77ea28a",
        "colab": {
          "base_uri": "https://localhost:8080/",
          "height": 99
        }
      },
      "source": [
        "# LSTM with window regression framing\n",
        "\n",
        "import numpy\n",
        "import matplotlib.pyplot as plt\n",
        "from pandas import read_csv\n",
        "import math\n",
        "from keras.models import Sequential\n",
        "from keras.layers import Dense\n",
        "from keras.layers import LSTM\n",
        "from sklearn.preprocessing import MinMaxScaler\n",
        "from sklearn.metrics import mean_squared_error\n",
        "\n",
        "# convert an array of values into a dataset matrix\n",
        "def create_dataset(dataset, look_back=1):\n",
        "    dataX, dataY = [], []\n",
        "    for i in range(len(dataset)-look_back-1):\n",
        "        a = dataset[i:(i+look_back), :] #adding time\n",
        "        dataX.append(a)\n",
        "        dataY.append(dataset[i + look_back, 0])\n",
        "    return numpy.array(dataX), numpy.array(dataY)"
      ],
      "execution_count": 12,
      "outputs": [
        {
          "output_type": "stream",
          "text": [
            "Using TensorFlow backend.\n"
          ],
          "name": "stderr"
        },
        {
          "output_type": "display_data",
          "data": {
            "text/html": [
              "<p style=\"color: red;\">\n",
              "The default version of TensorFlow in Colab will soon switch to TensorFlow 2.x.<br>\n",
              "We recommend you <a href=\"https://www.tensorflow.org/guide/migrate\" target=\"_blank\">upgrade</a> now \n",
              "or ensure your notebook will continue to use TensorFlow 1.x via the <code>%tensorflow_version 1.x</code> magic:\n",
              "<a href=\"https://colab.research.google.com/notebooks/tensorflow_version.ipynb\" target=\"_blank\">more info</a>.</p>\n"
            ],
            "text/plain": [
              "<IPython.core.display.HTML object>"
            ]
          },
          "metadata": {
            "tags": []
          }
        }
      ]
    },
    {
      "cell_type": "code",
      "metadata": {
        "id": "D5LlhxXgKl7O",
        "colab_type": "code",
        "colab": {}
      },
      "source": [
        "# fix random seed for reproducibility\n",
        "numpy.random.seed(7)\n",
        "\n",
        "# load the dataset, I chose to work on line 7 only as an example\n",
        "df_line_7 = df[df['line']==7]\n",
        "dataset = df_line_7[['delay_seconds','time']] #adding time\n",
        "#dataset_test = dataset[dataset['stop_sequence'] == 10]\n",
        "#dataset_train = dataset[dataset['stop_sequence'] !== 10]\n",
        "dataset = dataset.values\n",
        "dataset = dataset.astype('float32')\n",
        "\n",
        "# normalize the dataset\n",
        "scaler = MinMaxScaler(feature_range=(0, 1))\n",
        "dataset = scaler.fit_transform(dataset)#.reshape(-1,1))"
      ],
      "execution_count": 0,
      "outputs": []
    },
    {
      "cell_type": "code",
      "metadata": {
        "id": "22XZWqr8uqFq",
        "colab_type": "code",
        "colab": {}
      },
      "source": [
        ""
      ],
      "execution_count": 0,
      "outputs": []
    },
    {
      "cell_type": "code",
      "metadata": {
        "id": "D7-G14LMM4np",
        "colab_type": "code",
        "colab": {
          "base_uri": "https://localhost:8080/",
          "height": 364
        },
        "outputId": "10256d9d-2f0e-44bc-ab63-ba091ca6747d"
      },
      "source": [
        "dataset[0:20]"
      ],
      "execution_count": 14,
      "outputs": [
        {
          "output_type": "execute_result",
          "data": {
            "text/plain": [
              "array([[0.0000000e+00, 5.6289092e-02],\n",
              "       [1.4638610e-03, 6.3238360e-02],\n",
              "       [1.2808783e-03, 6.9492705e-02],\n",
              "       [1.8298263e-03, 7.2967343e-02],\n",
              "       [1.8298263e-03, 7.5747050e-02],\n",
              "       [1.8298262e-04, 7.7831835e-02],\n",
              "       [9.1491314e-04, 8.2001396e-02],\n",
              "       [0.0000000e+00, 8.4086172e-02],\n",
              "       [0.0000000e+00, 8.8950664e-02],\n",
              "       [1.8298263e-03, 9.2425302e-02],\n",
              "       [1.6468436e-03, 9.5899932e-02],\n",
              "       [1.6468436e-03, 9.9374570e-02],\n",
              "       [1.4638610e-03, 1.0284921e-01],\n",
              "       [0.0000000e+00, 1.0632384e-01],\n",
              "       [0.0000000e+00, 1.1049340e-01],\n",
              "       [0.0000000e+00, 1.1257818e-01],\n",
              "       [0.0000000e+00, 4.1070190e-01],\n",
              "       [5.6541629e-02, 4.1904101e-01],\n",
              "       [5.5809699e-02, 4.2390552e-01],\n",
              "       [5.5626716e-02, 4.3363449e-01]], dtype=float32)"
            ]
          },
          "metadata": {
            "tags": []
          },
          "execution_count": 14
        }
      ]
    },
    {
      "cell_type": "code",
      "metadata": {
        "id": "Geg5ZlBCKmZ4",
        "colab_type": "code",
        "colab": {}
      },
      "source": [
        "# split into train and test sets\n",
        "train_size = int(len(dataset) * 0.80)\n",
        "test_size = len(dataset) - train_size\n",
        "\n",
        "#if we want to test on a single time, filter the test set to have only times = ...\n",
        "#if we want to test on a single station, we have to filter earlier, when dataset is still a df\n",
        "\n",
        "train, test = dataset[0:train_size,:], dataset[train_size:len(dataset),:]\n",
        "\n",
        "# reshape into X=t and Y=t+look_back-1\n",
        "look_back = 4 #for example\n",
        "trainX, trainY = create_dataset(train, look_back)\n",
        "testX, testY = create_dataset(test, look_back)\n",
        "\n",
        "# reshape input dimensions to be [delay, time, features] with the features being the following delays\n",
        "trainX = numpy.reshape(trainX, (trainX.shape[0], trainX.shape[1], trainX.shape[2]))\n",
        "testX = numpy.reshape(testX, (testX.shape[0], testX.shape[1], testX.shape[2]))"
      ],
      "execution_count": 0,
      "outputs": []
    },
    {
      "cell_type": "code",
      "metadata": {
        "id": "etVAbF7unbBi",
        "colab_type": "code",
        "colab": {
          "base_uri": "https://localhost:8080/",
          "height": 35
        },
        "outputId": "0d74f03f-97df-4096-a324-db48f6843ad3"
      },
      "source": [
        "trainX.shape"
      ],
      "execution_count": 16,
      "outputs": [
        {
          "output_type": "execute_result",
          "data": {
            "text/plain": [
              "(30125, 4, 2)"
            ]
          },
          "metadata": {
            "tags": []
          },
          "execution_count": 16
        }
      ]
    },
    {
      "cell_type": "code",
      "metadata": {
        "id": "c_YAncxFNOoO",
        "colab_type": "code",
        "colab": {
          "base_uri": "https://localhost:8080/",
          "height": 104
        },
        "outputId": "58ad2d26-4ef9-4338-f0e7-3e453c492b80"
      },
      "source": [
        "#for example, at stop number 13, the delay 4 stops later is 0,05654 (verification made two cells above)\n",
        "print(trainX[13]) \n",
        "print(trainY[13])"
      ],
      "execution_count": 17,
      "outputs": [
        {
          "output_type": "stream",
          "text": [
            "[[0.         0.10632384]\n",
            " [0.         0.1104934 ]\n",
            " [0.         0.11257818]\n",
            " [0.         0.4107019 ]]\n",
            "0.05654163\n"
          ],
          "name": "stdout"
        }
      ]
    },
    {
      "cell_type": "code",
      "metadata": {
        "id": "doF5PVvuKmuj",
        "colab_type": "code",
        "colab": {
          "base_uri": "https://localhost:8080/",
          "height": 1000
        },
        "outputId": "b95d13b2-c774-4220-9e74-41cfaee70121"
      },
      "source": [
        "# create and fit the LSTM network\n",
        "model = Sequential()\n",
        "model.add(LSTM(10, input_shape=(look_back, 2)))\n",
        "model.add(Dense(1))\n",
        "model.compile(loss='mean_squared_error', optimizer='adam')\n",
        "model.fit(trainX, trainY, epochs=10, batch_size=1, verbose=2)\n",
        "model.summary()"
      ],
      "execution_count": 18,
      "outputs": [
        {
          "output_type": "stream",
          "text": [
            "WARNING:tensorflow:From /usr/local/lib/python3.6/dist-packages/keras/backend/tensorflow_backend.py:66: The name tf.get_default_graph is deprecated. Please use tf.compat.v1.get_default_graph instead.\n",
            "\n",
            "WARNING:tensorflow:From /usr/local/lib/python3.6/dist-packages/keras/backend/tensorflow_backend.py:541: The name tf.placeholder is deprecated. Please use tf.compat.v1.placeholder instead.\n",
            "\n",
            "WARNING:tensorflow:From /usr/local/lib/python3.6/dist-packages/keras/backend/tensorflow_backend.py:4432: The name tf.random_uniform is deprecated. Please use tf.random.uniform instead.\n",
            "\n",
            "WARNING:tensorflow:From /usr/local/lib/python3.6/dist-packages/keras/optimizers.py:793: The name tf.train.Optimizer is deprecated. Please use tf.compat.v1.train.Optimizer instead.\n",
            "\n",
            "WARNING:tensorflow:From /usr/local/lib/python3.6/dist-packages/tensorflow_core/python/ops/math_grad.py:1424: where (from tensorflow.python.ops.array_ops) is deprecated and will be removed in a future version.\n",
            "Instructions for updating:\n",
            "Use tf.where in 2.0, which has the same broadcast rule as np.where\n",
            "WARNING:tensorflow:From /usr/local/lib/python3.6/dist-packages/keras/backend/tensorflow_backend.py:1033: The name tf.assign_add is deprecated. Please use tf.compat.v1.assign_add instead.\n",
            "\n",
            "WARNING:tensorflow:From /usr/local/lib/python3.6/dist-packages/keras/backend/tensorflow_backend.py:1020: The name tf.assign is deprecated. Please use tf.compat.v1.assign instead.\n",
            "\n",
            "WARNING:tensorflow:From /usr/local/lib/python3.6/dist-packages/keras/backend/tensorflow_backend.py:3005: The name tf.Session is deprecated. Please use tf.compat.v1.Session instead.\n",
            "\n",
            "Epoch 1/10\n",
            "WARNING:tensorflow:From /usr/local/lib/python3.6/dist-packages/keras/backend/tensorflow_backend.py:190: The name tf.get_default_session is deprecated. Please use tf.compat.v1.get_default_session instead.\n",
            "\n",
            "WARNING:tensorflow:From /usr/local/lib/python3.6/dist-packages/keras/backend/tensorflow_backend.py:197: The name tf.ConfigProto is deprecated. Please use tf.compat.v1.ConfigProto instead.\n",
            "\n",
            "WARNING:tensorflow:From /usr/local/lib/python3.6/dist-packages/keras/backend/tensorflow_backend.py:207: The name tf.global_variables is deprecated. Please use tf.compat.v1.global_variables instead.\n",
            "\n",
            "WARNING:tensorflow:From /usr/local/lib/python3.6/dist-packages/keras/backend/tensorflow_backend.py:216: The name tf.is_variable_initialized is deprecated. Please use tf.compat.v1.is_variable_initialized instead.\n",
            "\n",
            "WARNING:tensorflow:From /usr/local/lib/python3.6/dist-packages/keras/backend/tensorflow_backend.py:223: The name tf.variables_initializer is deprecated. Please use tf.compat.v1.variables_initializer instead.\n",
            "\n",
            " - 116s - loss: 0.0030\n",
            "Epoch 2/10\n",
            " - 113s - loss: 0.0027\n",
            "Epoch 3/10\n",
            " - 113s - loss: 0.0026\n",
            "Epoch 4/10\n",
            " - 113s - loss: 0.0026\n",
            "Epoch 5/10\n",
            " - 114s - loss: 0.0026\n",
            "Epoch 6/10\n",
            " - 115s - loss: 0.0026\n",
            "Epoch 7/10\n",
            " - 116s - loss: 0.0026\n",
            "Epoch 8/10\n",
            " - 114s - loss: 0.0026\n",
            "Epoch 9/10\n",
            " - 115s - loss: 0.0026\n",
            "Epoch 10/10\n",
            " - 114s - loss: 0.0026\n",
            "Model: \"sequential_1\"\n",
            "_________________________________________________________________\n",
            "Layer (type)                 Output Shape              Param #   \n",
            "=================================================================\n",
            "lstm_1 (LSTM)                (None, 10)                520       \n",
            "_________________________________________________________________\n",
            "dense_1 (Dense)              (None, 1)                 11        \n",
            "=================================================================\n",
            "Total params: 531\n",
            "Trainable params: 531\n",
            "Non-trainable params: 0\n",
            "_________________________________________________________________\n"
          ],
          "name": "stdout"
        }
      ]
    },
    {
      "cell_type": "code",
      "metadata": {
        "id": "p7buZPncKm_J",
        "colab_type": "code",
        "colab": {
          "base_uri": "https://localhost:8080/",
          "height": 35
        },
        "outputId": "59da973d-ffa8-4686-ee7b-ef45106fdba4"
      },
      "source": [
        "# make predictions\n",
        "trainPredict = model.predict(trainX)\n",
        "testPredict = model.predict(testX)\n",
        "\n",
        "testPredict.shape"
      ],
      "execution_count": 28,
      "outputs": [
        {
          "output_type": "execute_result",
          "data": {
            "text/plain": [
              "(7528, 1)"
            ]
          },
          "metadata": {
            "tags": []
          },
          "execution_count": 28
        }
      ]
    },
    {
      "cell_type": "code",
      "metadata": {
        "id": "asz4-D9l52oJ",
        "colab_type": "code",
        "colab": {}
      },
      "source": [
        "# invert predictions to have the real values of the delays, marche pas pour l'instant\n",
        "#trainPredict = scaler.inverse_transform(trainPredict)\n",
        "#trainY = scaler.inverse_transform([trainY])\n",
        "#testPredict = scaler.inverse_transform(testPredict[:,0].reshape(-1,1))\n",
        "#testY = scaler.inverse_transform([testY])"
      ],
      "execution_count": 0,
      "outputs": []
    },
    {
      "cell_type": "code",
      "metadata": {
        "id": "2vBBgp_CKpq_",
        "colab_type": "code",
        "colab": {}
      },
      "source": [
        "# calculate root mean squared error\n",
        "trainScore = math.sqrt(mean_squared_error(trainY[0], trainPredict[:,0]))\n",
        "print('Train Score: %.2f RMSE' % (trainScore))\n",
        "testScore = math.sqrt(mean_squared_error(testY[0], testPredict[:,0]))\n",
        "print('Test Score: %.2f RMSE' % (testScore))\n"
      ],
      "execution_count": 0,
      "outputs": []
    },
    {
      "cell_type": "code",
      "metadata": {
        "id": "ITTKbXwxKp6f",
        "colab_type": "code",
        "colab": {}
      },
      "source": [
        "# shift train predictions for plotting\n",
        "trainPredictPlot = numpy.empty_like(dataset)\n",
        "trainPredictPlot[:, :] = numpy.nan\n",
        "trainPredictPlot[look_back:len(trainPredict)+look_back, :] = trainPredict\n",
        "\n",
        "# shift test predictions for plotting\n",
        "testPredictPlot = numpy.empty_like(dataset)\n",
        "testPredictPlot[:, :] = numpy.nan\n",
        "testPredictPlot[len(trainPredict)+(look_back*2)+1:len(dataset)-1, :] = testPredict"
      ],
      "execution_count": 0,
      "outputs": []
    },
    {
      "cell_type": "code",
      "metadata": {
        "id": "46E_DrSRKqMb",
        "colab_type": "code",
        "colab": {
          "base_uri": "https://localhost:8080/",
          "height": 265
        },
        "outputId": "7049efed-a6d7-4e87-927f-ad16f0bb8a1c"
      },
      "source": [
        "# plot baseline and predictions\n",
        "plt.plot(dataset[:,0])#groundtruth #scaler.inverse_transform(dataset))\n",
        "plt.plot(trainPredictPlot)\n",
        "plt.plot(testPredictPlot)\n",
        "plt.show()"
      ],
      "execution_count": 46,
      "outputs": [
        {
          "output_type": "display_data",
          "data": {
            "image/png": "[encoded data removed]",
            "text/plain": [
              "<Figure size 432x288 with 1 Axes>"
            ]
          },
          "metadata": {
            "tags": []
          }
        }
      ]
    },
    {
      "cell_type": "code",
      "metadata": {
        "id": "mKGopVdR6Y9H",
        "colab_type": "code",
        "colab": {}
      },
      "source": [
        ""
      ],
      "execution_count": 0,
      "outputs": []
    },
    {
      "cell_type": "code",
      "metadata": {
        "id": "8QZenmbf7xHo",
        "colab_type": "code",
        "colab": {}
      },
      "source": [
        ""
      ],
      "execution_count": 0,
      "outputs": []
    }
  ]
}