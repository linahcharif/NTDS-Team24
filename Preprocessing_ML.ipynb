{
 "cells": [
  {
   "cell_type": "markdown",
   "metadata": {},
   "source": [
    "# Preprocessing of the data"
   ]
  },
  {
   "cell_type": "code",
   "execution_count": 1,
   "metadata": {},
   "outputs": [],
   "source": [
    "import numpy as np\n",
    "import pandas as pd\n",
    "import matplotlib.pyplot as plt\n",
    "import matplotlib.colors as mcolors\n",
    "import datetime\n",
    "import sklearn"
   ]
  },
  {
   "cell_type": "code",
   "execution_count": 2,
   "metadata": {},
   "outputs": [],
   "source": [
    "#Import the data for the NJ train network. Month of March 2018. Drop the observations with NaN delay.\n",
    "df = pd.read_csv('2018_03.csv')\n",
    "df.dropna(subset=['delay_minutes'], inplace=True)\n",
    "df.reset_index(drop=True, inplace=True)"
   ]
  },
  {
   "cell_type": "markdown",
   "metadata": {},
   "source": [
    "Encoding the days of the week (0 : Monday ..., 6 : Sunday) "
   ]
  },
  {
   "cell_type": "code",
   "execution_count": 3,
   "metadata": {},
   "outputs": [],
   "source": [
    "day = []\n",
    "time = []\n",
    "\n",
    "for (k,v) in enumerate(df['actual_time']):\n",
    "    aux = datetime.datetime.strptime(v, '%Y-%m-%d %H:%M:%S')\n",
    "    time_only = aux.time()\n",
    "    day.append(aux.weekday())\n",
    "    time_in_min = time_only.hour*60 + time_only.minute\n",
    "    time.append(time_in_min)\n",
    "    \n",
    "df['day'] = day\n",
    "df['time'] = time"
   ]
  },
  {
   "cell_type": "markdown",
   "metadata": {},
   "source": [
    "Encoding the line names and the departure station with label encoding"
   ]
  },
  {
   "cell_type": "code",
   "execution_count": 5,
   "metadata": {},
   "outputs": [],
   "source": [
    "from sklearn import preprocessing\n",
    "le = preprocessing.LabelEncoder()\n",
    "df['line'] = le.fit_transform(df['line'])\n",
    "df['from_id'] = le.fit_transform(df['from_id'])\n",
    "df['train_id'] = le.fit_transform(df['train_id'])"
   ]
  },
  {
   "cell_type": "code",
   "execution_count": 6,
   "metadata": {},
   "outputs": [],
   "source": [
    "df.drop(columns = ['date','from','to','to_id','scheduled_time','status','type','actual_time'], inplace = True)"
   ]
  },
  {
   "cell_type": "code",
   "execution_count": 7,
   "metadata": {},
   "outputs": [],
   "source": [
    "tmp = df.copy()"
   ]
  },
  {
   "cell_type": "code",
   "execution_count": 8,
   "metadata": {},
   "outputs": [],
   "source": [
    "tmp['label'] = tmp['delay_minutes'].apply(lambda x: 1 if x >0 else 0)"
   ]
  },
  {
   "cell_type": "code",
   "execution_count": 9,
   "metadata": {},
   "outputs": [],
   "source": [
    "df['Logged Delay'] = np.ceil(np.log(df['delay_minutes']+1e-6))"
   ]
  },
  {
   "cell_type": "code",
   "execution_count": 10,
   "metadata": {},
   "outputs": [
    {
     "data": {
      "text/html": [
       "<div>\n",
       "<style scoped>\n",
       "    .dataframe tbody tr th:only-of-type {\n",
       "        vertical-align: middle;\n",
       "    }\n",
       "\n",
       "    .dataframe tbody tr th {\n",
       "        vertical-align: top;\n",
       "    }\n",
       "\n",
       "    .dataframe thead th {\n",
       "        text-align: right;\n",
       "    }\n",
       "</style>\n",
       "<table border=\"1\" class=\"dataframe\">\n",
       "  <thead>\n",
       "    <tr style=\"text-align: right;\">\n",
       "      <th></th>\n",
       "      <th>train_id</th>\n",
       "      <th>stop_sequence</th>\n",
       "      <th>from_id</th>\n",
       "      <th>line</th>\n",
       "      <th>day</th>\n",
       "      <th>time</th>\n",
       "      <th>Logged Delay</th>\n",
       "    </tr>\n",
       "  </thead>\n",
       "  <tbody>\n",
       "    <tr>\n",
       "      <td>0</td>\n",
       "      <td>562</td>\n",
       "      <td>1.0</td>\n",
       "      <td>97</td>\n",
       "      <td>7</td>\n",
       "      <td>4</td>\n",
       "      <td>81</td>\n",
       "      <td>-13.0</td>\n",
       "    </tr>\n",
       "    <tr>\n",
       "      <td>1</td>\n",
       "      <td>562</td>\n",
       "      <td>2.0</td>\n",
       "      <td>97</td>\n",
       "      <td>7</td>\n",
       "      <td>4</td>\n",
       "      <td>91</td>\n",
       "      <td>-2.0</td>\n",
       "    </tr>\n",
       "    <tr>\n",
       "      <td>2</td>\n",
       "      <td>562</td>\n",
       "      <td>3.0</td>\n",
       "      <td>159</td>\n",
       "      <td>7</td>\n",
       "      <td>4</td>\n",
       "      <td>100</td>\n",
       "      <td>-2.0</td>\n",
       "    </tr>\n",
       "    <tr>\n",
       "      <td>3</td>\n",
       "      <td>562</td>\n",
       "      <td>4.0</td>\n",
       "      <td>99</td>\n",
       "      <td>7</td>\n",
       "      <td>4</td>\n",
       "      <td>105</td>\n",
       "      <td>-1.0</td>\n",
       "    </tr>\n",
       "    <tr>\n",
       "      <td>4</td>\n",
       "      <td>562</td>\n",
       "      <td>5.0</td>\n",
       "      <td>155</td>\n",
       "      <td>7</td>\n",
       "      <td>4</td>\n",
       "      <td>109</td>\n",
       "      <td>-1.0</td>\n",
       "    </tr>\n",
       "    <tr>\n",
       "      <td>...</td>\n",
       "      <td>...</td>\n",
       "      <td>...</td>\n",
       "      <td>...</td>\n",
       "      <td>...</td>\n",
       "      <td>...</td>\n",
       "      <td>...</td>\n",
       "      <td>...</td>\n",
       "    </tr>\n",
       "    <tr>\n",
       "      <td>243023</td>\n",
       "      <td>121</td>\n",
       "      <td>2.0</td>\n",
       "      <td>12</td>\n",
       "      <td>4</td>\n",
       "      <td>5</td>\n",
       "      <td>1145</td>\n",
       "      <td>2.0</td>\n",
       "    </tr>\n",
       "    <tr>\n",
       "      <td>243024</td>\n",
       "      <td>121</td>\n",
       "      <td>3.0</td>\n",
       "      <td>47</td>\n",
       "      <td>4</td>\n",
       "      <td>5</td>\n",
       "      <td>1148</td>\n",
       "      <td>2.0</td>\n",
       "    </tr>\n",
       "    <tr>\n",
       "      <td>243025</td>\n",
       "      <td>121</td>\n",
       "      <td>4.0</td>\n",
       "      <td>16</td>\n",
       "      <td>4</td>\n",
       "      <td>5</td>\n",
       "      <td>1150</td>\n",
       "      <td>2.0</td>\n",
       "    </tr>\n",
       "    <tr>\n",
       "      <td>243026</td>\n",
       "      <td>121</td>\n",
       "      <td>5.0</td>\n",
       "      <td>145</td>\n",
       "      <td>4</td>\n",
       "      <td>5</td>\n",
       "      <td>1161</td>\n",
       "      <td>3.0</td>\n",
       "    </tr>\n",
       "    <tr>\n",
       "      <td>243027</td>\n",
       "      <td>121</td>\n",
       "      <td>6.0</td>\n",
       "      <td>98</td>\n",
       "      <td>4</td>\n",
       "      <td>5</td>\n",
       "      <td>1177</td>\n",
       "      <td>-13.0</td>\n",
       "    </tr>\n",
       "  </tbody>\n",
       "</table>\n",
       "<p>243028 rows × 7 columns</p>\n",
       "</div>"
      ],
      "text/plain": [
       "        train_id  stop_sequence  from_id  line  day  time  Logged Delay\n",
       "0            562            1.0       97     7    4    81         -13.0\n",
       "1            562            2.0       97     7    4    91          -2.0\n",
       "2            562            3.0      159     7    4   100          -2.0\n",
       "3            562            4.0       99     7    4   105          -1.0\n",
       "4            562            5.0      155     7    4   109          -1.0\n",
       "...          ...            ...      ...   ...  ...   ...           ...\n",
       "243023       121            2.0       12     4    5  1145           2.0\n",
       "243024       121            3.0       47     4    5  1148           2.0\n",
       "243025       121            4.0       16     4    5  1150           2.0\n",
       "243026       121            5.0      145     4    5  1161           3.0\n",
       "243027       121            6.0       98     4    5  1177         -13.0\n",
       "\n",
       "[243028 rows x 7 columns]"
      ]
     },
     "execution_count": 10,
     "metadata": {},
     "output_type": "execute_result"
    }
   ],
   "source": [
    "df.drop(columns = ['delay_minutes'])"
   ]
  },
  {
   "cell_type": "code",
   "execution_count": 11,
   "metadata": {},
   "outputs": [],
   "source": [
    "df['Logged Delay']= df['Logged Delay'].apply(lambda x: -1 if x <0 else(2 if x >= 2 else 1))"
   ]
  },
  {
   "cell_type": "code",
   "execution_count": 12,
   "metadata": {},
   "outputs": [
    {
     "data": {
      "text/plain": [
       "(array([66032.,     0.,     0.,     0.,     0.,     0.,     0.,     0.,\n",
       "            0.,     0.,     0.,     0.,     0.,     0.,     0.,     0.,\n",
       "            0.,     0.,     0.,     0.,     0.,     0.,     0.,     0.,\n",
       "            0.,     0.,     0.,     0.,     0.,     0.,     0.,     0.,\n",
       "            0., 81837.,     0.,     0.,     0.,     0.,     0.,     0.,\n",
       "            0.,     0.,     0.,     0.,     0.,     0.,     0.,     0.,\n",
       "            0., 95159.]),\n",
       " array([-1.  , -0.94, -0.88, -0.82, -0.76, -0.7 , -0.64, -0.58, -0.52,\n",
       "        -0.46, -0.4 , -0.34, -0.28, -0.22, -0.16, -0.1 , -0.04,  0.02,\n",
       "         0.08,  0.14,  0.2 ,  0.26,  0.32,  0.38,  0.44,  0.5 ,  0.56,\n",
       "         0.62,  0.68,  0.74,  0.8 ,  0.86,  0.92,  0.98,  1.04,  1.1 ,\n",
       "         1.16,  1.22,  1.28,  1.34,  1.4 ,  1.46,  1.52,  1.58,  1.64,\n",
       "         1.7 ,  1.76,  1.82,  1.88,  1.94,  2.  ]),\n",
       " <a list of 50 Patch objects>)"
      ]
     },
     "execution_count": 12,
     "metadata": {},
     "output_type": "execute_result"
    },
    {
     "data": {
      "image/png": "[encoded data removed]",
      "text/plain": [
       "<Figure size 432x288 with 1 Axes>"
      ]
     },
     "metadata": {
      "needs_background": "light"
     },
     "output_type": "display_data"
    }
   ],
   "source": [
    "plt.hist(df['Logged Delay'],bins = 50)"
   ]
  },
  {
   "cell_type": "markdown",
   "metadata": {},
   "source": [
    "# Testing data"
   ]
  },
  {
   "cell_type": "code",
   "execution_count": 36,
   "metadata": {},
   "outputs": [],
   "source": [
    "df2 = pd.read_csv('2018_06.csv')\n",
    "df2.dropna(subset=['delay_minutes'], inplace=True)\n",
    "df2.reset_index(drop=True, inplace=True)\n",
    "day = []\n",
    "time = []\n",
    "\n",
    "for (k,v) in enumerate(df2['actual_time']):\n",
    "    aux = datetime.datetime.strptime(v, '%Y-%m-%d %H:%M:%S')\n",
    "    time_only = aux.time()\n",
    "    day.append(aux.weekday())\n",
    "    time_in_min = time_only.hour*60 + time_only.minute\n",
    "    time.append(time_in_min)\n",
    "    \n",
    "df2['day'] = day\n",
    "df2['time'] = time\n",
    "\n",
    "from sklearn import preprocessing\n",
    "\n",
    "le = preprocessing.LabelEncoder()\n",
    "\n",
    "df2['line'] = le.fit_transform(df2['line'])\n",
    "df2['from_id'] = le.fit_transform(df2['from_id'])\n",
    "df2['train_id'] = le.fit_transform(df2['train_id'])\n",
    "\n",
    "df2.drop(columns = ['date','from','to','to_id','scheduled_time','status','type','actual_time'], inplace = True)\n",
    "\n",
    "df2['label'] = df2['delay_minutes'].apply(lambda x: 1 if x >0 else 0)\n",
    "\n",
    "df2['Logged Delay'] = np.ceil(np.log(df2['delay_minutes']+1e-6))\n",
    "\n",
    "df2.drop(columns = ['delay_minutes'])\n",
    "df2['Logged Delay']= df2['Logged Delay'].apply(lambda x: -1 if x <0 else(2 if x >= 2 else 1))\n",
    "\n",
    "dataset = df2.values.astype(int)\n",
    "Y_test_binary = df2['label'].values\n",
    "df2.drop(columns = 'label',inplace = True)\n",
    "Y_test = df2['Logged Delay'].values\n",
    "df2.drop(columns = 'Logged Delay',inplace = True)\n",
    "X_test = df2.values\n"
   ]
  },
  {
   "cell_type": "code",
   "execution_count": 60,
   "metadata": {},
   "outputs": [
    {
     "data": {
      "text/plain": [
       "(array([ 59074.,      0.,      0.,      0.,      0.,      0.,      0.,\n",
       "             0.,      0.,      0.,      0.,      0.,      0.,      0.,\n",
       "             0.,      0.,      0.,      0.,      0.,      0.,      0.,\n",
       "             0.,      0.,      0.,      0.,      0.,      0.,      0.,\n",
       "             0.,      0.,      0.,      0.,      0.,  76193.,      0.,\n",
       "             0.,      0.,      0.,      0.,      0.,      0.,      0.,\n",
       "             0.,      0.,      0.,      0.,      0.,      0.,      0.,\n",
       "        102724.]),\n",
       " array([-1.  , -0.94, -0.88, -0.82, -0.76, -0.7 , -0.64, -0.58, -0.52,\n",
       "        -0.46, -0.4 , -0.34, -0.28, -0.22, -0.16, -0.1 , -0.04,  0.02,\n",
       "         0.08,  0.14,  0.2 ,  0.26,  0.32,  0.38,  0.44,  0.5 ,  0.56,\n",
       "         0.62,  0.68,  0.74,  0.8 ,  0.86,  0.92,  0.98,  1.04,  1.1 ,\n",
       "         1.16,  1.22,  1.28,  1.34,  1.4 ,  1.46,  1.52,  1.58,  1.64,\n",
       "         1.7 ,  1.76,  1.82,  1.88,  1.94,  2.  ]),\n",
       " <a list of 50 Patch objects>)"
      ]
     },
     "execution_count": 60,
     "metadata": {},
     "output_type": "execute_result"
    },
    {
     "data": {
      "image/png": "[encoded data removed]",
      "text/plain": [
       "<Figure size 432x288 with 1 Axes>"
      ]
     },
     "metadata": {
      "needs_background": "light"
     },
     "output_type": "display_data"
    }
   ],
   "source": [
    "plt.hist(Y_test,bins = 50)"
   ]
  },
  {
   "cell_type": "markdown",
   "metadata": {},
   "source": [
    " # Split Data"
   ]
  },
  {
   "cell_type": "code",
   "execution_count": 14,
   "metadata": {},
   "outputs": [],
   "source": [
    "def split_data(x, y, ratio, myseed=1):\n",
    "    \"\"\"split the dataset based on the split ratio.\n",
    "        Returns x1 , x2 , y1 , y2\n",
    "    \"\"\"\n",
    "    # set seed\n",
    "    np.random.seed(myseed)\n",
    "    # generate random indices\n",
    "    num_row = len(y)\n",
    "    indices = np.random.permutation(num_row)\n",
    "    index_split = int(np.floor(ratio * num_row))\n",
    "    index_tr = indices[: index_split]\n",
    "    index_te = indices[index_split:]\n",
    "    # create split\n",
    "    x_tr = x[index_tr]\n",
    "    x_te = x[index_te]\n",
    "    y_tr = y[index_tr]\n",
    "    y_te = y[index_te]\n",
    "    return x_tr, x_te, y_tr, y_te"
   ]
  },
  {
   "cell_type": "code",
   "execution_count": 15,
   "metadata": {},
   "outputs": [],
   "source": [
    "Y_sc = tmp['label'].values\n",
    "X_sc = tmp.drop(columns = 'label').values"
   ]
  },
  {
   "cell_type": "code",
   "execution_count": 16,
   "metadata": {},
   "outputs": [],
   "source": [
    "Y_m = df['Logged Delay'].values\n",
    "X_m = df.drop(columns = 'Logged Delay').values"
   ]
  },
  {
   "cell_type": "code",
   "execution_count": 17,
   "metadata": {},
   "outputs": [
    {
     "data": {
      "text/plain": [
       "(243028, 7)"
      ]
     },
     "execution_count": 17,
     "metadata": {},
     "output_type": "execute_result"
    }
   ],
   "source": [
    "X_sc.shape"
   ]
  },
  {
   "cell_type": "code",
   "execution_count": 18,
   "metadata": {},
   "outputs": [],
   "source": [
    "X = X_sc\n",
    "Y = Y_sc"
   ]
  },
  {
   "cell_type": "code",
   "execution_count": 19,
   "metadata": {},
   "outputs": [],
   "source": [
    "ratio=0.8\n",
    "train_size=int(dataset.shape[0]*ratio)\n",
    "train_set=X[0:train_size]\n",
    "test_Set=X[train_size:]\n",
    "labels_train=Y[0:train_size]\n",
    "labels_validation=Y[train_size:]"
   ]
  },
  {
   "cell_type": "code",
   "execution_count": 20,
   "metadata": {},
   "outputs": [],
   "source": [
    "x_tr, x_te, y_tr, y_te=split_data(train_set,labels_train,ratio)"
   ]
  },
  {
   "cell_type": "code",
   "execution_count": 21,
   "metadata": {},
   "outputs": [
    {
     "name": "stderr",
     "output_type": "stream",
     "text": [
      "Using TensorFlow backend.\n"
     ]
    },
    {
     "name": "stdout",
     "output_type": "stream",
     "text": [
      "Model: \"sequential_1\"\n",
      "_________________________________________________________________\n",
      "Layer (type)                 Output Shape              Param #   \n",
      "=================================================================\n",
      "dense_1 (Dense)              (None, 12)                96        \n",
      "_________________________________________________________________\n",
      "dense_2 (Dense)              (None, 8)                 104       \n",
      "_________________________________________________________________\n",
      "dense_3 (Dense)              (None, 1)                 9         \n",
      "=================================================================\n",
      "Total params: 209\n",
      "Trainable params: 209\n",
      "Non-trainable params: 0\n",
      "_________________________________________________________________\n"
     ]
    }
   ],
   "source": [
    "import numpy\n",
    "import matplotlib.pyplot as plt\n",
    "from pandas import read_csv\n",
    "import math\n",
    "\n",
    "from keras.models import Sequential\n",
    "from keras.layers import Dense\n",
    "from sklearn.preprocessing import MinMaxScaler\n",
    "from sklearn.metrics import mean_squared_error\n",
    "\n",
    "model1 = Sequential()\n",
    "model1.add(Dense(12, input_dim=X_sc.shape[1], activation='relu'))\n",
    "model1.add(Dense(8, activation='relu'))\n",
    "model1.add(Dense(1, activation='sigmoid'))\n",
    "\n",
    "model1.compile(optimizer='adam',\n",
    "                loss='binary_crossentropy',\n",
    "                metrics=['accuracy'])\n",
    "model1.summary()"
   ]
  },
  {
   "cell_type": "code",
   "execution_count": 22,
   "metadata": {},
   "outputs": [
    {
     "name": "stdout",
     "output_type": "stream",
     "text": [
      "Train on 152313 samples, validate on 38079 samples\n",
      "Epoch 1/10\n",
      "152313/152313 [==============================] - 18s 115us/step - loss: 0.5539 - accuracy: 0.8664 - val_loss: 0.1670 - val_accuracy: 0.9076\n",
      "Epoch 2/10\n",
      "152313/152313 [==============================] - 18s 121us/step - loss: 0.1922 - accuracy: 0.9124 - val_loss: 0.1281 - val_accuracy: 0.9353\n",
      "Epoch 3/10\n",
      "152313/152313 [==============================] - 17s 112us/step - loss: 0.1280 - accuracy: 0.9463 - val_loss: 0.0616 - val_accuracy: 0.9875\n",
      "Epoch 4/10\n",
      "152313/152313 [==============================] - 16s 108us/step - loss: 0.0890 - accuracy: 0.9657 - val_loss: 0.0429 - val_accuracy: 0.9893\n",
      "Epoch 5/10\n",
      "152313/152313 [==============================] - 17s 111us/step - loss: 0.0712 - accuracy: 0.9737 - val_loss: 0.0949 - val_accuracy: 0.9447\n",
      "Epoch 6/10\n",
      "152313/152313 [==============================] - 18s 120us/step - loss: 0.0604 - accuracy: 0.9784 - val_loss: 0.0503 - val_accuracy: 0.9802\n",
      "Epoch 7/10\n",
      "152313/152313 [==============================] - 17s 110us/step - loss: 0.0567 - accuracy: 0.9809 - val_loss: 0.0363 - val_accuracy: 0.9864\n",
      "Epoch 8/10\n",
      "152313/152313 [==============================] - 17s 113us/step - loss: 0.0468 - accuracy: 0.9838 - val_loss: 0.0344 - val_accuracy: 0.9862\n",
      "Epoch 9/10\n",
      "152313/152313 [==============================] - 20s 130us/step - loss: 0.0432 - accuracy: 0.9855 - val_loss: 0.0200 - val_accuracy: 0.9954\n",
      "Epoch 10/10\n",
      "152313/152313 [==============================] - 16s 102us/step - loss: 0.0404 - accuracy: 0.9866 - val_loss: 0.0495 - val_accuracy: 0.9827\n"
     ]
    }
   ],
   "source": [
    "history_binary = model1.fit(x_tr, y_tr, epochs=10, batch_size=10, verbose=1,validation_data = (x_te,y_te))"
   ]
  },
  {
   "cell_type": "code",
   "execution_count": 23,
   "metadata": {},
   "outputs": [
    {
     "data": {
      "image/png": "[encoded data removed]",
      "text/plain": [
       "<Figure size 864x432 with 2 Axes>"
      ]
     },
     "metadata": {
      "needs_background": "light"
     },
     "output_type": "display_data"
    }
   ],
   "source": [
    "acc = history_binary.history['accuracy']\n",
    "val_acc = history_binary.history['val_accuracy']\n",
    "\n",
    "loss = history_binary.history['loss']\n",
    "val_loss = history_binary.history['val_loss']\n",
    "\n",
    "epochs_range = range(10)\n",
    "\n",
    "plt.figure(figsize=(12, 6))\n",
    "plt.subplot(1, 2, 1)\n",
    "plt.plot(epochs_range, acc, label='Training Accuracy')\n",
    "plt.plot(epochs_range, val_acc, label='Validation Accuracy')\n",
    "plt.legend(loc='lower right')\n",
    "plt.title('Training and Validation Accuracy')\n",
    "\n",
    "plt.subplot(1, 2, 2)\n",
    "plt.plot(epochs_range, loss, label='Training Loss')\n",
    "plt.plot(epochs_range, val_loss, label='Validation Loss')\n",
    "plt.legend(loc='upper right')\n",
    "plt.title('Training and Validation Loss')\n",
    "plt.show()"
   ]
  },
  {
   "cell_type": "markdown",
   "metadata": {},
   "source": [
    "## Evaluate Model on a new dataset"
   ]
  },
  {
   "cell_type": "code",
   "execution_count": 41,
   "metadata": {},
   "outputs": [
    {
     "name": "stdout",
     "output_type": "stream",
     "text": [
      "237991/237991 [==============================] - 3s 13us/step\n"
     ]
    },
    {
     "data": {
      "text/plain": [
       "[0.049412593830845064, 0.9829069375991821]"
      ]
     },
     "execution_count": 41,
     "metadata": {},
     "output_type": "execute_result"
    }
   ],
   "source": [
    "model1.evaluate(X_test, y = Y_test_binary, batch_size=30, verbose=1)"
   ]
  },
  {
   "cell_type": "code",
   "execution_count": 75,
   "metadata": {},
   "outputs": [],
   "source": [
    "X = X_m\n",
    "Y = Y_m"
   ]
  },
  {
   "cell_type": "code",
   "execution_count": 62,
   "metadata": {},
   "outputs": [],
   "source": [
    "from sklearn.preprocessing import MinMaxScaler,StandardScaler,PowerTransformer\n",
    "\n",
    "scalar = MinMaxScaler()\n",
    "X = scalar.fit_transform(X)"
   ]
  },
  {
   "cell_type": "code",
   "execution_count": 63,
   "metadata": {},
   "outputs": [],
   "source": [
    "def build_poly(x, degree):\n",
    "    \"\"\"polynomial basis functions for input data x, for j=0 up to j=degree.\"\"\"\n",
    "    poly = np.ones((len(x), 1))\n",
    "    for deg in range(1, degree + 1):\n",
    "        poly = np.c_[poly, np.power(x, deg)]\n",
    "    return poly"
   ]
  },
  {
   "cell_type": "code",
   "execution_count": 64,
   "metadata": {},
   "outputs": [
    {
     "data": {
      "text/plain": [
       "(243028, 7)"
      ]
     },
     "execution_count": 64,
     "metadata": {},
     "output_type": "execute_result"
    }
   ],
   "source": [
    "X.shape"
   ]
  },
  {
   "cell_type": "code",
   "execution_count": 65,
   "metadata": {},
   "outputs": [],
   "source": [
    "ratio=0.8\n",
    "train_size=int(dataset.shape[0]*ratio)\n",
    "train_set=X[0:train_size]\n",
    "test_Set=X[train_size:]\n",
    "labels_train=Y[0:train_size]\n",
    "labels_validation=Y[train_size:]\n",
    "x_tr, x_te, y_tr, y_te=split_data(train_set,labels_train,ratio)"
   ]
  },
  {
   "cell_type": "code",
   "execution_count": 66,
   "metadata": {},
   "outputs": [
    {
     "name": "stdout",
     "output_type": "stream",
     "text": [
      "Model: \"sequential_4\"\n",
      "_________________________________________________________________\n",
      "Layer (type)                 Output Shape              Param #   \n",
      "=================================================================\n",
      "dense_12 (Dense)             (None, 25)                200       \n",
      "_________________________________________________________________\n",
      "dense_13 (Dense)             (None, 20)                520       \n",
      "_________________________________________________________________\n",
      "dense_14 (Dense)             (None, 5)                 105       \n",
      "_________________________________________________________________\n",
      "dense_15 (Dense)             (None, 1)                 6         \n",
      "=================================================================\n",
      "Total params: 831\n",
      "Trainable params: 831\n",
      "Non-trainable params: 0\n",
      "_________________________________________________________________\n"
     ]
    }
   ],
   "source": [
    "model2 = Sequential()\n",
    "model2.add(Dense(25,  kernel_initializer='uniform', input_dim=x_tr.shape[1], activation='sigmoid'))\n",
    "model2.add(Dense(20,  kernel_initializer='uniform',input_dim=x_tr.shape[1], activation='relu'))\n",
    "model2.add(Dense(5,  kernel_initializer='uniform',input_dim=x_tr.shape[1], activation='relu'))\n",
    "model2.add(Dense(1, activation='relu'))\n",
    "\n",
    "model2.compile(optimizer='adam',\n",
    "                loss='mean_squared_error',\n",
    "                metrics=['accuracy'])\n",
    "model2.summary()"
   ]
  },
  {
   "cell_type": "code",
   "execution_count": 67,
   "metadata": {},
   "outputs": [
    {
     "name": "stdout",
     "output_type": "stream",
     "text": [
      "Train on 152313 samples, validate on 38079 samples\n",
      "Epoch 1/10\n",
      "152313/152313 [==============================] - 18s 121us/step - loss: 1.0864 - accuracy: 0.3373 - val_loss: 0.8220 - val_accuracy: 0.1509\n",
      "Epoch 2/10\n",
      "152313/152313 [==============================] - 20s 128us/step - loss: 0.4781 - accuracy: 0.5054 - val_loss: 0.3196 - val_accuracy: 0.7351\n",
      "Epoch 3/10\n",
      "152313/152313 [==============================] - 17s 110us/step - loss: 0.3266 - accuracy: 0.7089 - val_loss: 0.3119 - val_accuracy: 0.7348\n",
      "Epoch 4/10\n",
      "152313/152313 [==============================] - 19s 125us/step - loss: 0.3228 - accuracy: 0.7106 - val_loss: 0.3146 - val_accuracy: 0.7289\n",
      "Epoch 5/10\n",
      "152313/152313 [==============================] - 18s 120us/step - loss: 0.3209 - accuracy: 0.7122 - val_loss: 0.3079 - val_accuracy: 0.7353\n",
      "Epoch 6/10\n",
      "152313/152313 [==============================] - 18s 119us/step - loss: 0.3190 - accuracy: 0.7158 - val_loss: 0.3130 - val_accuracy: 0.7305\n",
      "Epoch 7/10\n",
      "152313/152313 [==============================] - 19s 126us/step - loss: 0.3182 - accuracy: 0.7170 - val_loss: 0.3091 - val_accuracy: 0.7351\n",
      "Epoch 8/10\n",
      "152313/152313 [==============================] - 19s 125us/step - loss: 0.3173 - accuracy: 0.7188 - val_loss: 0.3135 - val_accuracy: 0.7288\n",
      "Epoch 9/10\n",
      "152313/152313 [==============================] - 18s 118us/step - loss: 0.3170 - accuracy: 0.7185 - val_loss: 0.3160 - val_accuracy: 0.7240\n",
      "Epoch 10/10\n",
      "152313/152313 [==============================] - 20s 132us/step - loss: 0.3159 - accuracy: 0.7213 - val_loss: 0.3142 - val_accuracy: 0.7255\n"
     ]
    }
   ],
   "source": [
    "history_3classes = model2.fit(x_tr, y_tr, epochs=10, batch_size=10, verbose=1,validation_data = (x_te,y_te))"
   ]
  },
  {
   "cell_type": "code",
   "execution_count": 68,
   "metadata": {},
   "outputs": [
    {
     "data": {
      "image/png": "[encoded data removed]",
      "text/plain": [
       "<Figure size 864x432 with 2 Axes>"
      ]
     },
     "metadata": {
      "needs_background": "light"
     },
     "output_type": "display_data"
    }
   ],
   "source": [
    "acc = history_3classes.history['accuracy']\n",
    "val_acc = history_3classes.history['val_accuracy']\n",
    "\n",
    "loss = history_3classes.history['loss']\n",
    "val_loss = history_3classes.history['val_loss']\n",
    "\n",
    "epochs_range = range(10)\n",
    "\n",
    "plt.figure(figsize=(12, 6))\n",
    "plt.subplot(1, 2, 1)\n",
    "plt.plot(epochs_range, acc, label='Training Accuracy')\n",
    "plt.plot(epochs_range, val_acc, label='Validation Accuracy')\n",
    "plt.legend(loc='lower right')\n",
    "plt.title('Training and Validation Accuracy')\n",
    "\n",
    "plt.subplot(1, 2, 2)\n",
    "plt.plot(epochs_range, loss, label='Training Loss')\n",
    "plt.plot(epochs_range, val_loss, label='Validation Loss')\n",
    "plt.legend(loc='upper right')\n",
    "plt.title('Training and Validation Loss')\n",
    "plt.show()"
   ]
  },
  {
   "cell_type": "code",
   "execution_count": 70,
   "metadata": {},
   "outputs": [
    {
     "name": "stdout",
     "output_type": "stream",
     "text": [
      "237991/237991 [==============================] - 9s 36us/step\n"
     ]
    },
    {
     "data": {
      "text/plain": [
       "[0.31623133037151696, 0.6317843794822693]"
      ]
     },
     "execution_count": 70,
     "metadata": {},
     "output_type": "execute_result"
    }
   ],
   "source": [
    "scalar2 = MinMaxScaler()\n",
    "X_test3 = scalar2.fit_transform(X_test)\n",
    "model2.evaluate(X_test3, y = Y_test, batch_size=10, verbose=1)"
   ]
  },
  {
   "cell_type": "markdown",
   "metadata": {},
   "source": [
    "# Regression"
   ]
  },
  {
   "cell_type": "code",
   "execution_count": 76,
   "metadata": {},
   "outputs": [],
   "source": [
    "X = X_m\n",
    "Y = Y_m\n",
    "scalar = MinMaxScaler()\n",
    "X = scalar.fit_transform(X)\n",
    "sinx = np.sin(X)\n",
    "cosx = np.cos(X)\n",
    "ex = np.exp(X)\n",
    "X = np.append(X,sinx,axis=1)\n",
    "X = np.append(X,cosx,axis=1)\n",
    "X = np.append(X,ex,axis=1)\n",
    "X = build_poly(X, 5)"
   ]
  },
  {
   "cell_type": "code",
   "execution_count": 77,
   "metadata": {},
   "outputs": [],
   "source": [
    "X_test_reg = X_test.copy()\n",
    "scalar = MinMaxScaler()\n",
    "X_test_reg = scalar.fit_transform(X_test_reg)"
   ]
  },
  {
   "cell_type": "code",
   "execution_count": 78,
   "metadata": {},
   "outputs": [],
   "source": [
    "sinx = np.sin(X_test_reg)\n",
    "cosx = np.cos(X_test_reg)\n",
    "ex = np.exp(X_test_reg)\n",
    "X_test_reg = np.append(X_test_reg,sinx,axis=1)\n",
    "X_test_reg = np.append(X_test_reg,cosx,axis=1)\n",
    "X_test_reg = np.append(X_test_reg,ex,axis=1)\n",
    "X_test_reg = build_poly(X_test_reg, 5)"
   ]
  },
  {
   "cell_type": "code",
   "execution_count": 79,
   "metadata": {},
   "outputs": [
    {
     "data": {
      "text/plain": [
       "Ridge(alpha=0.01, copy_X=True, fit_intercept=True, max_iter=100000000.0,\n",
       "      normalize=True, random_state=None, solver='auto', tol=1e-08)"
      ]
     },
     "execution_count": 79,
     "metadata": {},
     "output_type": "execute_result"
    }
   ],
   "source": [
    "from sklearn.linear_model import Ridge,SGDRegressor,LinearRegression\n",
    "clf = Ridge(alpha = 1e-2,max_iter = 1e8,normalize = True, tol = 1e-8)\n",
    "clf.fit(X, Y)"
   ]
  },
  {
   "cell_type": "code",
   "execution_count": 80,
   "metadata": {},
   "outputs": [],
   "source": [
    "y_pred = clf.predict(X_test_reg)"
   ]
  },
  {
   "cell_type": "code",
   "execution_count": 81,
   "metadata": {},
   "outputs": [
    {
     "data": {
      "text/plain": [
       "0.4833138523703179"
      ]
     },
     "execution_count": 81,
     "metadata": {},
     "output_type": "execute_result"
    }
   ],
   "source": [
    "from sklearn.metrics import mean_squared_error,r2_score,accuracy_score\n",
    "mean_squared_error(Y_test, y_pred)"
   ]
  },
  {
   "cell_type": "code",
   "execution_count": 82,
   "metadata": {},
   "outputs": [
    {
     "data": {
      "text/plain": [
       "0.6597118022481883"
      ]
     },
     "execution_count": 82,
     "metadata": {},
     "output_type": "execute_result"
    }
   ],
   "source": [
    "r2_score( Y_test, y_pred)"
   ]
  },
  {
   "cell_type": "code",
   "execution_count": 84,
   "metadata": {},
   "outputs": [
    {
     "data": {
      "text/plain": [
       "(243028, 141)"
      ]
     },
     "execution_count": 84,
     "metadata": {},
     "output_type": "execute_result"
    }
   ],
   "source": [
    "X.shape"
   ]
  }
 ],
 "metadata": {
  "kernelspec": {
   "display_name": "Python 3",
   "language": "python",
   "name": "python3"
  },
  "language_info": {
   "codemirror_mode": {
    "name": "ipython",
    "version": 3
   },
   "file_extension": ".py",
   "mimetype": "text/x-python",
   "name": "python",
   "nbconvert_exporter": "python",
   "pygments_lexer": "ipython3",
   "version": "3.7.4"
  }
 },
 "nbformat": 4,
 "nbformat_minor": 4
}
